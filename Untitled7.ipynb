{
 "cells": [
  {
   "cell_type": "code",
   "execution_count": 1,
   "metadata": {
    "id": "bvZS3EltBylc",
    "pycharm": {
     "name": "#%%\n"
    }
   },
   "outputs": [],
   "source": [
    "import numpy as np\n",
    "import pandas as pd\n",
    "from sklearn.model_selection import train_test_split, GridSearchCV\n",
    "from sklearn.tree import DecisionTreeRegressor\n",
    "from sklearn.preprocessing import StandardScaler\n",
    "from sklearn.compose import ColumnTransformer\n",
    "from sklearn.pipeline import Pipeline\n",
    "from sklearn.metrics import mean_squared_error, r2_score\n",
    "import matplotlib.pyplot as plt\n",
    "from sklearn.preprocessing import StandardScaler\n",
    "from sklearn.ensemble import IsolationForest\n",
    "from sklearn.model_selection import RepeatedKFold, GridSearchCV, cross_val_score\n",
    "from sklearn.tree import DecisionTreeRegressor\n",
    "from sklearn.svm import SVR\n",
    "from sklearn.ensemble import RandomForestRegressor\n",
    "from sklearn.metrics import mean_squared_error\n",
    "\n",
    "\n",
    "spotify_song_data= pd.read_csv(\"/Users/chenhan/Desktop/521/song_data.csv\")\n",
    "spotify_song_info= pd.read_csv(\"/Users/chenhan/Desktop/521/song_info.csv\")"
   ]
  },
  {
   "cell_type": "code",
   "execution_count": 2,
   "metadata": {
    "id": "fMWK1Mr9qHIr",
    "pycharm": {
     "name": "#%%\n"
    }
   },
   "outputs": [
    {
     "data": {
      "text/plain": "                        song_name            artist_name  \\\n0      Boulevard of Broken Dreams              Green Day   \n1                      In The End            Linkin Park   \n2               Seven Nation Army      The White Stripes   \n3                      By The Way  Red Hot Chili Peppers   \n4               How You Remind Me             Nickelback   \n...                           ...                    ...   \n18830              Let It Breathe            Water Liars   \n18831                     Answers        Brooke Annibale   \n18832      Sudden Love (Acoustic)          The Woodlands   \n18833           Gentle on My Mind           Robert Ellis   \n18834                    Up to Me           Sera Cahoone   \n\n                              album_names                   playlist  \n0      Greatest Hits: God's Favorite Band           00s Rock Anthems  \n1                           Hybrid Theory           00s Rock Anthems  \n2                                Elephant           00s Rock Anthems  \n3             By The Way (Deluxe Version)           00s Rock Anthems  \n4                          Silver Side Up           00s Rock Anthems  \n...                                   ...                        ...  \n18830                         Water Liars  Your Favorite Coffeehouse  \n18831                     The Simple Fear  Your Favorite Coffeehouse  \n18832                  Parallels, Vol. II  Your Favorite Coffeehouse  \n18833                           Dear John  Your Favorite Coffeehouse  \n18834                            Up to Me  Your Favorite Coffeehouse  \n\n[18835 rows x 4 columns]",
      "text/html": "<div>\n<style scoped>\n    .dataframe tbody tr th:only-of-type {\n        vertical-align: middle;\n    }\n\n    .dataframe tbody tr th {\n        vertical-align: top;\n    }\n\n    .dataframe thead th {\n        text-align: right;\n    }\n</style>\n<table border=\"1\" class=\"dataframe\">\n  <thead>\n    <tr style=\"text-align: right;\">\n      <th></th>\n      <th>song_name</th>\n      <th>artist_name</th>\n      <th>album_names</th>\n      <th>playlist</th>\n    </tr>\n  </thead>\n  <tbody>\n    <tr>\n      <th>0</th>\n      <td>Boulevard of Broken Dreams</td>\n      <td>Green Day</td>\n      <td>Greatest Hits: God's Favorite Band</td>\n      <td>00s Rock Anthems</td>\n    </tr>\n    <tr>\n      <th>1</th>\n      <td>In The End</td>\n      <td>Linkin Park</td>\n      <td>Hybrid Theory</td>\n      <td>00s Rock Anthems</td>\n    </tr>\n    <tr>\n      <th>2</th>\n      <td>Seven Nation Army</td>\n      <td>The White Stripes</td>\n      <td>Elephant</td>\n      <td>00s Rock Anthems</td>\n    </tr>\n    <tr>\n      <th>3</th>\n      <td>By The Way</td>\n      <td>Red Hot Chili Peppers</td>\n      <td>By The Way (Deluxe Version)</td>\n      <td>00s Rock Anthems</td>\n    </tr>\n    <tr>\n      <th>4</th>\n      <td>How You Remind Me</td>\n      <td>Nickelback</td>\n      <td>Silver Side Up</td>\n      <td>00s Rock Anthems</td>\n    </tr>\n    <tr>\n      <th>...</th>\n      <td>...</td>\n      <td>...</td>\n      <td>...</td>\n      <td>...</td>\n    </tr>\n    <tr>\n      <th>18830</th>\n      <td>Let It Breathe</td>\n      <td>Water Liars</td>\n      <td>Water Liars</td>\n      <td>Your Favorite Coffeehouse</td>\n    </tr>\n    <tr>\n      <th>18831</th>\n      <td>Answers</td>\n      <td>Brooke Annibale</td>\n      <td>The Simple Fear</td>\n      <td>Your Favorite Coffeehouse</td>\n    </tr>\n    <tr>\n      <th>18832</th>\n      <td>Sudden Love (Acoustic)</td>\n      <td>The Woodlands</td>\n      <td>Parallels, Vol. II</td>\n      <td>Your Favorite Coffeehouse</td>\n    </tr>\n    <tr>\n      <th>18833</th>\n      <td>Gentle on My Mind</td>\n      <td>Robert Ellis</td>\n      <td>Dear John</td>\n      <td>Your Favorite Coffeehouse</td>\n    </tr>\n    <tr>\n      <th>18834</th>\n      <td>Up to Me</td>\n      <td>Sera Cahoone</td>\n      <td>Up to Me</td>\n      <td>Your Favorite Coffeehouse</td>\n    </tr>\n  </tbody>\n</table>\n<p>18835 rows × 4 columns</p>\n</div>"
     },
     "execution_count": 2,
     "metadata": {},
     "output_type": "execute_result"
    }
   ],
   "source": [
    "spotify_song_info"
   ]
  },
  {
   "cell_type": "code",
   "execution_count": 3,
   "metadata": {
    "id": "KOkYIGMptUtc",
    "pycharm": {
     "name": "#%%\n"
    }
   },
   "outputs": [
    {
     "data": {
      "text/plain": "                     song_name  song_popularity  song_duration_ms  \\\n0   Boulevard of Broken Dreams               73            262333   \n1                   In The End               66            216933   \n2            Seven Nation Army               76            231733   \n3                   By The Way               74            216933   \n4            How You Remind Me               56            223826   \n5             Bring Me To Life               80            235893   \n6                  Last Resort               81            199893   \n7     Are You Gonna Be My Girl               76            213800   \n8               Mr. Brightside               80            222586   \n9                  Sex on Fire               81            203346   \n10                  The Middle               78            168253   \n11                        Numb               63            185586   \n12             Smooth Criminal               75            209266   \n13                  Can't Stop               81            269000   \n14                  Chop Suey!               69            210240   \n15                 Take Me Out               77            237026   \n16                  I Miss You               71            227240   \n17                 Best of You               62            256600   \n18  I Write Sins Not Tragedies               77            187613   \n19                  Kryptonite               79            233933   \n\n    acousticness  danceability  energy  instrumentalness  key  liveness  \\\n0       0.005520         0.496   0.682          0.000029    8    0.0589   \n1       0.010300         0.542   0.853          0.000000    3    0.1080   \n2       0.008170         0.737   0.463          0.447000    0    0.2550   \n3       0.026400         0.451   0.970          0.003550    0    0.1020   \n4       0.000954         0.447   0.766          0.000000   10    0.1130   \n5       0.008950         0.316   0.945          0.000002    4    0.3960   \n6       0.000504         0.581   0.887          0.001110    4    0.2680   \n7       0.001480         0.613   0.953          0.000582    2    0.1520   \n8       0.001080         0.330   0.936          0.000000    1    0.0926   \n9       0.001720         0.542   0.905          0.010400    9    0.1360   \n10      0.042400         0.629   0.897          0.000000    2    0.2630   \n11      0.004600         0.496   0.863          0.000000    9    0.6390   \n12      0.004340         0.647   0.964          0.003600    9    0.1500   \n13      0.017900         0.618   0.938          0.000000    9    0.1670   \n14      0.000353         0.420   0.929          0.000747    7    0.1220   \n15      0.000423         0.278   0.676          0.000899    9    0.1360   \n16      0.001360         0.659   0.778          0.000007   11    0.0841   \n17      0.007010         0.370   0.944          0.000003    1    0.1350   \n18      0.093800         0.567   0.795          0.000000    9    0.1140   \n19      0.006640         0.545   0.865          0.000011   11    0.1680   \n\n    loudness  audio_mode  speechiness    tempo  time_signature  audio_valence  \n0     -4.095           1       0.0294  167.060               4          0.474  \n1     -6.407           0       0.0498  105.256               4          0.370  \n2     -7.828           1       0.0792  123.881               4          0.324  \n3     -4.938           1       0.1070  122.444               4          0.198  \n4     -5.065           1       0.0313  172.011               4          0.574  \n5     -3.169           0       0.1240  189.931               4          0.320  \n6     -3.659           0       0.0624   90.578               4          0.724  \n7     -3.435           1       0.0855  105.046               4          0.537  \n8     -3.660           1       0.0917  148.112               4          0.234  \n9     -5.653           1       0.0540  153.398               4          0.374  \n10    -3.401           1       0.0483  161.944               4          0.930  \n11    -4.153           1       0.0381  110.018               4          0.243  \n12    -4.225           0       0.0600  126.942               4          0.875  \n13    -3.442           1       0.0456   91.455               4          0.875  \n14    -3.899           0       0.1210  127.204               4          0.300  \n15    -8.821           1       0.0371  104.545               4          0.494  \n16    -6.423           1       0.0379  110.022               4          0.623  \n17    -4.979           0       0.0767  130.315               4          0.345  \n18    -4.985           0       0.1340  170.060               4          0.635  \n19    -5.708           0       0.0286   99.010               4          0.543  ",
      "text/html": "<div>\n<style scoped>\n    .dataframe tbody tr th:only-of-type {\n        vertical-align: middle;\n    }\n\n    .dataframe tbody tr th {\n        vertical-align: top;\n    }\n\n    .dataframe thead th {\n        text-align: right;\n    }\n</style>\n<table border=\"1\" class=\"dataframe\">\n  <thead>\n    <tr style=\"text-align: right;\">\n      <th></th>\n      <th>song_name</th>\n      <th>song_popularity</th>\n      <th>song_duration_ms</th>\n      <th>acousticness</th>\n      <th>danceability</th>\n      <th>energy</th>\n      <th>instrumentalness</th>\n      <th>key</th>\n      <th>liveness</th>\n      <th>loudness</th>\n      <th>audio_mode</th>\n      <th>speechiness</th>\n      <th>tempo</th>\n      <th>time_signature</th>\n      <th>audio_valence</th>\n    </tr>\n  </thead>\n  <tbody>\n    <tr>\n      <th>0</th>\n      <td>Boulevard of Broken Dreams</td>\n      <td>73</td>\n      <td>262333</td>\n      <td>0.005520</td>\n      <td>0.496</td>\n      <td>0.682</td>\n      <td>0.000029</td>\n      <td>8</td>\n      <td>0.0589</td>\n      <td>-4.095</td>\n      <td>1</td>\n      <td>0.0294</td>\n      <td>167.060</td>\n      <td>4</td>\n      <td>0.474</td>\n    </tr>\n    <tr>\n      <th>1</th>\n      <td>In The End</td>\n      <td>66</td>\n      <td>216933</td>\n      <td>0.010300</td>\n      <td>0.542</td>\n      <td>0.853</td>\n      <td>0.000000</td>\n      <td>3</td>\n      <td>0.1080</td>\n      <td>-6.407</td>\n      <td>0</td>\n      <td>0.0498</td>\n      <td>105.256</td>\n      <td>4</td>\n      <td>0.370</td>\n    </tr>\n    <tr>\n      <th>2</th>\n      <td>Seven Nation Army</td>\n      <td>76</td>\n      <td>231733</td>\n      <td>0.008170</td>\n      <td>0.737</td>\n      <td>0.463</td>\n      <td>0.447000</td>\n      <td>0</td>\n      <td>0.2550</td>\n      <td>-7.828</td>\n      <td>1</td>\n      <td>0.0792</td>\n      <td>123.881</td>\n      <td>4</td>\n      <td>0.324</td>\n    </tr>\n    <tr>\n      <th>3</th>\n      <td>By The Way</td>\n      <td>74</td>\n      <td>216933</td>\n      <td>0.026400</td>\n      <td>0.451</td>\n      <td>0.970</td>\n      <td>0.003550</td>\n      <td>0</td>\n      <td>0.1020</td>\n      <td>-4.938</td>\n      <td>1</td>\n      <td>0.1070</td>\n      <td>122.444</td>\n      <td>4</td>\n      <td>0.198</td>\n    </tr>\n    <tr>\n      <th>4</th>\n      <td>How You Remind Me</td>\n      <td>56</td>\n      <td>223826</td>\n      <td>0.000954</td>\n      <td>0.447</td>\n      <td>0.766</td>\n      <td>0.000000</td>\n      <td>10</td>\n      <td>0.1130</td>\n      <td>-5.065</td>\n      <td>1</td>\n      <td>0.0313</td>\n      <td>172.011</td>\n      <td>4</td>\n      <td>0.574</td>\n    </tr>\n    <tr>\n      <th>5</th>\n      <td>Bring Me To Life</td>\n      <td>80</td>\n      <td>235893</td>\n      <td>0.008950</td>\n      <td>0.316</td>\n      <td>0.945</td>\n      <td>0.000002</td>\n      <td>4</td>\n      <td>0.3960</td>\n      <td>-3.169</td>\n      <td>0</td>\n      <td>0.1240</td>\n      <td>189.931</td>\n      <td>4</td>\n      <td>0.320</td>\n    </tr>\n    <tr>\n      <th>6</th>\n      <td>Last Resort</td>\n      <td>81</td>\n      <td>199893</td>\n      <td>0.000504</td>\n      <td>0.581</td>\n      <td>0.887</td>\n      <td>0.001110</td>\n      <td>4</td>\n      <td>0.2680</td>\n      <td>-3.659</td>\n      <td>0</td>\n      <td>0.0624</td>\n      <td>90.578</td>\n      <td>4</td>\n      <td>0.724</td>\n    </tr>\n    <tr>\n      <th>7</th>\n      <td>Are You Gonna Be My Girl</td>\n      <td>76</td>\n      <td>213800</td>\n      <td>0.001480</td>\n      <td>0.613</td>\n      <td>0.953</td>\n      <td>0.000582</td>\n      <td>2</td>\n      <td>0.1520</td>\n      <td>-3.435</td>\n      <td>1</td>\n      <td>0.0855</td>\n      <td>105.046</td>\n      <td>4</td>\n      <td>0.537</td>\n    </tr>\n    <tr>\n      <th>8</th>\n      <td>Mr. Brightside</td>\n      <td>80</td>\n      <td>222586</td>\n      <td>0.001080</td>\n      <td>0.330</td>\n      <td>0.936</td>\n      <td>0.000000</td>\n      <td>1</td>\n      <td>0.0926</td>\n      <td>-3.660</td>\n      <td>1</td>\n      <td>0.0917</td>\n      <td>148.112</td>\n      <td>4</td>\n      <td>0.234</td>\n    </tr>\n    <tr>\n      <th>9</th>\n      <td>Sex on Fire</td>\n      <td>81</td>\n      <td>203346</td>\n      <td>0.001720</td>\n      <td>0.542</td>\n      <td>0.905</td>\n      <td>0.010400</td>\n      <td>9</td>\n      <td>0.1360</td>\n      <td>-5.653</td>\n      <td>1</td>\n      <td>0.0540</td>\n      <td>153.398</td>\n      <td>4</td>\n      <td>0.374</td>\n    </tr>\n    <tr>\n      <th>10</th>\n      <td>The Middle</td>\n      <td>78</td>\n      <td>168253</td>\n      <td>0.042400</td>\n      <td>0.629</td>\n      <td>0.897</td>\n      <td>0.000000</td>\n      <td>2</td>\n      <td>0.2630</td>\n      <td>-3.401</td>\n      <td>1</td>\n      <td>0.0483</td>\n      <td>161.944</td>\n      <td>4</td>\n      <td>0.930</td>\n    </tr>\n    <tr>\n      <th>11</th>\n      <td>Numb</td>\n      <td>63</td>\n      <td>185586</td>\n      <td>0.004600</td>\n      <td>0.496</td>\n      <td>0.863</td>\n      <td>0.000000</td>\n      <td>9</td>\n      <td>0.6390</td>\n      <td>-4.153</td>\n      <td>1</td>\n      <td>0.0381</td>\n      <td>110.018</td>\n      <td>4</td>\n      <td>0.243</td>\n    </tr>\n    <tr>\n      <th>12</th>\n      <td>Smooth Criminal</td>\n      <td>75</td>\n      <td>209266</td>\n      <td>0.004340</td>\n      <td>0.647</td>\n      <td>0.964</td>\n      <td>0.003600</td>\n      <td>9</td>\n      <td>0.1500</td>\n      <td>-4.225</td>\n      <td>0</td>\n      <td>0.0600</td>\n      <td>126.942</td>\n      <td>4</td>\n      <td>0.875</td>\n    </tr>\n    <tr>\n      <th>13</th>\n      <td>Can't Stop</td>\n      <td>81</td>\n      <td>269000</td>\n      <td>0.017900</td>\n      <td>0.618</td>\n      <td>0.938</td>\n      <td>0.000000</td>\n      <td>9</td>\n      <td>0.1670</td>\n      <td>-3.442</td>\n      <td>1</td>\n      <td>0.0456</td>\n      <td>91.455</td>\n      <td>4</td>\n      <td>0.875</td>\n    </tr>\n    <tr>\n      <th>14</th>\n      <td>Chop Suey!</td>\n      <td>69</td>\n      <td>210240</td>\n      <td>0.000353</td>\n      <td>0.420</td>\n      <td>0.929</td>\n      <td>0.000747</td>\n      <td>7</td>\n      <td>0.1220</td>\n      <td>-3.899</td>\n      <td>0</td>\n      <td>0.1210</td>\n      <td>127.204</td>\n      <td>4</td>\n      <td>0.300</td>\n    </tr>\n    <tr>\n      <th>15</th>\n      <td>Take Me Out</td>\n      <td>77</td>\n      <td>237026</td>\n      <td>0.000423</td>\n      <td>0.278</td>\n      <td>0.676</td>\n      <td>0.000899</td>\n      <td>9</td>\n      <td>0.1360</td>\n      <td>-8.821</td>\n      <td>1</td>\n      <td>0.0371</td>\n      <td>104.545</td>\n      <td>4</td>\n      <td>0.494</td>\n    </tr>\n    <tr>\n      <th>16</th>\n      <td>I Miss You</td>\n      <td>71</td>\n      <td>227240</td>\n      <td>0.001360</td>\n      <td>0.659</td>\n      <td>0.778</td>\n      <td>0.000007</td>\n      <td>11</td>\n      <td>0.0841</td>\n      <td>-6.423</td>\n      <td>1</td>\n      <td>0.0379</td>\n      <td>110.022</td>\n      <td>4</td>\n      <td>0.623</td>\n    </tr>\n    <tr>\n      <th>17</th>\n      <td>Best of You</td>\n      <td>62</td>\n      <td>256600</td>\n      <td>0.007010</td>\n      <td>0.370</td>\n      <td>0.944</td>\n      <td>0.000003</td>\n      <td>1</td>\n      <td>0.1350</td>\n      <td>-4.979</td>\n      <td>0</td>\n      <td>0.0767</td>\n      <td>130.315</td>\n      <td>4</td>\n      <td>0.345</td>\n    </tr>\n    <tr>\n      <th>18</th>\n      <td>I Write Sins Not Tragedies</td>\n      <td>77</td>\n      <td>187613</td>\n      <td>0.093800</td>\n      <td>0.567</td>\n      <td>0.795</td>\n      <td>0.000000</td>\n      <td>9</td>\n      <td>0.1140</td>\n      <td>-4.985</td>\n      <td>0</td>\n      <td>0.1340</td>\n      <td>170.060</td>\n      <td>4</td>\n      <td>0.635</td>\n    </tr>\n    <tr>\n      <th>19</th>\n      <td>Kryptonite</td>\n      <td>79</td>\n      <td>233933</td>\n      <td>0.006640</td>\n      <td>0.545</td>\n      <td>0.865</td>\n      <td>0.000011</td>\n      <td>11</td>\n      <td>0.1680</td>\n      <td>-5.708</td>\n      <td>0</td>\n      <td>0.0286</td>\n      <td>99.010</td>\n      <td>4</td>\n      <td>0.543</td>\n    </tr>\n  </tbody>\n</table>\n</div>"
     },
     "execution_count": 3,
     "metadata": {},
     "output_type": "execute_result"
    }
   ],
   "source": [
    "spotify_song_data.head(20)"
   ]
  },
  {
   "cell_type": "code",
   "execution_count": 4,
   "metadata": {
    "id": "55gEkne-Dp69",
    "pycharm": {
     "name": "#%%\n"
    }
   },
   "outputs": [],
   "source": [
    "song_info=spotify_song_info.copy()"
   ]
  },
  {
   "cell_type": "code",
   "execution_count": 5,
   "metadata": {
    "id": "XSXlpcTakrNg",
    "pycharm": {
     "name": "#%%\n"
    }
   },
   "outputs": [
    {
     "data": {
      "text/plain": "                    song_name  song_popularity  song_duration_ms  \\\n0  Boulevard of Broken Dreams               73            262333   \n1                  In The End               66            216933   \n2           Seven Nation Army               76            231733   \n\n   acousticness  danceability  energy  instrumentalness  key  liveness  \\\n0       0.00552         0.496   0.682          0.000029    8    0.0589   \n1       0.01030         0.542   0.853          0.000000    3    0.1080   \n2       0.00817         0.737   0.463          0.447000    0    0.2550   \n\n   loudness  audio_mode  speechiness    tempo  time_signature  audio_valence  \n0    -4.095           1       0.0294  167.060               4          0.474  \n1    -6.407           0       0.0498  105.256               4          0.370  \n2    -7.828           1       0.0792  123.881               4          0.324  ",
      "text/html": "<div>\n<style scoped>\n    .dataframe tbody tr th:only-of-type {\n        vertical-align: middle;\n    }\n\n    .dataframe tbody tr th {\n        vertical-align: top;\n    }\n\n    .dataframe thead th {\n        text-align: right;\n    }\n</style>\n<table border=\"1\" class=\"dataframe\">\n  <thead>\n    <tr style=\"text-align: right;\">\n      <th></th>\n      <th>song_name</th>\n      <th>song_popularity</th>\n      <th>song_duration_ms</th>\n      <th>acousticness</th>\n      <th>danceability</th>\n      <th>energy</th>\n      <th>instrumentalness</th>\n      <th>key</th>\n      <th>liveness</th>\n      <th>loudness</th>\n      <th>audio_mode</th>\n      <th>speechiness</th>\n      <th>tempo</th>\n      <th>time_signature</th>\n      <th>audio_valence</th>\n    </tr>\n  </thead>\n  <tbody>\n    <tr>\n      <th>0</th>\n      <td>Boulevard of Broken Dreams</td>\n      <td>73</td>\n      <td>262333</td>\n      <td>0.00552</td>\n      <td>0.496</td>\n      <td>0.682</td>\n      <td>0.000029</td>\n      <td>8</td>\n      <td>0.0589</td>\n      <td>-4.095</td>\n      <td>1</td>\n      <td>0.0294</td>\n      <td>167.060</td>\n      <td>4</td>\n      <td>0.474</td>\n    </tr>\n    <tr>\n      <th>1</th>\n      <td>In The End</td>\n      <td>66</td>\n      <td>216933</td>\n      <td>0.01030</td>\n      <td>0.542</td>\n      <td>0.853</td>\n      <td>0.000000</td>\n      <td>3</td>\n      <td>0.1080</td>\n      <td>-6.407</td>\n      <td>0</td>\n      <td>0.0498</td>\n      <td>105.256</td>\n      <td>4</td>\n      <td>0.370</td>\n    </tr>\n    <tr>\n      <th>2</th>\n      <td>Seven Nation Army</td>\n      <td>76</td>\n      <td>231733</td>\n      <td>0.00817</td>\n      <td>0.737</td>\n      <td>0.463</td>\n      <td>0.447000</td>\n      <td>0</td>\n      <td>0.2550</td>\n      <td>-7.828</td>\n      <td>1</td>\n      <td>0.0792</td>\n      <td>123.881</td>\n      <td>4</td>\n      <td>0.324</td>\n    </tr>\n  </tbody>\n</table>\n</div>"
     },
     "execution_count": 5,
     "metadata": {},
     "output_type": "execute_result"
    }
   ],
   "source": [
    "song_data=spotify_song_data.copy()\n",
    "song_data.head(3)"
   ]
  },
  {
   "cell_type": "code",
   "execution_count": 6,
   "metadata": {
    "id": "Qu1Uzo-hkrXO",
    "pycharm": {
     "name": "#%%\n"
    }
   },
   "outputs": [
    {
     "data": {
      "text/plain": "(18835, 15)"
     },
     "execution_count": 6,
     "metadata": {},
     "output_type": "execute_result"
    }
   ],
   "source": [
    "song_data.shape"
   ]
  },
  {
   "cell_type": "markdown",
   "metadata": {
    "id": "uwGuaDCr4FjL",
    "pycharm": {
     "name": "#%% md\n"
    }
   },
   "source": [
    "# Clean the data"
   ]
  },
  {
   "cell_type": "code",
   "execution_count": 7,
   "metadata": {
    "id": "JSDtUEQPkrdr",
    "pycharm": {
     "name": "#%%\n"
    }
   },
   "outputs": [
    {
     "data": {
      "text/plain": "Index([], dtype='object')"
     },
     "execution_count": 7,
     "metadata": {},
     "output_type": "execute_result"
    }
   ],
   "source": [
    "song_data.columns[song_data.isnull().any()]"
   ]
  },
  {
   "cell_type": "code",
   "execution_count": 8,
   "metadata": {
    "id": "0KaVjB5nkrf9",
    "pycharm": {
     "name": "#%%\n"
    }
   },
   "outputs": [
    {
     "data": {
      "text/plain": "song_name           0\nsong_popularity     0\nsong_duration_ms    0\nacousticness        0\ndanceability        0\nenergy              0\ninstrumentalness    0\nkey                 0\nliveness            0\nloudness            0\naudio_mode          0\nspeechiness         0\ntempo               0\ntime_signature      0\naudio_valence       0\ndtype: int64"
     },
     "execution_count": 8,
     "metadata": {},
     "output_type": "execute_result"
    }
   ],
   "source": [
    "song_data.isnull().sum()"
   ]
  },
  {
   "cell_type": "code",
   "execution_count": 9,
   "metadata": {
    "id": "GwIz4Rd3krib",
    "pycharm": {
     "name": "#%%\n"
    }
   },
   "outputs": [
    {
     "name": "stdout",
     "output_type": "stream",
     "text": [
      "<class 'pandas.core.frame.DataFrame'>\n",
      "RangeIndex: 18835 entries, 0 to 18834\n",
      "Data columns (total 15 columns):\n",
      " #   Column            Non-Null Count  Dtype  \n",
      "---  ------            --------------  -----  \n",
      " 0   song_name         18835 non-null  object \n",
      " 1   song_popularity   18835 non-null  int64  \n",
      " 2   song_duration_ms  18835 non-null  int64  \n",
      " 3   acousticness      18835 non-null  float64\n",
      " 4   danceability      18835 non-null  float64\n",
      " 5   energy            18835 non-null  float64\n",
      " 6   instrumentalness  18835 non-null  float64\n",
      " 7   key               18835 non-null  int64  \n",
      " 8   liveness          18835 non-null  float64\n",
      " 9   loudness          18835 non-null  float64\n",
      " 10  audio_mode        18835 non-null  int64  \n",
      " 11  speechiness       18835 non-null  float64\n",
      " 12  tempo             18835 non-null  float64\n",
      " 13  time_signature    18835 non-null  int64  \n",
      " 14  audio_valence     18835 non-null  float64\n",
      "dtypes: float64(9), int64(5), object(1)\n",
      "memory usage: 2.2+ MB\n"
     ]
    }
   ],
   "source": [
    "song_data.info()"
   ]
  },
  {
   "cell_type": "code",
   "execution_count": 10,
   "metadata": {
    "id": "KDVNnoUEkrlH",
    "pycharm": {
     "name": "#%%\n"
    }
   },
   "outputs": [],
   "source": [
    "song_data.song_duration_ms= song_data.song_duration_ms.astype(float)\n",
    "song_data.time_signature= song_data.time_signature.astype(float)\n",
    "song_data.audio_mode= song_data.audio_mode.astype(float)"
   ]
  },
  {
   "cell_type": "code",
   "execution_count": 11,
   "metadata": {
    "id": "x2Ou_ClckrnV",
    "pycharm": {
     "name": "#%%\n"
    }
   },
   "outputs": [
    {
     "data": {
      "text/plain": "       song_popularity  song_duration_ms  acousticness  danceability  \\\ncount     18835.000000      1.883500e+04  18835.000000  18835.000000   \nmean         52.991877      2.182116e+05      0.258539      0.633348   \nstd          21.905654      5.988754e+04      0.288719      0.156723   \nmin           0.000000      1.200000e+04      0.000001      0.000000   \n25%          40.000000      1.843395e+05      0.024100      0.533000   \n50%          56.000000      2.113060e+05      0.132000      0.645000   \n75%          69.000000      2.428440e+05      0.424000      0.748000   \nmax         100.000000      1.799346e+06      0.996000      0.987000   \n\n             energy  instrumentalness           key      liveness  \\\ncount  18835.000000      18835.000000  18835.000000  18835.000000   \nmean       0.644995          0.078008      5.289196      0.179650   \nstd        0.214101          0.221591      3.614595      0.143984   \nmin        0.001070          0.000000      0.000000      0.010900   \n25%        0.510000          0.000000      2.000000      0.092900   \n50%        0.674000          0.000011      5.000000      0.122000   \n75%        0.815000          0.002570      8.000000      0.221000   \nmax        0.999000          0.997000     11.000000      0.986000   \n\n           loudness    audio_mode   speechiness         tempo  time_signature  \\\ncount  18835.000000  18835.000000  18835.000000  18835.000000    18835.000000   \nmean      -7.447435      0.628139      0.102099    121.073154        3.959119   \nstd        3.827831      0.483314      0.104378     28.714456        0.298533   \nmin      -38.768000      0.000000      0.000000      0.000000        0.000000   \n25%       -9.044000      0.000000      0.037800     98.368000        4.000000   \n50%       -6.555000      1.000000      0.055500    120.013000        4.000000   \n75%       -4.908000      1.000000      0.119000    139.931000        4.000000   \nmax        1.585000      1.000000      0.941000    242.318000        5.000000   \n\n       audio_valence  \ncount   18835.000000  \nmean        0.527967  \nstd         0.244632  \nmin         0.000000  \n25%         0.335000  \n50%         0.527000  \n75%         0.725000  \nmax         0.984000  ",
      "text/html": "<div>\n<style scoped>\n    .dataframe tbody tr th:only-of-type {\n        vertical-align: middle;\n    }\n\n    .dataframe tbody tr th {\n        vertical-align: top;\n    }\n\n    .dataframe thead th {\n        text-align: right;\n    }\n</style>\n<table border=\"1\" class=\"dataframe\">\n  <thead>\n    <tr style=\"text-align: right;\">\n      <th></th>\n      <th>song_popularity</th>\n      <th>song_duration_ms</th>\n      <th>acousticness</th>\n      <th>danceability</th>\n      <th>energy</th>\n      <th>instrumentalness</th>\n      <th>key</th>\n      <th>liveness</th>\n      <th>loudness</th>\n      <th>audio_mode</th>\n      <th>speechiness</th>\n      <th>tempo</th>\n      <th>time_signature</th>\n      <th>audio_valence</th>\n    </tr>\n  </thead>\n  <tbody>\n    <tr>\n      <th>count</th>\n      <td>18835.000000</td>\n      <td>1.883500e+04</td>\n      <td>18835.000000</td>\n      <td>18835.000000</td>\n      <td>18835.000000</td>\n      <td>18835.000000</td>\n      <td>18835.000000</td>\n      <td>18835.000000</td>\n      <td>18835.000000</td>\n      <td>18835.000000</td>\n      <td>18835.000000</td>\n      <td>18835.000000</td>\n      <td>18835.000000</td>\n      <td>18835.000000</td>\n    </tr>\n    <tr>\n      <th>mean</th>\n      <td>52.991877</td>\n      <td>2.182116e+05</td>\n      <td>0.258539</td>\n      <td>0.633348</td>\n      <td>0.644995</td>\n      <td>0.078008</td>\n      <td>5.289196</td>\n      <td>0.179650</td>\n      <td>-7.447435</td>\n      <td>0.628139</td>\n      <td>0.102099</td>\n      <td>121.073154</td>\n      <td>3.959119</td>\n      <td>0.527967</td>\n    </tr>\n    <tr>\n      <th>std</th>\n      <td>21.905654</td>\n      <td>5.988754e+04</td>\n      <td>0.288719</td>\n      <td>0.156723</td>\n      <td>0.214101</td>\n      <td>0.221591</td>\n      <td>3.614595</td>\n      <td>0.143984</td>\n      <td>3.827831</td>\n      <td>0.483314</td>\n      <td>0.104378</td>\n      <td>28.714456</td>\n      <td>0.298533</td>\n      <td>0.244632</td>\n    </tr>\n    <tr>\n      <th>min</th>\n      <td>0.000000</td>\n      <td>1.200000e+04</td>\n      <td>0.000001</td>\n      <td>0.000000</td>\n      <td>0.001070</td>\n      <td>0.000000</td>\n      <td>0.000000</td>\n      <td>0.010900</td>\n      <td>-38.768000</td>\n      <td>0.000000</td>\n      <td>0.000000</td>\n      <td>0.000000</td>\n      <td>0.000000</td>\n      <td>0.000000</td>\n    </tr>\n    <tr>\n      <th>25%</th>\n      <td>40.000000</td>\n      <td>1.843395e+05</td>\n      <td>0.024100</td>\n      <td>0.533000</td>\n      <td>0.510000</td>\n      <td>0.000000</td>\n      <td>2.000000</td>\n      <td>0.092900</td>\n      <td>-9.044000</td>\n      <td>0.000000</td>\n      <td>0.037800</td>\n      <td>98.368000</td>\n      <td>4.000000</td>\n      <td>0.335000</td>\n    </tr>\n    <tr>\n      <th>50%</th>\n      <td>56.000000</td>\n      <td>2.113060e+05</td>\n      <td>0.132000</td>\n      <td>0.645000</td>\n      <td>0.674000</td>\n      <td>0.000011</td>\n      <td>5.000000</td>\n      <td>0.122000</td>\n      <td>-6.555000</td>\n      <td>1.000000</td>\n      <td>0.055500</td>\n      <td>120.013000</td>\n      <td>4.000000</td>\n      <td>0.527000</td>\n    </tr>\n    <tr>\n      <th>75%</th>\n      <td>69.000000</td>\n      <td>2.428440e+05</td>\n      <td>0.424000</td>\n      <td>0.748000</td>\n      <td>0.815000</td>\n      <td>0.002570</td>\n      <td>8.000000</td>\n      <td>0.221000</td>\n      <td>-4.908000</td>\n      <td>1.000000</td>\n      <td>0.119000</td>\n      <td>139.931000</td>\n      <td>4.000000</td>\n      <td>0.725000</td>\n    </tr>\n    <tr>\n      <th>max</th>\n      <td>100.000000</td>\n      <td>1.799346e+06</td>\n      <td>0.996000</td>\n      <td>0.987000</td>\n      <td>0.999000</td>\n      <td>0.997000</td>\n      <td>11.000000</td>\n      <td>0.986000</td>\n      <td>1.585000</td>\n      <td>1.000000</td>\n      <td>0.941000</td>\n      <td>242.318000</td>\n      <td>5.000000</td>\n      <td>0.984000</td>\n    </tr>\n  </tbody>\n</table>\n</div>"
     },
     "execution_count": 11,
     "metadata": {},
     "output_type": "execute_result"
    }
   ],
   "source": [
    "song_data.describe()"
   ]
  },
  {
   "cell_type": "code",
   "execution_count": 12,
   "metadata": {
    "id": "H5R4Jk6ykrqK",
    "pycharm": {
     "name": "#%%\n"
    }
   },
   "outputs": [
    {
     "data": {
      "text/plain": "0    13386\n1     5449\nName: popularity, dtype: int64"
     },
     "execution_count": 12,
     "metadata": {},
     "output_type": "execute_result"
    }
   ],
   "source": [
    "song_data[\"popularity\"]= [ 1 if i>=66.5 else 0 for i in song_data.song_popularity ]\n",
    "song_data[\"popularity\"].value_counts()"
   ]
  },
  {
   "cell_type": "code",
   "execution_count": 13,
   "metadata": {
    "id": "ZcfGUOOZV4XH",
    "pycharm": {
     "name": "#%%\n"
    }
   },
   "outputs": [
    {
     "data": {
      "text/plain": "       song_popularity  song_duration_ms  acousticness  danceability  \\\ncount      5449.000000       5449.000000   5449.000000   5449.000000   \nmean         76.992292     218539.555515      0.210354      0.659758   \nstd           8.068717      48620.048311      0.246079      0.147652   \nmin          67.000000      67000.000000      0.000009      0.072200   \n25%          71.000000     190185.000000      0.026300      0.562000   \n50%          75.000000     212429.000000      0.106000      0.668000   \n75%          82.000000     240533.000000      0.300000      0.765000   \nmax         100.000000     547733.000000      0.996000      0.978000   \n\n            energy  instrumentalness         key     liveness     loudness  \\\ncount  5449.000000       5449.000000  5449.00000  5449.000000  5449.000000   \nmean      0.658601          0.022390     5.11782     0.174400    -6.624852   \nstd       0.187495          0.115572     3.65752     0.137557     3.139341   \nmin       0.002890          0.000000     0.00000     0.021500   -34.255000   \n25%       0.541000          0.000000     1.00000     0.092000    -7.906000   \n50%       0.680000          0.000000     5.00000     0.121000    -5.985000   \n75%       0.802000          0.000118     8.00000     0.203000    -4.626000   \nmax       0.997000          0.968000    11.00000     0.978000    -0.739000   \n\n        audio_mode  speechiness        tempo  time_signature  audio_valence  \\\ncount  5449.000000  5449.000000  5449.000000     5449.000000    5449.000000   \nmean      0.618829     0.106247   120.753878        3.974307       0.520436   \nstd       0.485719     0.102181    27.737971        0.255771       0.230911   \nmin       0.000000     0.022400    57.178000        1.000000       0.035200   \n25%       0.000000     0.039100    98.883000        4.000000       0.336000   \n50%       1.000000     0.059100   119.886000        4.000000       0.511000   \n75%       1.000000     0.131000   139.910000        4.000000       0.701000   \nmax       1.000000     0.733000   212.058000        5.000000       0.980000   \n\n       popularity  \ncount      5449.0  \nmean          1.0  \nstd           0.0  \nmin           1.0  \n25%           1.0  \n50%           1.0  \n75%           1.0  \nmax           1.0  ",
      "text/html": "<div>\n<style scoped>\n    .dataframe tbody tr th:only-of-type {\n        vertical-align: middle;\n    }\n\n    .dataframe tbody tr th {\n        vertical-align: top;\n    }\n\n    .dataframe thead th {\n        text-align: right;\n    }\n</style>\n<table border=\"1\" class=\"dataframe\">\n  <thead>\n    <tr style=\"text-align: right;\">\n      <th></th>\n      <th>song_popularity</th>\n      <th>song_duration_ms</th>\n      <th>acousticness</th>\n      <th>danceability</th>\n      <th>energy</th>\n      <th>instrumentalness</th>\n      <th>key</th>\n      <th>liveness</th>\n      <th>loudness</th>\n      <th>audio_mode</th>\n      <th>speechiness</th>\n      <th>tempo</th>\n      <th>time_signature</th>\n      <th>audio_valence</th>\n      <th>popularity</th>\n    </tr>\n  </thead>\n  <tbody>\n    <tr>\n      <th>count</th>\n      <td>5449.000000</td>\n      <td>5449.000000</td>\n      <td>5449.000000</td>\n      <td>5449.000000</td>\n      <td>5449.000000</td>\n      <td>5449.000000</td>\n      <td>5449.00000</td>\n      <td>5449.000000</td>\n      <td>5449.000000</td>\n      <td>5449.000000</td>\n      <td>5449.000000</td>\n      <td>5449.000000</td>\n      <td>5449.000000</td>\n      <td>5449.000000</td>\n      <td>5449.0</td>\n    </tr>\n    <tr>\n      <th>mean</th>\n      <td>76.992292</td>\n      <td>218539.555515</td>\n      <td>0.210354</td>\n      <td>0.659758</td>\n      <td>0.658601</td>\n      <td>0.022390</td>\n      <td>5.11782</td>\n      <td>0.174400</td>\n      <td>-6.624852</td>\n      <td>0.618829</td>\n      <td>0.106247</td>\n      <td>120.753878</td>\n      <td>3.974307</td>\n      <td>0.520436</td>\n      <td>1.0</td>\n    </tr>\n    <tr>\n      <th>std</th>\n      <td>8.068717</td>\n      <td>48620.048311</td>\n      <td>0.246079</td>\n      <td>0.147652</td>\n      <td>0.187495</td>\n      <td>0.115572</td>\n      <td>3.65752</td>\n      <td>0.137557</td>\n      <td>3.139341</td>\n      <td>0.485719</td>\n      <td>0.102181</td>\n      <td>27.737971</td>\n      <td>0.255771</td>\n      <td>0.230911</td>\n      <td>0.0</td>\n    </tr>\n    <tr>\n      <th>min</th>\n      <td>67.000000</td>\n      <td>67000.000000</td>\n      <td>0.000009</td>\n      <td>0.072200</td>\n      <td>0.002890</td>\n      <td>0.000000</td>\n      <td>0.00000</td>\n      <td>0.021500</td>\n      <td>-34.255000</td>\n      <td>0.000000</td>\n      <td>0.022400</td>\n      <td>57.178000</td>\n      <td>1.000000</td>\n      <td>0.035200</td>\n      <td>1.0</td>\n    </tr>\n    <tr>\n      <th>25%</th>\n      <td>71.000000</td>\n      <td>190185.000000</td>\n      <td>0.026300</td>\n      <td>0.562000</td>\n      <td>0.541000</td>\n      <td>0.000000</td>\n      <td>1.00000</td>\n      <td>0.092000</td>\n      <td>-7.906000</td>\n      <td>0.000000</td>\n      <td>0.039100</td>\n      <td>98.883000</td>\n      <td>4.000000</td>\n      <td>0.336000</td>\n      <td>1.0</td>\n    </tr>\n    <tr>\n      <th>50%</th>\n      <td>75.000000</td>\n      <td>212429.000000</td>\n      <td>0.106000</td>\n      <td>0.668000</td>\n      <td>0.680000</td>\n      <td>0.000000</td>\n      <td>5.00000</td>\n      <td>0.121000</td>\n      <td>-5.985000</td>\n      <td>1.000000</td>\n      <td>0.059100</td>\n      <td>119.886000</td>\n      <td>4.000000</td>\n      <td>0.511000</td>\n      <td>1.0</td>\n    </tr>\n    <tr>\n      <th>75%</th>\n      <td>82.000000</td>\n      <td>240533.000000</td>\n      <td>0.300000</td>\n      <td>0.765000</td>\n      <td>0.802000</td>\n      <td>0.000118</td>\n      <td>8.00000</td>\n      <td>0.203000</td>\n      <td>-4.626000</td>\n      <td>1.000000</td>\n      <td>0.131000</td>\n      <td>139.910000</td>\n      <td>4.000000</td>\n      <td>0.701000</td>\n      <td>1.0</td>\n    </tr>\n    <tr>\n      <th>max</th>\n      <td>100.000000</td>\n      <td>547733.000000</td>\n      <td>0.996000</td>\n      <td>0.978000</td>\n      <td>0.997000</td>\n      <td>0.968000</td>\n      <td>11.00000</td>\n      <td>0.978000</td>\n      <td>-0.739000</td>\n      <td>1.000000</td>\n      <td>0.733000</td>\n      <td>212.058000</td>\n      <td>5.000000</td>\n      <td>0.980000</td>\n      <td>1.0</td>\n    </tr>\n  </tbody>\n</table>\n</div>"
     },
     "execution_count": 13,
     "metadata": {},
     "output_type": "execute_result"
    }
   ],
   "source": [
    "#popular songs' data\n",
    "a=song_data[song_data[\"popularity\"]==1]\n",
    "a.describe()\n"
   ]
  },
  {
   "cell_type": "code",
   "execution_count": 14,
   "metadata": {
    "id": "pAPSLKbAk7xv",
    "pycharm": {
     "name": "#%%\n"
    }
   },
   "outputs": [
    {
     "data": {
      "text/plain": "                  song_popularity  song_duration_ms  acousticness  \\\nsong_popularity          1.000000         -0.018899     -0.065181   \nsong_duration_ms        -0.018899          1.000000     -0.097882   \nacousticness            -0.065181         -0.097882      1.000000   \ndanceability             0.104290         -0.104985     -0.182500   \nenergy                   0.001365          0.092688     -0.662639   \ninstrumentalness        -0.130907         -0.015188      0.173098   \nkey                     -0.013160         -0.004615     -0.002025   \nliveness                -0.038937          0.016086     -0.082537   \nloudness                 0.099442          0.016469     -0.557744   \naudio_mode              -0.004969         -0.026328      0.064100   \nspeechiness              0.021479         -0.083447     -0.093574   \ntempo                   -0.022672          0.012791     -0.136421   \ntime_signature           0.034983          0.000264     -0.157177   \naudio_valence           -0.052895         -0.063421     -0.121670   \npopularity               0.699048          0.003494     -0.106483   \n\n                  danceability    energy  instrumentalness       key  \\\nsong_popularity       0.104290  0.001365         -0.130907 -0.013160   \nsong_duration_ms     -0.104985  0.092688         -0.015188 -0.004615   \nacousticness         -0.182500 -0.662639          0.173098 -0.002025   \ndanceability          1.000000  0.044373         -0.130483  0.007723   \nenergy                0.044373  1.000000         -0.205914  0.020416   \ninstrumentalness     -0.130483 -0.205914          1.000000 -0.009463   \nkey                   0.007723  0.020416         -0.009463  1.000000   \nliveness             -0.090694  0.167143         -0.032887 -0.008193   \nloudness              0.177639  0.755516         -0.390248  0.010452   \naudio_mode           -0.106539 -0.051605         -0.014983 -0.169848   \nspeechiness           0.213728  0.062053         -0.081138  0.033639   \ntempo                -0.121286  0.162448         -0.036934  0.003239   \ntime_signature        0.136391  0.146265         -0.069181 -0.008282   \naudio_valence         0.332014  0.316742         -0.178570  0.025356   \npopularity            0.107519  0.040548         -0.160144 -0.030251   \n\n                  liveness  loudness  audio_mode  speechiness     tempo  \\\nsong_popularity  -0.038937  0.099442   -0.004969     0.021479 -0.022672   \nsong_duration_ms  0.016086  0.016469   -0.026328    -0.083447  0.012791   \nacousticness     -0.082537 -0.557744    0.064100    -0.093574 -0.136421   \ndanceability     -0.090694  0.177639   -0.106539     0.213728 -0.121286   \nenergy            0.167143  0.755516   -0.051605     0.062053  0.162448   \ninstrumentalness -0.032887 -0.390248   -0.014983    -0.081138 -0.036934   \nkey              -0.008193  0.010452   -0.169848     0.033639  0.003239   \nliveness          1.000000  0.102450   -0.001035     0.090845  0.031876   \nloudness          0.102450  1.000000   -0.058506     0.078164  0.129938   \naudio_mode       -0.001035 -0.058506    1.000000    -0.111627  0.020448   \nspeechiness       0.090845  0.078164   -0.111627     1.000000  0.071685   \ntempo             0.031876  0.129938    0.020448     0.071685  1.000000   \ntime_signature    0.013289  0.119241   -0.024042     0.057162  0.003978   \naudio_valence     0.013789  0.199696   -0.004558     0.011046  0.037667   \npopularity       -0.023265  0.137111   -0.012290     0.025356 -0.007094   \n\n                  time_signature  audio_valence  popularity  \nsong_popularity         0.034983      -0.052895    0.699048  \nsong_duration_ms        0.000264      -0.063421    0.003494  \nacousticness           -0.157177      -0.121670   -0.106483  \ndanceability            0.136391       0.332014    0.107519  \nenergy                  0.146265       0.316742    0.040548  \ninstrumentalness       -0.069181      -0.178570   -0.160144  \nkey                    -0.008282       0.025356   -0.030251  \nliveness                0.013289       0.013789   -0.023265  \nloudness                0.119241       0.199696    0.137111  \naudio_mode             -0.024042      -0.004558   -0.012290  \nspeechiness             0.057162       0.011046    0.025356  \ntempo                   0.003978       0.037667   -0.007094  \ntime_signature          1.000000       0.094670    0.032462  \naudio_valence           0.094670       1.000000   -0.019643  \npopularity              0.032462      -0.019643    1.000000  ",
      "text/html": "<div>\n<style scoped>\n    .dataframe tbody tr th:only-of-type {\n        vertical-align: middle;\n    }\n\n    .dataframe tbody tr th {\n        vertical-align: top;\n    }\n\n    .dataframe thead th {\n        text-align: right;\n    }\n</style>\n<table border=\"1\" class=\"dataframe\">\n  <thead>\n    <tr style=\"text-align: right;\">\n      <th></th>\n      <th>song_popularity</th>\n      <th>song_duration_ms</th>\n      <th>acousticness</th>\n      <th>danceability</th>\n      <th>energy</th>\n      <th>instrumentalness</th>\n      <th>key</th>\n      <th>liveness</th>\n      <th>loudness</th>\n      <th>audio_mode</th>\n      <th>speechiness</th>\n      <th>tempo</th>\n      <th>time_signature</th>\n      <th>audio_valence</th>\n      <th>popularity</th>\n    </tr>\n  </thead>\n  <tbody>\n    <tr>\n      <th>song_popularity</th>\n      <td>1.000000</td>\n      <td>-0.018899</td>\n      <td>-0.065181</td>\n      <td>0.104290</td>\n      <td>0.001365</td>\n      <td>-0.130907</td>\n      <td>-0.013160</td>\n      <td>-0.038937</td>\n      <td>0.099442</td>\n      <td>-0.004969</td>\n      <td>0.021479</td>\n      <td>-0.022672</td>\n      <td>0.034983</td>\n      <td>-0.052895</td>\n      <td>0.699048</td>\n    </tr>\n    <tr>\n      <th>song_duration_ms</th>\n      <td>-0.018899</td>\n      <td>1.000000</td>\n      <td>-0.097882</td>\n      <td>-0.104985</td>\n      <td>0.092688</td>\n      <td>-0.015188</td>\n      <td>-0.004615</td>\n      <td>0.016086</td>\n      <td>0.016469</td>\n      <td>-0.026328</td>\n      <td>-0.083447</td>\n      <td>0.012791</td>\n      <td>0.000264</td>\n      <td>-0.063421</td>\n      <td>0.003494</td>\n    </tr>\n    <tr>\n      <th>acousticness</th>\n      <td>-0.065181</td>\n      <td>-0.097882</td>\n      <td>1.000000</td>\n      <td>-0.182500</td>\n      <td>-0.662639</td>\n      <td>0.173098</td>\n      <td>-0.002025</td>\n      <td>-0.082537</td>\n      <td>-0.557744</td>\n      <td>0.064100</td>\n      <td>-0.093574</td>\n      <td>-0.136421</td>\n      <td>-0.157177</td>\n      <td>-0.121670</td>\n      <td>-0.106483</td>\n    </tr>\n    <tr>\n      <th>danceability</th>\n      <td>0.104290</td>\n      <td>-0.104985</td>\n      <td>-0.182500</td>\n      <td>1.000000</td>\n      <td>0.044373</td>\n      <td>-0.130483</td>\n      <td>0.007723</td>\n      <td>-0.090694</td>\n      <td>0.177639</td>\n      <td>-0.106539</td>\n      <td>0.213728</td>\n      <td>-0.121286</td>\n      <td>0.136391</td>\n      <td>0.332014</td>\n      <td>0.107519</td>\n    </tr>\n    <tr>\n      <th>energy</th>\n      <td>0.001365</td>\n      <td>0.092688</td>\n      <td>-0.662639</td>\n      <td>0.044373</td>\n      <td>1.000000</td>\n      <td>-0.205914</td>\n      <td>0.020416</td>\n      <td>0.167143</td>\n      <td>0.755516</td>\n      <td>-0.051605</td>\n      <td>0.062053</td>\n      <td>0.162448</td>\n      <td>0.146265</td>\n      <td>0.316742</td>\n      <td>0.040548</td>\n    </tr>\n    <tr>\n      <th>instrumentalness</th>\n      <td>-0.130907</td>\n      <td>-0.015188</td>\n      <td>0.173098</td>\n      <td>-0.130483</td>\n      <td>-0.205914</td>\n      <td>1.000000</td>\n      <td>-0.009463</td>\n      <td>-0.032887</td>\n      <td>-0.390248</td>\n      <td>-0.014983</td>\n      <td>-0.081138</td>\n      <td>-0.036934</td>\n      <td>-0.069181</td>\n      <td>-0.178570</td>\n      <td>-0.160144</td>\n    </tr>\n    <tr>\n      <th>key</th>\n      <td>-0.013160</td>\n      <td>-0.004615</td>\n      <td>-0.002025</td>\n      <td>0.007723</td>\n      <td>0.020416</td>\n      <td>-0.009463</td>\n      <td>1.000000</td>\n      <td>-0.008193</td>\n      <td>0.010452</td>\n      <td>-0.169848</td>\n      <td>0.033639</td>\n      <td>0.003239</td>\n      <td>-0.008282</td>\n      <td>0.025356</td>\n      <td>-0.030251</td>\n    </tr>\n    <tr>\n      <th>liveness</th>\n      <td>-0.038937</td>\n      <td>0.016086</td>\n      <td>-0.082537</td>\n      <td>-0.090694</td>\n      <td>0.167143</td>\n      <td>-0.032887</td>\n      <td>-0.008193</td>\n      <td>1.000000</td>\n      <td>0.102450</td>\n      <td>-0.001035</td>\n      <td>0.090845</td>\n      <td>0.031876</td>\n      <td>0.013289</td>\n      <td>0.013789</td>\n      <td>-0.023265</td>\n    </tr>\n    <tr>\n      <th>loudness</th>\n      <td>0.099442</td>\n      <td>0.016469</td>\n      <td>-0.557744</td>\n      <td>0.177639</td>\n      <td>0.755516</td>\n      <td>-0.390248</td>\n      <td>0.010452</td>\n      <td>0.102450</td>\n      <td>1.000000</td>\n      <td>-0.058506</td>\n      <td>0.078164</td>\n      <td>0.129938</td>\n      <td>0.119241</td>\n      <td>0.199696</td>\n      <td>0.137111</td>\n    </tr>\n    <tr>\n      <th>audio_mode</th>\n      <td>-0.004969</td>\n      <td>-0.026328</td>\n      <td>0.064100</td>\n      <td>-0.106539</td>\n      <td>-0.051605</td>\n      <td>-0.014983</td>\n      <td>-0.169848</td>\n      <td>-0.001035</td>\n      <td>-0.058506</td>\n      <td>1.000000</td>\n      <td>-0.111627</td>\n      <td>0.020448</td>\n      <td>-0.024042</td>\n      <td>-0.004558</td>\n      <td>-0.012290</td>\n    </tr>\n    <tr>\n      <th>speechiness</th>\n      <td>0.021479</td>\n      <td>-0.083447</td>\n      <td>-0.093574</td>\n      <td>0.213728</td>\n      <td>0.062053</td>\n      <td>-0.081138</td>\n      <td>0.033639</td>\n      <td>0.090845</td>\n      <td>0.078164</td>\n      <td>-0.111627</td>\n      <td>1.000000</td>\n      <td>0.071685</td>\n      <td>0.057162</td>\n      <td>0.011046</td>\n      <td>0.025356</td>\n    </tr>\n    <tr>\n      <th>tempo</th>\n      <td>-0.022672</td>\n      <td>0.012791</td>\n      <td>-0.136421</td>\n      <td>-0.121286</td>\n      <td>0.162448</td>\n      <td>-0.036934</td>\n      <td>0.003239</td>\n      <td>0.031876</td>\n      <td>0.129938</td>\n      <td>0.020448</td>\n      <td>0.071685</td>\n      <td>1.000000</td>\n      <td>0.003978</td>\n      <td>0.037667</td>\n      <td>-0.007094</td>\n    </tr>\n    <tr>\n      <th>time_signature</th>\n      <td>0.034983</td>\n      <td>0.000264</td>\n      <td>-0.157177</td>\n      <td>0.136391</td>\n      <td>0.146265</td>\n      <td>-0.069181</td>\n      <td>-0.008282</td>\n      <td>0.013289</td>\n      <td>0.119241</td>\n      <td>-0.024042</td>\n      <td>0.057162</td>\n      <td>0.003978</td>\n      <td>1.000000</td>\n      <td>0.094670</td>\n      <td>0.032462</td>\n    </tr>\n    <tr>\n      <th>audio_valence</th>\n      <td>-0.052895</td>\n      <td>-0.063421</td>\n      <td>-0.121670</td>\n      <td>0.332014</td>\n      <td>0.316742</td>\n      <td>-0.178570</td>\n      <td>0.025356</td>\n      <td>0.013789</td>\n      <td>0.199696</td>\n      <td>-0.004558</td>\n      <td>0.011046</td>\n      <td>0.037667</td>\n      <td>0.094670</td>\n      <td>1.000000</td>\n      <td>-0.019643</td>\n    </tr>\n    <tr>\n      <th>popularity</th>\n      <td>0.699048</td>\n      <td>0.003494</td>\n      <td>-0.106483</td>\n      <td>0.107519</td>\n      <td>0.040548</td>\n      <td>-0.160144</td>\n      <td>-0.030251</td>\n      <td>-0.023265</td>\n      <td>0.137111</td>\n      <td>-0.012290</td>\n      <td>0.025356</td>\n      <td>-0.007094</td>\n      <td>0.032462</td>\n      <td>-0.019643</td>\n      <td>1.000000</td>\n    </tr>\n  </tbody>\n</table>\n</div>"
     },
     "execution_count": 14,
     "metadata": {},
     "output_type": "execute_result"
    }
   ],
   "source": [
    "song_data.corr()"
   ]
  },
  {
   "cell_type": "code",
   "execution_count": 15,
   "metadata": {
    "id": "pUA3onJJk70V",
    "pycharm": {
     "name": "#%%\n"
    }
   },
   "outputs": [
    {
     "data": {
      "text/plain": "<Figure size 864x864 with 2 Axes>",
      "image/png": "[encoded data removed]"
     },
     "metadata": {},
     "output_type": "display_data"
    }
   ],
   "source": [
    "import seaborn as sns\n",
    "f,ax = plt.subplots(figsize=(12, 12))\n",
    "mask = np.zeros_like(song_data.corr())\n",
    "mask[np.triu_indices_from(mask)] = True\n",
    "sns.heatmap(song_data.corr(), annot=True, linewidths=0.4,linecolor=\"white\", fmt= '.1f',ax=ax,cmap=\"Blues\",mask=mask)\n",
    "plt.show()"
   ]
  },
  {
   "cell_type": "code",
   "execution_count": 16,
   "metadata": {
    "id": "bne-CWrFk73Q",
    "pycharm": {
     "name": "#%%\n"
    }
   },
   "outputs": [],
   "source": [
    "from collections import Counter\n",
    "def detect_outliers(df,features):\n",
    "    outlier_indices = []\n",
    "\n",
    "    for c in features:\n",
    "        # 1st quartile\n",
    "        Q1 = np.percentile(df[c],25)\n",
    "        # 3rd quartile\n",
    "        Q3 = np.percentile(df[c],75)\n",
    "        # IQR\n",
    "        IQR = Q3 - Q1\n",
    "        # Outlier step\n",
    "        outlier_step = IQR * 1.5\n",
    "        # detect outlier and their indeces\n",
    "        outlier_list_col = df[(df[c] < Q1 - outlier_step) | (df[c] > Q3 + outlier_step)].index #filtre\n",
    "        # store indeces\n",
    "        outlier_indices.extend(outlier_list_col) #The extend() extends the list by adding all items of a list (passed as an argument) to the end.\n",
    "\n",
    "    outlier_indices = Counter(outlier_indices)\n",
    "    multiple_outliers = list(i for i, v in outlier_indices.items() if v > 2)\n",
    "\n",
    "    return multiple_outliers"
   ]
  },
  {
   "cell_type": "code",
   "execution_count": 17,
   "metadata": {
    "id": "gihPR9yjk759",
    "pycharm": {
     "name": "#%%\n"
    }
   },
   "outputs": [
    {
     "data": {
      "text/plain": "                                               song_name  song_popularity  \\\n232                                              La Maza               58   \n253                                     Whole Lotta Love               77   \n501                               Do You Feel Like We Do               48   \n981    The Times They Are A-Changin' - Live at Sony M...               49   \n1113                                       November Rain               38   \n...                                                  ...              ...   \n15247                                 I Know You So Well                8   \n16642                                         same stars               46   \n17723                                       Dutch Spring                0   \n3720                                Racism And Injustice               21   \n3752                                       Space Program                0   \n\n       song_duration_ms  acousticness  danceability  energy  instrumentalness  \\\n232            351400.0        0.6520         0.555   0.331          0.000012   \n253            333893.0        0.0484         0.412   0.902          0.131000   \n501            836666.0        0.0439         0.295   0.568          0.011700   \n981            348560.0        0.6300         0.393   0.416          0.007910   \n1113           537506.0        0.0165         0.197   0.629          0.279000   \n...                 ...           ...           ...     ...               ...   \n15247          102661.0        0.9230         0.679   0.311          0.721000   \n16642          116918.0        0.2510         0.687   0.284          0.862000   \n17723          205623.0        0.1960         0.510   0.843          0.135000   \n3720           260160.0        0.9220         0.650   0.316          0.000000   \n3752           156480.0        0.8690         0.589   0.604          0.000002   \n\n       key  liveness  loudness  audio_mode  speechiness    tempo  \\\n232      9     0.235   -17.718         0.0       0.2700  170.603   \n253      9     0.405   -11.600         1.0       0.4050   89.740   \n501      0     0.977    -8.232         1.0       0.0284   98.284   \n981      9     0.986   -13.243         1.0       0.0401  163.604   \n1113    11     0.125    -9.291         1.0       0.0300   79.495   \n...    ...       ...       ...         ...          ...      ...   \n15247    0     0.813   -16.557         0.0       0.1050   60.724   \n16642    0     0.496   -19.504         1.0       0.0378  115.996   \n17723    6     0.569    -4.958         0.0       0.3910   83.355   \n3720     9     0.739   -18.244         0.0       0.9400  117.198   \n3752     4     0.684   -18.562         0.0       0.9410  111.968   \n\n       time_signature  audio_valence  popularity  \n232               3.0          0.437           0  \n253               4.0          0.422           1  \n501               4.0          0.384           0  \n981               3.0          0.512           0  \n1113              4.0          0.221           0  \n...               ...            ...         ...  \n15247             4.0          0.304           0  \n16642             4.0          0.159           0  \n17723             4.0          0.832           0  \n3720              4.0          0.306           0  \n3752              4.0          0.197           0  \n\n[325 rows x 16 columns]",
      "text/html": "<div>\n<style scoped>\n    .dataframe tbody tr th:only-of-type {\n        vertical-align: middle;\n    }\n\n    .dataframe tbody tr th {\n        vertical-align: top;\n    }\n\n    .dataframe thead th {\n        text-align: right;\n    }\n</style>\n<table border=\"1\" class=\"dataframe\">\n  <thead>\n    <tr style=\"text-align: right;\">\n      <th></th>\n      <th>song_name</th>\n      <th>song_popularity</th>\n      <th>song_duration_ms</th>\n      <th>acousticness</th>\n      <th>danceability</th>\n      <th>energy</th>\n      <th>instrumentalness</th>\n      <th>key</th>\n      <th>liveness</th>\n      <th>loudness</th>\n      <th>audio_mode</th>\n      <th>speechiness</th>\n      <th>tempo</th>\n      <th>time_signature</th>\n      <th>audio_valence</th>\n      <th>popularity</th>\n    </tr>\n  </thead>\n  <tbody>\n    <tr>\n      <th>232</th>\n      <td>La Maza</td>\n      <td>58</td>\n      <td>351400.0</td>\n      <td>0.6520</td>\n      <td>0.555</td>\n      <td>0.331</td>\n      <td>0.000012</td>\n      <td>9</td>\n      <td>0.235</td>\n      <td>-17.718</td>\n      <td>0.0</td>\n      <td>0.2700</td>\n      <td>170.603</td>\n      <td>3.0</td>\n      <td>0.437</td>\n      <td>0</td>\n    </tr>\n    <tr>\n      <th>253</th>\n      <td>Whole Lotta Love</td>\n      <td>77</td>\n      <td>333893.0</td>\n      <td>0.0484</td>\n      <td>0.412</td>\n      <td>0.902</td>\n      <td>0.131000</td>\n      <td>9</td>\n      <td>0.405</td>\n      <td>-11.600</td>\n      <td>1.0</td>\n      <td>0.4050</td>\n      <td>89.740</td>\n      <td>4.0</td>\n      <td>0.422</td>\n      <td>1</td>\n    </tr>\n    <tr>\n      <th>501</th>\n      <td>Do You Feel Like We Do</td>\n      <td>48</td>\n      <td>836666.0</td>\n      <td>0.0439</td>\n      <td>0.295</td>\n      <td>0.568</td>\n      <td>0.011700</td>\n      <td>0</td>\n      <td>0.977</td>\n      <td>-8.232</td>\n      <td>1.0</td>\n      <td>0.0284</td>\n      <td>98.284</td>\n      <td>4.0</td>\n      <td>0.384</td>\n      <td>0</td>\n    </tr>\n    <tr>\n      <th>981</th>\n      <td>The Times They Are A-Changin' - Live at Sony M...</td>\n      <td>49</td>\n      <td>348560.0</td>\n      <td>0.6300</td>\n      <td>0.393</td>\n      <td>0.416</td>\n      <td>0.007910</td>\n      <td>9</td>\n      <td>0.986</td>\n      <td>-13.243</td>\n      <td>1.0</td>\n      <td>0.0401</td>\n      <td>163.604</td>\n      <td>3.0</td>\n      <td>0.512</td>\n      <td>0</td>\n    </tr>\n    <tr>\n      <th>1113</th>\n      <td>November Rain</td>\n      <td>38</td>\n      <td>537506.0</td>\n      <td>0.0165</td>\n      <td>0.197</td>\n      <td>0.629</td>\n      <td>0.279000</td>\n      <td>11</td>\n      <td>0.125</td>\n      <td>-9.291</td>\n      <td>1.0</td>\n      <td>0.0300</td>\n      <td>79.495</td>\n      <td>4.0</td>\n      <td>0.221</td>\n      <td>0</td>\n    </tr>\n    <tr>\n      <th>...</th>\n      <td>...</td>\n      <td>...</td>\n      <td>...</td>\n      <td>...</td>\n      <td>...</td>\n      <td>...</td>\n      <td>...</td>\n      <td>...</td>\n      <td>...</td>\n      <td>...</td>\n      <td>...</td>\n      <td>...</td>\n      <td>...</td>\n      <td>...</td>\n      <td>...</td>\n      <td>...</td>\n    </tr>\n    <tr>\n      <th>15247</th>\n      <td>I Know You So Well</td>\n      <td>8</td>\n      <td>102661.0</td>\n      <td>0.9230</td>\n      <td>0.679</td>\n      <td>0.311</td>\n      <td>0.721000</td>\n      <td>0</td>\n      <td>0.813</td>\n      <td>-16.557</td>\n      <td>0.0</td>\n      <td>0.1050</td>\n      <td>60.724</td>\n      <td>4.0</td>\n      <td>0.304</td>\n      <td>0</td>\n    </tr>\n    <tr>\n      <th>16642</th>\n      <td>same stars</td>\n      <td>46</td>\n      <td>116918.0</td>\n      <td>0.2510</td>\n      <td>0.687</td>\n      <td>0.284</td>\n      <td>0.862000</td>\n      <td>0</td>\n      <td>0.496</td>\n      <td>-19.504</td>\n      <td>1.0</td>\n      <td>0.0378</td>\n      <td>115.996</td>\n      <td>4.0</td>\n      <td>0.159</td>\n      <td>0</td>\n    </tr>\n    <tr>\n      <th>17723</th>\n      <td>Dutch Spring</td>\n      <td>0</td>\n      <td>205623.0</td>\n      <td>0.1960</td>\n      <td>0.510</td>\n      <td>0.843</td>\n      <td>0.135000</td>\n      <td>6</td>\n      <td>0.569</td>\n      <td>-4.958</td>\n      <td>0.0</td>\n      <td>0.3910</td>\n      <td>83.355</td>\n      <td>4.0</td>\n      <td>0.832</td>\n      <td>0</td>\n    </tr>\n    <tr>\n      <th>3720</th>\n      <td>Racism And Injustice</td>\n      <td>21</td>\n      <td>260160.0</td>\n      <td>0.9220</td>\n      <td>0.650</td>\n      <td>0.316</td>\n      <td>0.000000</td>\n      <td>9</td>\n      <td>0.739</td>\n      <td>-18.244</td>\n      <td>0.0</td>\n      <td>0.9400</td>\n      <td>117.198</td>\n      <td>4.0</td>\n      <td>0.306</td>\n      <td>0</td>\n    </tr>\n    <tr>\n      <th>3752</th>\n      <td>Space Program</td>\n      <td>0</td>\n      <td>156480.0</td>\n      <td>0.8690</td>\n      <td>0.589</td>\n      <td>0.604</td>\n      <td>0.000002</td>\n      <td>4</td>\n      <td>0.684</td>\n      <td>-18.562</td>\n      <td>0.0</td>\n      <td>0.9410</td>\n      <td>111.968</td>\n      <td>4.0</td>\n      <td>0.197</td>\n      <td>0</td>\n    </tr>\n  </tbody>\n</table>\n<p>325 rows × 16 columns</p>\n</div>"
     },
     "execution_count": 17,
     "metadata": {},
     "output_type": "execute_result"
    }
   ],
   "source": [
    "song_data.loc[detect_outliers(song_data,[\"song_popularity\",\"song_duration_ms\",\"danceability\",\"energy\",\"instrumentalness\",\"liveness\",\"loudness\",\"speechiness\",\"audio_valence\"])]"
   ]
  },
  {
   "cell_type": "code",
   "execution_count": 18,
   "metadata": {
    "id": "QsaRX6z7GGJG",
    "pycharm": {
     "name": "#%%\n"
    }
   },
   "outputs": [
    {
     "name": "stdout",
     "output_type": "stream",
     "text": [
      "[  275   313   467   479   694   750   978  1199  1211  1218  1439  1694\n",
      "  1789  1970  2064  2089  2107  2226  2465  2498  2503  2556  2768  2864\n",
      "  2893  2901  3116  3177  3225  3276  3280  3320  3364  3372  3479  3544\n",
      "  3702  3717  3726  3727  3746  3883  3918  3923  3935  3936  3965  4053\n",
      "  4060  4077  4105  4124  4138  4144  4169  4434  4516  4545  4574  4688\n",
      "  4755  4794  4943  5048  5099  5201  5211  5236  5247  5285  5409  5488\n",
      "  5782  5870  5924  6163  6388  6712  6820  7022  7112  7119  7257  7295\n",
      "  7311  7335  7481  7537  7551  7723  7925  7977  8028  8048  8153  8204\n",
      "  8224  8370  8402  8502  8572  9186  9437  9496  9675  9802  9813  9827\n",
      " 10005 10018 10026 10470 10606 10702 10857 10925 11145 11260 11276 11333\n",
      " 11363 11421 11440 11868 11886 11998 12153 12276 12458 12470 12519 12520\n",
      " 12554 12569 12575 12612 12674 12806 12954 13038 13120 13467 13509 13517\n",
      " 13619 13729 13733 13767 13795 13900 14085 14267 14365 14371 14404 14666\n",
      " 15256 15519 15531 15586 15650 15661 16102 16172 16308 16464 16473 16558\n",
      " 16755 16825 16898 16928 16965 16974 17050 17240 17261 17797 17873 17941\n",
      " 17965 18048 18060 18147 18160 18194 18396 18414 18728]\n",
      "                                               song_name  song_popularity  \\\n",
      "275                                       Pinball Wizard               69   \n",
      "313                                     Honky Tonk Women               57   \n",
      "467                     Another Brick in the Wall, Pt. 1               63   \n",
      "479    2112: Overture / The Temples Of Syrinx / Disco...               53   \n",
      "694                                               Desire               63   \n",
      "...                                                  ...              ...   \n",
      "18160                           Moves (feat. Snoop Dogg)               75   \n",
      "18194                                   We Can't Give Up               10   \n",
      "18396                                     Not Going Home               10   \n",
      "18414                                    Sooner Or Later               11   \n",
      "18728                                Lost In Translation               49   \n",
      "\n",
      "       song_duration_ms  acousticness  danceability  energy  instrumentalness  \\\n",
      "275            180943.0      0.019200         0.537  0.7160          0.000000   \n",
      "313            179386.0      0.381000         0.562  0.7680          0.030000   \n",
      "467            192145.0      0.937000         0.617  0.0457          0.641000   \n",
      "479           1233666.0      0.078700         0.345  0.7950          0.001650   \n",
      "694            179360.0      0.000212         0.490  0.8270          0.004060   \n",
      "...                 ...           ...           ...     ...               ...   \n",
      "18160          165106.0      0.113000         0.598  0.8910          0.000000   \n",
      "18194          158170.0      0.320000         0.799  0.7720          0.004740   \n",
      "18396          194960.0      0.093800         0.749  0.7470          0.000012   \n",
      "18414          212564.0      0.127000         0.737  0.7290          0.000022   \n",
      "18728          179915.0      0.000725         0.767  0.6750          0.003490   \n",
      "\n",
      "       key  liveness  loudness  audio_mode  speechiness    tempo  \\\n",
      "275      2    0.2450    -8.766         1.0       0.0380  122.873   \n",
      "313      7    0.1680    -6.613         1.0       0.0606  119.544   \n",
      "467      0    0.0991   -26.401         1.0       0.0344   99.480   \n",
      "479      2    0.1800    -7.440         1.0       0.1080  134.141   \n",
      "694      8    0.1120    -9.481         1.0       0.0482  108.577   \n",
      "...    ...       ...       ...         ...          ...      ...   \n",
      "18160    9    0.1680    -3.458         0.0       0.2620  202.039   \n",
      "18194    8    0.1670    -4.625         1.0       0.0630  122.989   \n",
      "18396    6    0.2560    -6.457         1.0       0.1210  109.063   \n",
      "18414    5    0.0770    -6.817         0.0       0.0354  111.937   \n",
      "18728    7    0.3710    -7.881         1.0       0.0365  110.055   \n",
      "\n",
      "       time_signature  audio_valence  popularity  \n",
      "275               4.0         0.4520           1  \n",
      "313               4.0         0.9660           0  \n",
      "467               4.0         0.0967           0  \n",
      "479               4.0         0.1890           0  \n",
      "694               4.0         0.6260           0  \n",
      "...               ...            ...         ...  \n",
      "18160             4.0         0.9420           1  \n",
      "18194             4.0         0.4270           0  \n",
      "18396             4.0         0.4750           0  \n",
      "18414             4.0         0.4360           0  \n",
      "18728             4.0         0.9050           0  \n",
      "\n",
      "[189 rows x 16 columns]\n"
     ]
    }
   ],
   "source": [
    "from sklearn.neighbors import LocalOutlierFactor\n",
    "\n",
    "def detect_outliers_lof(df, features, n_neighbors=20, contamination='auto'):\n",
    "    X = df[features].values\n",
    "\n",
    "    lof = LocalOutlierFactor(n_neighbors=n_neighbors, contamination=contamination)\n",
    "    \n",
    "    outliers = lof.fit_predict(X)\n",
    "\n",
    "    outlier_indices = np.where(outliers == -1)[0]\n",
    "    \n",
    "    return outlier_indices\n",
    "\n",
    "song = song_data.copy()\n",
    "outliers_indices_lof = detect_outliers_lof(song, [\"song_duration_ms\", \"danceability\", \"energy\", \"instrumentalness\", \"liveness\", \"loudness\", \"speechiness\", \"audio_valence\"], n_neighbors=20, contamination=0.01)\n",
    "print(outliers_indices_lof)\n",
    "\n",
    "outliers_lof = song.iloc[outliers_indices_lof]\n",
    "print(outliers_lof)\n"
   ]
  },
  {
   "cell_type": "code",
   "execution_count": 19,
   "metadata": {
    "pycharm": {
     "name": "#%%\n"
    }
   },
   "outputs": [
    {
     "name": "stdout",
     "output_type": "stream",
     "text": [
      "[  389   501  1351  2783  3720  3723  3726  3727  3732  3736  3738  3742\n",
      "  3752  4107  4129  4130  4144  4148  4153  4154  4155  4164  4167  4168\n",
      "  4170  4171  4417  4440  4456  4482  4797  4798  4799  4801  4803  4806\n",
      "  4807  4809  4810  4811  4814  4815  4818  4819  4820  4821  4827  4828\n",
      "  4830  4831  4833  4834  4835  4836  4837  4838  4839  4840  4841  4842\n",
      "  4844  4845  4847  4850  4853  4854  4857  4858  4862  4866  4867  4868\n",
      "  4870  4873  4874  4876  4877  5111  5912  5913  5914  5915  5916  5917\n",
      "  5918  5919  5920  5921  5922  5925  5926  5927  5928  5929  5931  5932\n",
      "  5933  5935  5936  5938  5939  5940  5941  5942  5943  5944  5946  5947\n",
      "  5949  5952  5953  5955  5956  5957  5958  5959  5960  5961  5968  6085\n",
      "  6108  6183  6631  8950  8998  9214  9518 10218 10227 10710 10731 10736\n",
      " 10758 10762 10768 10970 11095 11101 11130 11141 11143 11154 11155 11160\n",
      " 11170 11171 11174 11480 13288 13301 13302 13305 13306 13309 13310 13311\n",
      " 13313 13315 13320 13331 13337 13340 13345 13347 13348 13352 13357 13358\n",
      " 13371 13372 13377 13389 13392 13395 13396 14343 14389 15235 15244 15247\n",
      " 15279 15479 16636 16642 16678 16679 16940 17545 18820]\n",
      "                                     song_name  song_popularity  \\\n",
      "389                                Tom's Diner               46   \n",
      "501                     Do You Feel Like We Do               48   \n",
      "1351   Stay With Me - Live From Spotify Berlin               56   \n",
      "2783        Make Me Smile (Come up and See Me)                4   \n",
      "3720                      Racism And Injustice               21   \n",
      "...                                        ...              ...   \n",
      "16678                      Nellie The Elephant                3   \n",
      "16679                       Bela Lugosi's Dead               55   \n",
      "16940                            Empire Sounds               16   \n",
      "17545                                   Anthem               30   \n",
      "18820                                  Unknown               23   \n",
      "\n",
      "       song_duration_ms  acousticness  danceability  energy  instrumentalness  \\\n",
      "389            129106.0       0.58900         0.712  0.1670          0.000000   \n",
      "501            836666.0       0.04390         0.295  0.5680          0.011700   \n",
      "1351           174373.0       0.80800         0.529  0.0964          0.062800   \n",
      "2783           404600.0       0.23600         0.327  0.9050          0.000106   \n",
      "3720           260160.0       0.92200         0.650  0.3160          0.000000   \n",
      "...                 ...           ...           ...     ...               ...   \n",
      "16678          207826.0       0.24600         0.506  0.4960          0.000012   \n",
      "16679          577226.0       0.00352         0.453  0.7210          0.833000   \n",
      "16940          221045.0       0.98300         0.139  0.1030          0.871000   \n",
      "17545          334628.0       0.00123         0.650  0.8770          0.917000   \n",
      "18820          250850.0       0.95900         0.417  0.1020          0.000275   \n",
      "\n",
      "       key  liveness  loudness  audio_mode  speechiness    tempo  \\\n",
      "389      1     0.157   -22.047         0.0       0.8910   96.637   \n",
      "501      0     0.977    -8.232         1.0       0.0284   98.284   \n",
      "1351     0     0.709   -22.052         1.0       0.0459  151.286   \n",
      "2783     0     0.653    -6.678         1.0       0.5000  135.294   \n",
      "3720     9     0.739   -18.244         0.0       0.9400  117.198   \n",
      "...    ...       ...       ...         ...          ...      ...   \n",
      "16678    0     0.981   -12.838         1.0       0.4330   76.154   \n",
      "16679   11     0.698   -13.164         0.0       0.0533  149.557   \n",
      "16940    0     0.111   -21.571         0.0       0.0367   72.441   \n",
      "17545    9     0.623    -2.288         0.0       0.1470  149.911   \n",
      "18820    6     0.891   -16.787         1.0       0.0368  130.994   \n",
      "\n",
      "       time_signature  audio_valence  popularity  \n",
      "389               4.0         0.3760           0  \n",
      "501               4.0         0.3840           0  \n",
      "1351              4.0         0.1420           0  \n",
      "2783              4.0         0.2710           0  \n",
      "3720              4.0         0.3060           0  \n",
      "...               ...            ...         ...  \n",
      "16678             4.0         0.3430           0  \n",
      "16679             4.0         0.6010           0  \n",
      "16940             4.0         0.0529           0  \n",
      "17545             4.0         0.6270           0  \n",
      "18820             4.0         0.0863           0  \n",
      "\n",
      "[189 rows x 16 columns]\n"
     ]
    }
   ],
   "source": [
    "from sklearn.ensemble import IsolationForest\n",
    "\n",
    "def detect_outliers_iforest(df, features, n_estimators=100, contamination='auto'):\n",
    "    X = df[features].values\n",
    "\n",
    "    iforest = IsolationForest(n_estimators=n_estimators, contamination=contamination)\n",
    "    \n",
    "    outliers = iforest.fit_predict(X)\n",
    "\n",
    "    outlier_indices = np.where(outliers == -1)[0]\n",
    "    \n",
    "    return outlier_indices\n",
    "\n",
    "song = song_data.copy()\n",
    "outliers_indices_iforest = detect_outliers_iforest(song, [\"song_duration_ms\", \"danceability\", \"energy\", \"instrumentalness\", \"liveness\", \"loudness\", \"speechiness\", \"audio_valence\"], n_estimators=100, contamination=0.01)\n",
    "print(outliers_indices_iforest)\n",
    "\n",
    "outliers_iforest = song.iloc[outliers_indices_iforest]\n",
    "print(outliers_iforest)\n"
   ]
  },
  {
   "cell_type": "code",
   "execution_count": 20,
   "metadata": {
    "id": "c9CfkZOdk78a",
    "pycharm": {
     "name": "#%%\n"
    }
   },
   "outputs": [],
   "source": [
    "outliers_indices_iforest = detect_outliers_iforest(song, [\"song_duration_ms\", \"danceability\", \"energy\", \"instrumentalness\", \"liveness\", \"loudness\", \"speechiness\", \"audio_valence\"], n_estimators=100, contamination=0.01)\n",
    "\n",
    "# 删除异常值\n",
    "song_data = song.drop(outliers_indices_iforest).reset_index(drop=True)"
   ]
  },
  {
   "cell_type": "code",
   "execution_count": 21,
   "metadata": {
    "id": "4UGUg_eN6Wxs",
    "pycharm": {
     "name": "#%%\n"
    }
   },
   "outputs": [
    {
     "data": {
      "text/plain": "                        song_name  song_popularity  song_duration_ms  \\\n0      Boulevard of Broken Dreams               73          262333.0   \n1                      In The End               66          216933.0   \n2               Seven Nation Army               76          231733.0   \n3                      By The Way               74          216933.0   \n4               How You Remind Me               56          223826.0   \n...                           ...              ...               ...   \n18641              Let It Breathe               60          159645.0   \n18642                     Answers               60          205666.0   \n18643      Sudden Love (Acoustic)               23          182211.0   \n18644           Gentle on My Mind               55          352280.0   \n18645                    Up to Me               60          193533.0   \n\n       acousticness  danceability  energy  instrumentalness  key  liveness  \\\n0          0.005520         0.496   0.682          0.000029    8    0.0589   \n1          0.010300         0.542   0.853          0.000000    3    0.1080   \n2          0.008170         0.737   0.463          0.447000    0    0.2550   \n3          0.026400         0.451   0.970          0.003550    0    0.1020   \n4          0.000954         0.447   0.766          0.000000   10    0.1130   \n...             ...           ...     ...               ...  ...       ...   \n18641      0.893000         0.500   0.151          0.000065   11    0.1110   \n18642      0.765000         0.495   0.161          0.000001   11    0.1050   \n18643      0.847000         0.719   0.325          0.000000    0    0.1250   \n18644      0.945000         0.488   0.326          0.015700    3    0.1190   \n18645      0.911000         0.640   0.381          0.000254    4    0.1040   \n\n       loudness  audio_mode  speechiness    tempo  time_signature  \\\n0        -4.095         1.0       0.0294  167.060             4.0   \n1        -6.407         0.0       0.0498  105.256             4.0   \n2        -7.828         1.0       0.0792  123.881             4.0   \n3        -4.938         1.0       0.1070  122.444             4.0   \n4        -5.065         1.0       0.0313  172.011             4.0   \n...         ...         ...          ...      ...             ...   \n18641   -16.107         1.0       0.0348  113.969             4.0   \n18642   -14.078         0.0       0.0301   94.286             4.0   \n18643   -12.222         1.0       0.0355  130.534             4.0   \n18644   -12.020         1.0       0.0328  106.063             4.0   \n18645   -11.790         1.0       0.0302   91.490             4.0   \n\n       audio_valence  popularity  \n0              0.474           1  \n1              0.370           0  \n2              0.324           1  \n3              0.198           1  \n4              0.574           0  \n...              ...         ...  \n18641          0.300           0  \n18642          0.265           0  \n18643          0.286           0  \n18644          0.323           0  \n18645          0.581           0  \n\n[18646 rows x 16 columns]",
      "text/html": "<div>\n<style scoped>\n    .dataframe tbody tr th:only-of-type {\n        vertical-align: middle;\n    }\n\n    .dataframe tbody tr th {\n        vertical-align: top;\n    }\n\n    .dataframe thead th {\n        text-align: right;\n    }\n</style>\n<table border=\"1\" class=\"dataframe\">\n  <thead>\n    <tr style=\"text-align: right;\">\n      <th></th>\n      <th>song_name</th>\n      <th>song_popularity</th>\n      <th>song_duration_ms</th>\n      <th>acousticness</th>\n      <th>danceability</th>\n      <th>energy</th>\n      <th>instrumentalness</th>\n      <th>key</th>\n      <th>liveness</th>\n      <th>loudness</th>\n      <th>audio_mode</th>\n      <th>speechiness</th>\n      <th>tempo</th>\n      <th>time_signature</th>\n      <th>audio_valence</th>\n      <th>popularity</th>\n    </tr>\n  </thead>\n  <tbody>\n    <tr>\n      <th>0</th>\n      <td>Boulevard of Broken Dreams</td>\n      <td>73</td>\n      <td>262333.0</td>\n      <td>0.005520</td>\n      <td>0.496</td>\n      <td>0.682</td>\n      <td>0.000029</td>\n      <td>8</td>\n      <td>0.0589</td>\n      <td>-4.095</td>\n      <td>1.0</td>\n      <td>0.0294</td>\n      <td>167.060</td>\n      <td>4.0</td>\n      <td>0.474</td>\n      <td>1</td>\n    </tr>\n    <tr>\n      <th>1</th>\n      <td>In The End</td>\n      <td>66</td>\n      <td>216933.0</td>\n      <td>0.010300</td>\n      <td>0.542</td>\n      <td>0.853</td>\n      <td>0.000000</td>\n      <td>3</td>\n      <td>0.1080</td>\n      <td>-6.407</td>\n      <td>0.0</td>\n      <td>0.0498</td>\n      <td>105.256</td>\n      <td>4.0</td>\n      <td>0.370</td>\n      <td>0</td>\n    </tr>\n    <tr>\n      <th>2</th>\n      <td>Seven Nation Army</td>\n      <td>76</td>\n      <td>231733.0</td>\n      <td>0.008170</td>\n      <td>0.737</td>\n      <td>0.463</td>\n      <td>0.447000</td>\n      <td>0</td>\n      <td>0.2550</td>\n      <td>-7.828</td>\n      <td>1.0</td>\n      <td>0.0792</td>\n      <td>123.881</td>\n      <td>4.0</td>\n      <td>0.324</td>\n      <td>1</td>\n    </tr>\n    <tr>\n      <th>3</th>\n      <td>By The Way</td>\n      <td>74</td>\n      <td>216933.0</td>\n      <td>0.026400</td>\n      <td>0.451</td>\n      <td>0.970</td>\n      <td>0.003550</td>\n      <td>0</td>\n      <td>0.1020</td>\n      <td>-4.938</td>\n      <td>1.0</td>\n      <td>0.1070</td>\n      <td>122.444</td>\n      <td>4.0</td>\n      <td>0.198</td>\n      <td>1</td>\n    </tr>\n    <tr>\n      <th>4</th>\n      <td>How You Remind Me</td>\n      <td>56</td>\n      <td>223826.0</td>\n      <td>0.000954</td>\n      <td>0.447</td>\n      <td>0.766</td>\n      <td>0.000000</td>\n      <td>10</td>\n      <td>0.1130</td>\n      <td>-5.065</td>\n      <td>1.0</td>\n      <td>0.0313</td>\n      <td>172.011</td>\n      <td>4.0</td>\n      <td>0.574</td>\n      <td>0</td>\n    </tr>\n    <tr>\n      <th>...</th>\n      <td>...</td>\n      <td>...</td>\n      <td>...</td>\n      <td>...</td>\n      <td>...</td>\n      <td>...</td>\n      <td>...</td>\n      <td>...</td>\n      <td>...</td>\n      <td>...</td>\n      <td>...</td>\n      <td>...</td>\n      <td>...</td>\n      <td>...</td>\n      <td>...</td>\n      <td>...</td>\n    </tr>\n    <tr>\n      <th>18641</th>\n      <td>Let It Breathe</td>\n      <td>60</td>\n      <td>159645.0</td>\n      <td>0.893000</td>\n      <td>0.500</td>\n      <td>0.151</td>\n      <td>0.000065</td>\n      <td>11</td>\n      <td>0.1110</td>\n      <td>-16.107</td>\n      <td>1.0</td>\n      <td>0.0348</td>\n      <td>113.969</td>\n      <td>4.0</td>\n      <td>0.300</td>\n      <td>0</td>\n    </tr>\n    <tr>\n      <th>18642</th>\n      <td>Answers</td>\n      <td>60</td>\n      <td>205666.0</td>\n      <td>0.765000</td>\n      <td>0.495</td>\n      <td>0.161</td>\n      <td>0.000001</td>\n      <td>11</td>\n      <td>0.1050</td>\n      <td>-14.078</td>\n      <td>0.0</td>\n      <td>0.0301</td>\n      <td>94.286</td>\n      <td>4.0</td>\n      <td>0.265</td>\n      <td>0</td>\n    </tr>\n    <tr>\n      <th>18643</th>\n      <td>Sudden Love (Acoustic)</td>\n      <td>23</td>\n      <td>182211.0</td>\n      <td>0.847000</td>\n      <td>0.719</td>\n      <td>0.325</td>\n      <td>0.000000</td>\n      <td>0</td>\n      <td>0.1250</td>\n      <td>-12.222</td>\n      <td>1.0</td>\n      <td>0.0355</td>\n      <td>130.534</td>\n      <td>4.0</td>\n      <td>0.286</td>\n      <td>0</td>\n    </tr>\n    <tr>\n      <th>18644</th>\n      <td>Gentle on My Mind</td>\n      <td>55</td>\n      <td>352280.0</td>\n      <td>0.945000</td>\n      <td>0.488</td>\n      <td>0.326</td>\n      <td>0.015700</td>\n      <td>3</td>\n      <td>0.1190</td>\n      <td>-12.020</td>\n      <td>1.0</td>\n      <td>0.0328</td>\n      <td>106.063</td>\n      <td>4.0</td>\n      <td>0.323</td>\n      <td>0</td>\n    </tr>\n    <tr>\n      <th>18645</th>\n      <td>Up to Me</td>\n      <td>60</td>\n      <td>193533.0</td>\n      <td>0.911000</td>\n      <td>0.640</td>\n      <td>0.381</td>\n      <td>0.000254</td>\n      <td>4</td>\n      <td>0.1040</td>\n      <td>-11.790</td>\n      <td>1.0</td>\n      <td>0.0302</td>\n      <td>91.490</td>\n      <td>4.0</td>\n      <td>0.581</td>\n      <td>0</td>\n    </tr>\n  </tbody>\n</table>\n<p>18646 rows × 16 columns</p>\n</div>"
     },
     "execution_count": 21,
     "metadata": {},
     "output_type": "execute_result"
    }
   ],
   "source": [
    "song_data"
   ]
  },
  {
   "cell_type": "code",
   "execution_count": 22,
   "metadata": {
    "id": "Bmnkfdpi666H",
    "pycharm": {
     "name": "#%%\n"
    }
   },
   "outputs": [
    {
     "data": {
      "text/plain": "Index([], dtype='object')"
     },
     "execution_count": 22,
     "metadata": {},
     "output_type": "execute_result"
    }
   ],
   "source": [
    "song_data.columns[song_data.isnull().any()]"
   ]
  },
  {
   "cell_type": "code",
   "execution_count": 23,
   "metadata": {
    "id": "43vntT1Fk7_O",
    "pycharm": {
     "name": "#%%\n"
    }
   },
   "outputs": [
    {
     "name": "stdout",
     "output_type": "stream",
     "text": [
      "Features independent of popularity: ['audio_mode', 'audio_valence', 'energy', 'liveness', 'speechiness', 'time_signature']\n"
     ]
    }
   ],
   "source": [
    "import pandas as pd\n",
    "from sklearn.feature_selection import chi2\n",
    "from sklearn.preprocessing import Binarizer, LabelEncoder\n",
    "\n",
    "# 假设你已经将数据加载到 'song_data' 中\n",
    "df = song_data.copy()\n",
    "\n",
    "# 如果你的 'popularity' 是连续的，你可能想要将其二值化以使其变为分类变量\n",
    "# 这里，我假设一个阈值来二值化它（你可能需要调整这个）\n",
    "binarizer = Binarizer(threshold=df['popularity'].median())\n",
    "df['popularity'] = binarizer.transform(df['popularity'].values.reshape(-1, 1))\n",
    "\n",
    "for column in df.columns:\n",
    "    # 检查列是否为数值型\n",
    "    if pd.api.types.is_numeric_dtype(df[column]):\n",
    "        # 如果该列的最小值小于0，则进行调整\n",
    "        if df[column].min() < 0:\n",
    "            df[column] += abs(df[column].min())\n",
    "\n",
    "# 移除所有非数值型的列\n",
    "df_numeric = df.select_dtypes(include=[np.number])\n",
    "\n",
    "X = df_numeric.drop(columns='popularity')\n",
    "y = df['popularity']\n",
    "chi2_stat, p_values = chi2(X, y)\n",
    "\n",
    "independent_features = X.columns[p_values > 0.05]\n",
    "independent_features_simplified = set()\n",
    "for feature in independent_features:\n",
    "    if \"key_\" in feature:\n",
    "        independent_features_simplified.add(\"\")\n",
    "    elif \"audio_mode_\" in feature:\n",
    "        independent_features_simplified.add(\"audio_mode\")\n",
    "    elif \"time_signature_\" in feature:\n",
    "        independent_features_simplified.add(\"time_signature\")\n",
    "    else:\n",
    "        independent_features_simplified.add(feature)\n",
    "\n",
    "print(\"Features independent of popularity:\", sorted(list(independent_features_simplified)))\n"
   ]
  },
  {
   "cell_type": "markdown",
   "metadata": {
    "id": "M0_FCvT-8sfG",
    "pycharm": {
     "name": "#%% md\n"
    }
   },
   "source": [
    "# Analysis"
   ]
  },
  {
   "cell_type": "code",
   "execution_count": 24,
   "metadata": {
    "id": "33m0zf76k8B8",
    "pycharm": {
     "name": "#%%\n"
    }
   },
   "outputs": [
    {
     "data": {
      "text/plain": "0    13215\n1     5431\nName: popularity, dtype: int64"
     },
     "execution_count": 24,
     "metadata": {},
     "output_type": "execute_result"
    }
   ],
   "source": [
    "song_data[\"popularity\"]= [ 1 if i>=66.5 else 0 for i in song_data.song_popularity ]\n",
    "song_data[\"popularity\"].value_counts()"
   ]
  },
  {
   "cell_type": "code",
   "execution_count": 25,
   "metadata": {
    "pycharm": {
     "name": "#%%\n"
    }
   },
   "outputs": [
    {
     "data": {
      "text/plain": "                     song_name  song_popularity  song_duration_ms  \\\n0   Boulevard of Broken Dreams               73          262333.0   \n1                   In The End               66          216933.0   \n2            Seven Nation Army               76          231733.0   \n3                   By The Way               74          216933.0   \n4            How You Remind Me               56          223826.0   \n5             Bring Me To Life               80          235893.0   \n6                  Last Resort               81          199893.0   \n7     Are You Gonna Be My Girl               76          213800.0   \n8               Mr. Brightside               80          222586.0   \n9                  Sex on Fire               81          203346.0   \n10                  The Middle               78          168253.0   \n11                        Numb               63          185586.0   \n12             Smooth Criminal               75          209266.0   \n13                  Can't Stop               81          269000.0   \n14                  Chop Suey!               69          210240.0   \n15                 Take Me Out               77          237026.0   \n16                  I Miss You               71          227240.0   \n17                 Best of You               62          256600.0   \n18  I Write Sins Not Tragedies               77          187613.0   \n19                  Kryptonite               79          233933.0   \n\n    acousticness  danceability  energy  instrumentalness  key  liveness  \\\n0       0.005520         0.496   0.682          0.000029    8    0.0589   \n1       0.010300         0.542   0.853          0.000000    3    0.1080   \n2       0.008170         0.737   0.463          0.447000    0    0.2550   \n3       0.026400         0.451   0.970          0.003550    0    0.1020   \n4       0.000954         0.447   0.766          0.000000   10    0.1130   \n5       0.008950         0.316   0.945          0.000002    4    0.3960   \n6       0.000504         0.581   0.887          0.001110    4    0.2680   \n7       0.001480         0.613   0.953          0.000582    2    0.1520   \n8       0.001080         0.330   0.936          0.000000    1    0.0926   \n9       0.001720         0.542   0.905          0.010400    9    0.1360   \n10      0.042400         0.629   0.897          0.000000    2    0.2630   \n11      0.004600         0.496   0.863          0.000000    9    0.6390   \n12      0.004340         0.647   0.964          0.003600    9    0.1500   \n13      0.017900         0.618   0.938          0.000000    9    0.1670   \n14      0.000353         0.420   0.929          0.000747    7    0.1220   \n15      0.000423         0.278   0.676          0.000899    9    0.1360   \n16      0.001360         0.659   0.778          0.000007   11    0.0841   \n17      0.007010         0.370   0.944          0.000003    1    0.1350   \n18      0.093800         0.567   0.795          0.000000    9    0.1140   \n19      0.006640         0.545   0.865          0.000011   11    0.1680   \n\n    loudness  audio_mode  speechiness    tempo  time_signature  audio_valence  \\\n0     -4.095         1.0       0.0294  167.060             4.0          0.474   \n1     -6.407         0.0       0.0498  105.256             4.0          0.370   \n2     -7.828         1.0       0.0792  123.881             4.0          0.324   \n3     -4.938         1.0       0.1070  122.444             4.0          0.198   \n4     -5.065         1.0       0.0313  172.011             4.0          0.574   \n5     -3.169         0.0       0.1240  189.931             4.0          0.320   \n6     -3.659         0.0       0.0624   90.578             4.0          0.724   \n7     -3.435         1.0       0.0855  105.046             4.0          0.537   \n8     -3.660         1.0       0.0917  148.112             4.0          0.234   \n9     -5.653         1.0       0.0540  153.398             4.0          0.374   \n10    -3.401         1.0       0.0483  161.944             4.0          0.930   \n11    -4.153         1.0       0.0381  110.018             4.0          0.243   \n12    -4.225         0.0       0.0600  126.942             4.0          0.875   \n13    -3.442         1.0       0.0456   91.455             4.0          0.875   \n14    -3.899         0.0       0.1210  127.204             4.0          0.300   \n15    -8.821         1.0       0.0371  104.545             4.0          0.494   \n16    -6.423         1.0       0.0379  110.022             4.0          0.623   \n17    -4.979         0.0       0.0767  130.315             4.0          0.345   \n18    -4.985         0.0       0.1340  170.060             4.0          0.635   \n19    -5.708         0.0       0.0286   99.010             4.0          0.543   \n\n    popularity  \n0            1  \n1            0  \n2            1  \n3            1  \n4            0  \n5            1  \n6            1  \n7            1  \n8            1  \n9            1  \n10           1  \n11           0  \n12           1  \n13           1  \n14           1  \n15           1  \n16           1  \n17           0  \n18           1  \n19           1  ",
      "text/html": "<div>\n<style scoped>\n    .dataframe tbody tr th:only-of-type {\n        vertical-align: middle;\n    }\n\n    .dataframe tbody tr th {\n        vertical-align: top;\n    }\n\n    .dataframe thead th {\n        text-align: right;\n    }\n</style>\n<table border=\"1\" class=\"dataframe\">\n  <thead>\n    <tr style=\"text-align: right;\">\n      <th></th>\n      <th>song_name</th>\n      <th>song_popularity</th>\n      <th>song_duration_ms</th>\n      <th>acousticness</th>\n      <th>danceability</th>\n      <th>energy</th>\n      <th>instrumentalness</th>\n      <th>key</th>\n      <th>liveness</th>\n      <th>loudness</th>\n      <th>audio_mode</th>\n      <th>speechiness</th>\n      <th>tempo</th>\n      <th>time_signature</th>\n      <th>audio_valence</th>\n      <th>popularity</th>\n    </tr>\n  </thead>\n  <tbody>\n    <tr>\n      <th>0</th>\n      <td>Boulevard of Broken Dreams</td>\n      <td>73</td>\n      <td>262333.0</td>\n      <td>0.005520</td>\n      <td>0.496</td>\n      <td>0.682</td>\n      <td>0.000029</td>\n      <td>8</td>\n      <td>0.0589</td>\n      <td>-4.095</td>\n      <td>1.0</td>\n      <td>0.0294</td>\n      <td>167.060</td>\n      <td>4.0</td>\n      <td>0.474</td>\n      <td>1</td>\n    </tr>\n    <tr>\n      <th>1</th>\n      <td>In The End</td>\n      <td>66</td>\n      <td>216933.0</td>\n      <td>0.010300</td>\n      <td>0.542</td>\n      <td>0.853</td>\n      <td>0.000000</td>\n      <td>3</td>\n      <td>0.1080</td>\n      <td>-6.407</td>\n      <td>0.0</td>\n      <td>0.0498</td>\n      <td>105.256</td>\n      <td>4.0</td>\n      <td>0.370</td>\n      <td>0</td>\n    </tr>\n    <tr>\n      <th>2</th>\n      <td>Seven Nation Army</td>\n      <td>76</td>\n      <td>231733.0</td>\n      <td>0.008170</td>\n      <td>0.737</td>\n      <td>0.463</td>\n      <td>0.447000</td>\n      <td>0</td>\n      <td>0.2550</td>\n      <td>-7.828</td>\n      <td>1.0</td>\n      <td>0.0792</td>\n      <td>123.881</td>\n      <td>4.0</td>\n      <td>0.324</td>\n      <td>1</td>\n    </tr>\n    <tr>\n      <th>3</th>\n      <td>By The Way</td>\n      <td>74</td>\n      <td>216933.0</td>\n      <td>0.026400</td>\n      <td>0.451</td>\n      <td>0.970</td>\n      <td>0.003550</td>\n      <td>0</td>\n      <td>0.1020</td>\n      <td>-4.938</td>\n      <td>1.0</td>\n      <td>0.1070</td>\n      <td>122.444</td>\n      <td>4.0</td>\n      <td>0.198</td>\n      <td>1</td>\n    </tr>\n    <tr>\n      <th>4</th>\n      <td>How You Remind Me</td>\n      <td>56</td>\n      <td>223826.0</td>\n      <td>0.000954</td>\n      <td>0.447</td>\n      <td>0.766</td>\n      <td>0.000000</td>\n      <td>10</td>\n      <td>0.1130</td>\n      <td>-5.065</td>\n      <td>1.0</td>\n      <td>0.0313</td>\n      <td>172.011</td>\n      <td>4.0</td>\n      <td>0.574</td>\n      <td>0</td>\n    </tr>\n    <tr>\n      <th>5</th>\n      <td>Bring Me To Life</td>\n      <td>80</td>\n      <td>235893.0</td>\n      <td>0.008950</td>\n      <td>0.316</td>\n      <td>0.945</td>\n      <td>0.000002</td>\n      <td>4</td>\n      <td>0.3960</td>\n      <td>-3.169</td>\n      <td>0.0</td>\n      <td>0.1240</td>\n      <td>189.931</td>\n      <td>4.0</td>\n      <td>0.320</td>\n      <td>1</td>\n    </tr>\n    <tr>\n      <th>6</th>\n      <td>Last Resort</td>\n      <td>81</td>\n      <td>199893.0</td>\n      <td>0.000504</td>\n      <td>0.581</td>\n      <td>0.887</td>\n      <td>0.001110</td>\n      <td>4</td>\n      <td>0.2680</td>\n      <td>-3.659</td>\n      <td>0.0</td>\n      <td>0.0624</td>\n      <td>90.578</td>\n      <td>4.0</td>\n      <td>0.724</td>\n      <td>1</td>\n    </tr>\n    <tr>\n      <th>7</th>\n      <td>Are You Gonna Be My Girl</td>\n      <td>76</td>\n      <td>213800.0</td>\n      <td>0.001480</td>\n      <td>0.613</td>\n      <td>0.953</td>\n      <td>0.000582</td>\n      <td>2</td>\n      <td>0.1520</td>\n      <td>-3.435</td>\n      <td>1.0</td>\n      <td>0.0855</td>\n      <td>105.046</td>\n      <td>4.0</td>\n      <td>0.537</td>\n      <td>1</td>\n    </tr>\n    <tr>\n      <th>8</th>\n      <td>Mr. Brightside</td>\n      <td>80</td>\n      <td>222586.0</td>\n      <td>0.001080</td>\n      <td>0.330</td>\n      <td>0.936</td>\n      <td>0.000000</td>\n      <td>1</td>\n      <td>0.0926</td>\n      <td>-3.660</td>\n      <td>1.0</td>\n      <td>0.0917</td>\n      <td>148.112</td>\n      <td>4.0</td>\n      <td>0.234</td>\n      <td>1</td>\n    </tr>\n    <tr>\n      <th>9</th>\n      <td>Sex on Fire</td>\n      <td>81</td>\n      <td>203346.0</td>\n      <td>0.001720</td>\n      <td>0.542</td>\n      <td>0.905</td>\n      <td>0.010400</td>\n      <td>9</td>\n      <td>0.1360</td>\n      <td>-5.653</td>\n      <td>1.0</td>\n      <td>0.0540</td>\n      <td>153.398</td>\n      <td>4.0</td>\n      <td>0.374</td>\n      <td>1</td>\n    </tr>\n    <tr>\n      <th>10</th>\n      <td>The Middle</td>\n      <td>78</td>\n      <td>168253.0</td>\n      <td>0.042400</td>\n      <td>0.629</td>\n      <td>0.897</td>\n      <td>0.000000</td>\n      <td>2</td>\n      <td>0.2630</td>\n      <td>-3.401</td>\n      <td>1.0</td>\n      <td>0.0483</td>\n      <td>161.944</td>\n      <td>4.0</td>\n      <td>0.930</td>\n      <td>1</td>\n    </tr>\n    <tr>\n      <th>11</th>\n      <td>Numb</td>\n      <td>63</td>\n      <td>185586.0</td>\n      <td>0.004600</td>\n      <td>0.496</td>\n      <td>0.863</td>\n      <td>0.000000</td>\n      <td>9</td>\n      <td>0.6390</td>\n      <td>-4.153</td>\n      <td>1.0</td>\n      <td>0.0381</td>\n      <td>110.018</td>\n      <td>4.0</td>\n      <td>0.243</td>\n      <td>0</td>\n    </tr>\n    <tr>\n      <th>12</th>\n      <td>Smooth Criminal</td>\n      <td>75</td>\n      <td>209266.0</td>\n      <td>0.004340</td>\n      <td>0.647</td>\n      <td>0.964</td>\n      <td>0.003600</td>\n      <td>9</td>\n      <td>0.1500</td>\n      <td>-4.225</td>\n      <td>0.0</td>\n      <td>0.0600</td>\n      <td>126.942</td>\n      <td>4.0</td>\n      <td>0.875</td>\n      <td>1</td>\n    </tr>\n    <tr>\n      <th>13</th>\n      <td>Can't Stop</td>\n      <td>81</td>\n      <td>269000.0</td>\n      <td>0.017900</td>\n      <td>0.618</td>\n      <td>0.938</td>\n      <td>0.000000</td>\n      <td>9</td>\n      <td>0.1670</td>\n      <td>-3.442</td>\n      <td>1.0</td>\n      <td>0.0456</td>\n      <td>91.455</td>\n      <td>4.0</td>\n      <td>0.875</td>\n      <td>1</td>\n    </tr>\n    <tr>\n      <th>14</th>\n      <td>Chop Suey!</td>\n      <td>69</td>\n      <td>210240.0</td>\n      <td>0.000353</td>\n      <td>0.420</td>\n      <td>0.929</td>\n      <td>0.000747</td>\n      <td>7</td>\n      <td>0.1220</td>\n      <td>-3.899</td>\n      <td>0.0</td>\n      <td>0.1210</td>\n      <td>127.204</td>\n      <td>4.0</td>\n      <td>0.300</td>\n      <td>1</td>\n    </tr>\n    <tr>\n      <th>15</th>\n      <td>Take Me Out</td>\n      <td>77</td>\n      <td>237026.0</td>\n      <td>0.000423</td>\n      <td>0.278</td>\n      <td>0.676</td>\n      <td>0.000899</td>\n      <td>9</td>\n      <td>0.1360</td>\n      <td>-8.821</td>\n      <td>1.0</td>\n      <td>0.0371</td>\n      <td>104.545</td>\n      <td>4.0</td>\n      <td>0.494</td>\n      <td>1</td>\n    </tr>\n    <tr>\n      <th>16</th>\n      <td>I Miss You</td>\n      <td>71</td>\n      <td>227240.0</td>\n      <td>0.001360</td>\n      <td>0.659</td>\n      <td>0.778</td>\n      <td>0.000007</td>\n      <td>11</td>\n      <td>0.0841</td>\n      <td>-6.423</td>\n      <td>1.0</td>\n      <td>0.0379</td>\n      <td>110.022</td>\n      <td>4.0</td>\n      <td>0.623</td>\n      <td>1</td>\n    </tr>\n    <tr>\n      <th>17</th>\n      <td>Best of You</td>\n      <td>62</td>\n      <td>256600.0</td>\n      <td>0.007010</td>\n      <td>0.370</td>\n      <td>0.944</td>\n      <td>0.000003</td>\n      <td>1</td>\n      <td>0.1350</td>\n      <td>-4.979</td>\n      <td>0.0</td>\n      <td>0.0767</td>\n      <td>130.315</td>\n      <td>4.0</td>\n      <td>0.345</td>\n      <td>0</td>\n    </tr>\n    <tr>\n      <th>18</th>\n      <td>I Write Sins Not Tragedies</td>\n      <td>77</td>\n      <td>187613.0</td>\n      <td>0.093800</td>\n      <td>0.567</td>\n      <td>0.795</td>\n      <td>0.000000</td>\n      <td>9</td>\n      <td>0.1140</td>\n      <td>-4.985</td>\n      <td>0.0</td>\n      <td>0.1340</td>\n      <td>170.060</td>\n      <td>4.0</td>\n      <td>0.635</td>\n      <td>1</td>\n    </tr>\n    <tr>\n      <th>19</th>\n      <td>Kryptonite</td>\n      <td>79</td>\n      <td>233933.0</td>\n      <td>0.006640</td>\n      <td>0.545</td>\n      <td>0.865</td>\n      <td>0.000011</td>\n      <td>11</td>\n      <td>0.1680</td>\n      <td>-5.708</td>\n      <td>0.0</td>\n      <td>0.0286</td>\n      <td>99.010</td>\n      <td>4.0</td>\n      <td>0.543</td>\n      <td>1</td>\n    </tr>\n  </tbody>\n</table>\n</div>"
     },
     "execution_count": 25,
     "metadata": {},
     "output_type": "execute_result"
    }
   ],
   "source": [
    "song_data.head(20)"
   ]
  },
  {
   "cell_type": "code",
   "execution_count": 26,
   "metadata": {
    "id": "FRpNolDOk8Ev",
    "pycharm": {
     "name": "#%%\n"
    }
   },
   "outputs": [
    {
     "data": {
      "text/plain": "   popularity                   song_name\n0           1  Boulevard of Broken Dreams\n1           0                  In The End\n2           1           Seven Nation Army\n3           1                  By The Way\n4           0           How You Remind Me",
      "text/html": "<div>\n<style scoped>\n    .dataframe tbody tr th:only-of-type {\n        vertical-align: middle;\n    }\n\n    .dataframe tbody tr th {\n        vertical-align: top;\n    }\n\n    .dataframe thead th {\n        text-align: right;\n    }\n</style>\n<table border=\"1\" class=\"dataframe\">\n  <thead>\n    <tr style=\"text-align: right;\">\n      <th></th>\n      <th>popularity</th>\n      <th>song_name</th>\n    </tr>\n  </thead>\n  <tbody>\n    <tr>\n      <th>0</th>\n      <td>1</td>\n      <td>Boulevard of Broken Dreams</td>\n    </tr>\n    <tr>\n      <th>1</th>\n      <td>0</td>\n      <td>In The End</td>\n    </tr>\n    <tr>\n      <th>2</th>\n      <td>1</td>\n      <td>Seven Nation Army</td>\n    </tr>\n    <tr>\n      <th>3</th>\n      <td>1</td>\n      <td>By The Way</td>\n    </tr>\n    <tr>\n      <th>4</th>\n      <td>0</td>\n      <td>How You Remind Me</td>\n    </tr>\n  </tbody>\n</table>\n</div>"
     },
     "execution_count": 26,
     "metadata": {},
     "output_type": "execute_result"
    }
   ],
   "source": [
    "data_plr = pd.concat([song_data.popularity,song_data.song_name],axis=1)\n",
    "data_plr.head()"
   ]
  },
  {
   "cell_type": "code",
   "execution_count": 27,
   "metadata": {
    "id": "T4kRgmhflQmz",
    "pycharm": {
     "name": "#%%\n"
    }
   },
   "outputs": [],
   "source": [
    "song_data['song_name'].value_counts(dropna=False)\n",
    "song_data['song_name'].dropna(inplace=True)"
   ]
  },
  {
   "cell_type": "code",
   "execution_count": 28,
   "metadata": {
    "id": "gPhWeyQTJNfm",
    "pycharm": {
     "name": "#%%\n"
    }
   },
   "outputs": [],
   "source": [
    "from textblob import TextBlob\n",
    "data_plr['sentiment'] = data_plr['song_name'].map(lambda text: TextBlob(text).sentiment.polarity)"
   ]
  },
  {
   "cell_type": "code",
   "execution_count": 29,
   "metadata": {
    "id": "ywIywgQCmaDe",
    "pycharm": {
     "name": "#%%\n"
    }
   },
   "outputs": [
    {
     "data": {
      "text/plain": "   popularity                   song_name  sentiment\n0           1  Boulevard of Broken Dreams       -0.4\n1           0                  In The End        0.0\n2           1           Seven Nation Army        0.0\n3           1                  By The Way        0.0\n4           0           How You Remind Me        0.0",
      "text/html": "<div>\n<style scoped>\n    .dataframe tbody tr th:only-of-type {\n        vertical-align: middle;\n    }\n\n    .dataframe tbody tr th {\n        vertical-align: top;\n    }\n\n    .dataframe thead th {\n        text-align: right;\n    }\n</style>\n<table border=\"1\" class=\"dataframe\">\n  <thead>\n    <tr style=\"text-align: right;\">\n      <th></th>\n      <th>popularity</th>\n      <th>song_name</th>\n      <th>sentiment</th>\n    </tr>\n  </thead>\n  <tbody>\n    <tr>\n      <th>0</th>\n      <td>1</td>\n      <td>Boulevard of Broken Dreams</td>\n      <td>-0.4</td>\n    </tr>\n    <tr>\n      <th>1</th>\n      <td>0</td>\n      <td>In The End</td>\n      <td>0.0</td>\n    </tr>\n    <tr>\n      <th>2</th>\n      <td>1</td>\n      <td>Seven Nation Army</td>\n      <td>0.0</td>\n    </tr>\n    <tr>\n      <th>3</th>\n      <td>1</td>\n      <td>By The Way</td>\n      <td>0.0</td>\n    </tr>\n    <tr>\n      <th>4</th>\n      <td>0</td>\n      <td>How You Remind Me</td>\n      <td>0.0</td>\n    </tr>\n  </tbody>\n</table>\n</div>"
     },
     "execution_count": 29,
     "metadata": {},
     "output_type": "execute_result"
    }
   ],
   "source": [
    "data_plr.head()"
   ]
  },
  {
   "cell_type": "code",
   "execution_count": 30,
   "metadata": {
    "id": "kh9CVQM5lQtS",
    "pycharm": {
     "name": "#%%\n"
    }
   },
   "outputs": [
    {
     "data": {
      "text/plain": "   polarity  sentiment\n0  negative       -0.4\n1   neutral        0.0\n2   neutral        0.0\n3   neutral        0.0\n4   neutral        0.0",
      "text/html": "<div>\n<style scoped>\n    .dataframe tbody tr th:only-of-type {\n        vertical-align: middle;\n    }\n\n    .dataframe tbody tr th {\n        vertical-align: top;\n    }\n\n    .dataframe thead th {\n        text-align: right;\n    }\n</style>\n<table border=\"1\" class=\"dataframe\">\n  <thead>\n    <tr style=\"text-align: right;\">\n      <th></th>\n      <th>polarity</th>\n      <th>sentiment</th>\n    </tr>\n  </thead>\n  <tbody>\n    <tr>\n      <th>0</th>\n      <td>negative</td>\n      <td>-0.4</td>\n    </tr>\n    <tr>\n      <th>1</th>\n      <td>neutral</td>\n      <td>0.0</td>\n    </tr>\n    <tr>\n      <th>2</th>\n      <td>neutral</td>\n      <td>0.0</td>\n    </tr>\n    <tr>\n      <th>3</th>\n      <td>neutral</td>\n      <td>0.0</td>\n    </tr>\n    <tr>\n      <th>4</th>\n      <td>neutral</td>\n      <td>0.0</td>\n    </tr>\n  </tbody>\n</table>\n</div>"
     },
     "execution_count": 30,
     "metadata": {},
     "output_type": "execute_result"
    }
   ],
   "source": [
    "import numpy as np\n",
    "cut = pd.cut(\n",
    "    data_plr['sentiment'],\n",
    "    [-np.inf, -.01, .01, np.inf],\n",
    "    labels=['negative', 'neutral', 'positive']\n",
    ")\n",
    "data_plr['polarity'] = cut.values\n",
    "data_plr[['polarity','sentiment']].head()"
   ]
  },
  {
   "cell_type": "code",
   "execution_count": 31,
   "metadata": {
    "id": "_0jX2FLt_DJt",
    "pycharm": {
     "name": "#%%\n"
    }
   },
   "outputs": [
    {
     "data": {
      "text/plain": "                        song_name  song_popularity  song_duration_ms  \\\n0      Boulevard of Broken Dreams               73          262333.0   \n1                      In The End               66          216933.0   \n2               Seven Nation Army               76          231733.0   \n3                      By The Way               74          216933.0   \n4               How You Remind Me               56          223826.0   \n...                           ...              ...               ...   \n18641              Let It Breathe               60          159645.0   \n18642                     Answers               60          205666.0   \n18643      Sudden Love (Acoustic)               23          182211.0   \n18644           Gentle on My Mind               55          352280.0   \n18645                    Up to Me               60          193533.0   \n\n       acousticness  danceability  energy  instrumentalness  key  liveness  \\\n0          0.005520         0.496   0.682          0.000029    8    0.0589   \n1          0.010300         0.542   0.853          0.000000    3    0.1080   \n2          0.008170         0.737   0.463          0.447000    0    0.2550   \n3          0.026400         0.451   0.970          0.003550    0    0.1020   \n4          0.000954         0.447   0.766          0.000000   10    0.1130   \n...             ...           ...     ...               ...  ...       ...   \n18641      0.893000         0.500   0.151          0.000065   11    0.1110   \n18642      0.765000         0.495   0.161          0.000001   11    0.1050   \n18643      0.847000         0.719   0.325          0.000000    0    0.1250   \n18644      0.945000         0.488   0.326          0.015700    3    0.1190   \n18645      0.911000         0.640   0.381          0.000254    4    0.1040   \n\n       loudness  audio_mode  speechiness    tempo  time_signature  \\\n0        -4.095         1.0       0.0294  167.060             4.0   \n1        -6.407         0.0       0.0498  105.256             4.0   \n2        -7.828         1.0       0.0792  123.881             4.0   \n3        -4.938         1.0       0.1070  122.444             4.0   \n4        -5.065         1.0       0.0313  172.011             4.0   \n...         ...         ...          ...      ...             ...   \n18641   -16.107         1.0       0.0348  113.969             4.0   \n18642   -14.078         0.0       0.0301   94.286             4.0   \n18643   -12.222         1.0       0.0355  130.534             4.0   \n18644   -12.020         1.0       0.0328  106.063             4.0   \n18645   -11.790         1.0       0.0302   91.490             4.0   \n\n       audio_valence  popularity  sentiment  \n0              0.474           1      -0.40  \n1              0.370           0       0.00  \n2              0.324           1       0.00  \n3              0.198           1       0.00  \n4              0.574           0       0.00  \n...              ...         ...        ...  \n18641          0.300           0       0.00  \n18642          0.265           0       0.00  \n18643          0.286           0       0.25  \n18644          0.323           0       0.20  \n18645          0.581           0       0.00  \n\n[18646 rows x 17 columns]",
      "text/html": "<div>\n<style scoped>\n    .dataframe tbody tr th:only-of-type {\n        vertical-align: middle;\n    }\n\n    .dataframe tbody tr th {\n        vertical-align: top;\n    }\n\n    .dataframe thead th {\n        text-align: right;\n    }\n</style>\n<table border=\"1\" class=\"dataframe\">\n  <thead>\n    <tr style=\"text-align: right;\">\n      <th></th>\n      <th>song_name</th>\n      <th>song_popularity</th>\n      <th>song_duration_ms</th>\n      <th>acousticness</th>\n      <th>danceability</th>\n      <th>energy</th>\n      <th>instrumentalness</th>\n      <th>key</th>\n      <th>liveness</th>\n      <th>loudness</th>\n      <th>audio_mode</th>\n      <th>speechiness</th>\n      <th>tempo</th>\n      <th>time_signature</th>\n      <th>audio_valence</th>\n      <th>popularity</th>\n      <th>sentiment</th>\n    </tr>\n  </thead>\n  <tbody>\n    <tr>\n      <th>0</th>\n      <td>Boulevard of Broken Dreams</td>\n      <td>73</td>\n      <td>262333.0</td>\n      <td>0.005520</td>\n      <td>0.496</td>\n      <td>0.682</td>\n      <td>0.000029</td>\n      <td>8</td>\n      <td>0.0589</td>\n      <td>-4.095</td>\n      <td>1.0</td>\n      <td>0.0294</td>\n      <td>167.060</td>\n      <td>4.0</td>\n      <td>0.474</td>\n      <td>1</td>\n      <td>-0.40</td>\n    </tr>\n    <tr>\n      <th>1</th>\n      <td>In The End</td>\n      <td>66</td>\n      <td>216933.0</td>\n      <td>0.010300</td>\n      <td>0.542</td>\n      <td>0.853</td>\n      <td>0.000000</td>\n      <td>3</td>\n      <td>0.1080</td>\n      <td>-6.407</td>\n      <td>0.0</td>\n      <td>0.0498</td>\n      <td>105.256</td>\n      <td>4.0</td>\n      <td>0.370</td>\n      <td>0</td>\n      <td>0.00</td>\n    </tr>\n    <tr>\n      <th>2</th>\n      <td>Seven Nation Army</td>\n      <td>76</td>\n      <td>231733.0</td>\n      <td>0.008170</td>\n      <td>0.737</td>\n      <td>0.463</td>\n      <td>0.447000</td>\n      <td>0</td>\n      <td>0.2550</td>\n      <td>-7.828</td>\n      <td>1.0</td>\n      <td>0.0792</td>\n      <td>123.881</td>\n      <td>4.0</td>\n      <td>0.324</td>\n      <td>1</td>\n      <td>0.00</td>\n    </tr>\n    <tr>\n      <th>3</th>\n      <td>By The Way</td>\n      <td>74</td>\n      <td>216933.0</td>\n      <td>0.026400</td>\n      <td>0.451</td>\n      <td>0.970</td>\n      <td>0.003550</td>\n      <td>0</td>\n      <td>0.1020</td>\n      <td>-4.938</td>\n      <td>1.0</td>\n      <td>0.1070</td>\n      <td>122.444</td>\n      <td>4.0</td>\n      <td>0.198</td>\n      <td>1</td>\n      <td>0.00</td>\n    </tr>\n    <tr>\n      <th>4</th>\n      <td>How You Remind Me</td>\n      <td>56</td>\n      <td>223826.0</td>\n      <td>0.000954</td>\n      <td>0.447</td>\n      <td>0.766</td>\n      <td>0.000000</td>\n      <td>10</td>\n      <td>0.1130</td>\n      <td>-5.065</td>\n      <td>1.0</td>\n      <td>0.0313</td>\n      <td>172.011</td>\n      <td>4.0</td>\n      <td>0.574</td>\n      <td>0</td>\n      <td>0.00</td>\n    </tr>\n    <tr>\n      <th>...</th>\n      <td>...</td>\n      <td>...</td>\n      <td>...</td>\n      <td>...</td>\n      <td>...</td>\n      <td>...</td>\n      <td>...</td>\n      <td>...</td>\n      <td>...</td>\n      <td>...</td>\n      <td>...</td>\n      <td>...</td>\n      <td>...</td>\n      <td>...</td>\n      <td>...</td>\n      <td>...</td>\n      <td>...</td>\n    </tr>\n    <tr>\n      <th>18641</th>\n      <td>Let It Breathe</td>\n      <td>60</td>\n      <td>159645.0</td>\n      <td>0.893000</td>\n      <td>0.500</td>\n      <td>0.151</td>\n      <td>0.000065</td>\n      <td>11</td>\n      <td>0.1110</td>\n      <td>-16.107</td>\n      <td>1.0</td>\n      <td>0.0348</td>\n      <td>113.969</td>\n      <td>4.0</td>\n      <td>0.300</td>\n      <td>0</td>\n      <td>0.00</td>\n    </tr>\n    <tr>\n      <th>18642</th>\n      <td>Answers</td>\n      <td>60</td>\n      <td>205666.0</td>\n      <td>0.765000</td>\n      <td>0.495</td>\n      <td>0.161</td>\n      <td>0.000001</td>\n      <td>11</td>\n      <td>0.1050</td>\n      <td>-14.078</td>\n      <td>0.0</td>\n      <td>0.0301</td>\n      <td>94.286</td>\n      <td>4.0</td>\n      <td>0.265</td>\n      <td>0</td>\n      <td>0.00</td>\n    </tr>\n    <tr>\n      <th>18643</th>\n      <td>Sudden Love (Acoustic)</td>\n      <td>23</td>\n      <td>182211.0</td>\n      <td>0.847000</td>\n      <td>0.719</td>\n      <td>0.325</td>\n      <td>0.000000</td>\n      <td>0</td>\n      <td>0.1250</td>\n      <td>-12.222</td>\n      <td>1.0</td>\n      <td>0.0355</td>\n      <td>130.534</td>\n      <td>4.0</td>\n      <td>0.286</td>\n      <td>0</td>\n      <td>0.25</td>\n    </tr>\n    <tr>\n      <th>18644</th>\n      <td>Gentle on My Mind</td>\n      <td>55</td>\n      <td>352280.0</td>\n      <td>0.945000</td>\n      <td>0.488</td>\n      <td>0.326</td>\n      <td>0.015700</td>\n      <td>3</td>\n      <td>0.1190</td>\n      <td>-12.020</td>\n      <td>1.0</td>\n      <td>0.0328</td>\n      <td>106.063</td>\n      <td>4.0</td>\n      <td>0.323</td>\n      <td>0</td>\n      <td>0.20</td>\n    </tr>\n    <tr>\n      <th>18645</th>\n      <td>Up to Me</td>\n      <td>60</td>\n      <td>193533.0</td>\n      <td>0.911000</td>\n      <td>0.640</td>\n      <td>0.381</td>\n      <td>0.000254</td>\n      <td>4</td>\n      <td>0.1040</td>\n      <td>-11.790</td>\n      <td>1.0</td>\n      <td>0.0302</td>\n      <td>91.490</td>\n      <td>4.0</td>\n      <td>0.581</td>\n      <td>0</td>\n      <td>0.00</td>\n    </tr>\n  </tbody>\n</table>\n<p>18646 rows × 17 columns</p>\n</div>"
     },
     "execution_count": 31,
     "metadata": {},
     "output_type": "execute_result"
    }
   ],
   "source": [
    "song_data =pd.concat([song_data,data_plr.sentiment],axis=1)\n",
    "song_data"
   ]
  },
  {
   "cell_type": "code",
   "execution_count": 32,
   "metadata": {
    "id": "fK8ryu8j_EgI",
    "pycharm": {
     "name": "#%%\n"
    }
   },
   "outputs": [
    {
     "data": {
      "text/plain": "                    song_name  song_popularity  song_duration_ms  \\\n0  Boulevard of Broken Dreams               73          262333.0   \n1                  In The End               66          216933.0   \n2           Seven Nation Army               76          231733.0   \n3                  By The Way               74          216933.0   \n4           How You Remind Me               56          223826.0   \n\n   acousticness  danceability  energy  instrumentalness  liveness  loudness  \\\n0      0.005520         0.496   0.682          0.000029    0.0589    -4.095   \n1      0.010300         0.542   0.853          0.000000    0.1080    -6.407   \n2      0.008170         0.737   0.463          0.447000    0.2550    -7.828   \n3      0.026400         0.451   0.970          0.003550    0.1020    -4.938   \n4      0.000954         0.447   0.766          0.000000    0.1130    -5.065   \n\n   audio_mode  ...  key_2  key_3  key_4  key_5  key_6  key_7  key_8  key_9  \\\n0         1.0  ...      0      0      0      0      0      0      1      0   \n1         0.0  ...      0      1      0      0      0      0      0      0   \n2         1.0  ...      0      0      0      0      0      0      0      0   \n3         1.0  ...      0      0      0      0      0      0      0      0   \n4         1.0  ...      0      0      0      0      0      0      0      0   \n\n   key_10  key_11  \n0       0       0  \n1       0       0  \n2       0       0  \n3       0       0  \n4       1       0  \n\n[5 rows x 28 columns]",
      "text/html": "<div>\n<style scoped>\n    .dataframe tbody tr th:only-of-type {\n        vertical-align: middle;\n    }\n\n    .dataframe tbody tr th {\n        vertical-align: top;\n    }\n\n    .dataframe thead th {\n        text-align: right;\n    }\n</style>\n<table border=\"1\" class=\"dataframe\">\n  <thead>\n    <tr style=\"text-align: right;\">\n      <th></th>\n      <th>song_name</th>\n      <th>song_popularity</th>\n      <th>song_duration_ms</th>\n      <th>acousticness</th>\n      <th>danceability</th>\n      <th>energy</th>\n      <th>instrumentalness</th>\n      <th>liveness</th>\n      <th>loudness</th>\n      <th>audio_mode</th>\n      <th>...</th>\n      <th>key_2</th>\n      <th>key_3</th>\n      <th>key_4</th>\n      <th>key_5</th>\n      <th>key_6</th>\n      <th>key_7</th>\n      <th>key_8</th>\n      <th>key_9</th>\n      <th>key_10</th>\n      <th>key_11</th>\n    </tr>\n  </thead>\n  <tbody>\n    <tr>\n      <th>0</th>\n      <td>Boulevard of Broken Dreams</td>\n      <td>73</td>\n      <td>262333.0</td>\n      <td>0.005520</td>\n      <td>0.496</td>\n      <td>0.682</td>\n      <td>0.000029</td>\n      <td>0.0589</td>\n      <td>-4.095</td>\n      <td>1.0</td>\n      <td>...</td>\n      <td>0</td>\n      <td>0</td>\n      <td>0</td>\n      <td>0</td>\n      <td>0</td>\n      <td>0</td>\n      <td>1</td>\n      <td>0</td>\n      <td>0</td>\n      <td>0</td>\n    </tr>\n    <tr>\n      <th>1</th>\n      <td>In The End</td>\n      <td>66</td>\n      <td>216933.0</td>\n      <td>0.010300</td>\n      <td>0.542</td>\n      <td>0.853</td>\n      <td>0.000000</td>\n      <td>0.1080</td>\n      <td>-6.407</td>\n      <td>0.0</td>\n      <td>...</td>\n      <td>0</td>\n      <td>1</td>\n      <td>0</td>\n      <td>0</td>\n      <td>0</td>\n      <td>0</td>\n      <td>0</td>\n      <td>0</td>\n      <td>0</td>\n      <td>0</td>\n    </tr>\n    <tr>\n      <th>2</th>\n      <td>Seven Nation Army</td>\n      <td>76</td>\n      <td>231733.0</td>\n      <td>0.008170</td>\n      <td>0.737</td>\n      <td>0.463</td>\n      <td>0.447000</td>\n      <td>0.2550</td>\n      <td>-7.828</td>\n      <td>1.0</td>\n      <td>...</td>\n      <td>0</td>\n      <td>0</td>\n      <td>0</td>\n      <td>0</td>\n      <td>0</td>\n      <td>0</td>\n      <td>0</td>\n      <td>0</td>\n      <td>0</td>\n      <td>0</td>\n    </tr>\n    <tr>\n      <th>3</th>\n      <td>By The Way</td>\n      <td>74</td>\n      <td>216933.0</td>\n      <td>0.026400</td>\n      <td>0.451</td>\n      <td>0.970</td>\n      <td>0.003550</td>\n      <td>0.1020</td>\n      <td>-4.938</td>\n      <td>1.0</td>\n      <td>...</td>\n      <td>0</td>\n      <td>0</td>\n      <td>0</td>\n      <td>0</td>\n      <td>0</td>\n      <td>0</td>\n      <td>0</td>\n      <td>0</td>\n      <td>0</td>\n      <td>0</td>\n    </tr>\n    <tr>\n      <th>4</th>\n      <td>How You Remind Me</td>\n      <td>56</td>\n      <td>223826.0</td>\n      <td>0.000954</td>\n      <td>0.447</td>\n      <td>0.766</td>\n      <td>0.000000</td>\n      <td>0.1130</td>\n      <td>-5.065</td>\n      <td>1.0</td>\n      <td>...</td>\n      <td>0</td>\n      <td>0</td>\n      <td>0</td>\n      <td>0</td>\n      <td>0</td>\n      <td>0</td>\n      <td>0</td>\n      <td>0</td>\n      <td>1</td>\n      <td>0</td>\n    </tr>\n  </tbody>\n</table>\n<p>5 rows × 28 columns</p>\n</div>"
     },
     "execution_count": 32,
     "metadata": {},
     "output_type": "execute_result"
    }
   ],
   "source": [
    "song_data[\"key\"] = song_data[\"key\"].astype(\"category\")\n",
    "song_data = pd.get_dummies(song_data, columns=[\"key\"])\n",
    "song_data.head()"
   ]
  },
  {
   "cell_type": "code",
   "execution_count": 33,
   "metadata": {
    "id": "dQATlSZ0_Emf",
    "pycharm": {
     "name": "#%%\n"
    }
   },
   "outputs": [
    {
     "data": {
      "text/plain": "                    song_name  song_popularity  song_duration_ms  \\\n0  Boulevard of Broken Dreams               73          262333.0   \n1                  In The End               66          216933.0   \n2           Seven Nation Army               76          231733.0   \n3                  By The Way               74          216933.0   \n4           How You Remind Me               56          223826.0   \n\n   acousticness  danceability  energy  instrumentalness  liveness  loudness  \\\n0      0.005520         0.496   0.682          0.000029    0.0589    -4.095   \n1      0.010300         0.542   0.853          0.000000    0.1080    -6.407   \n2      0.008170         0.737   0.463          0.447000    0.2550    -7.828   \n3      0.026400         0.451   0.970          0.003550    0.1020    -4.938   \n4      0.000954         0.447   0.766          0.000000    0.1130    -5.065   \n\n   speechiness  ...  key_4  key_5  key_6  key_7  key_8  key_9  key_10  key_11  \\\n0       0.0294  ...      0      0      0      0      1      0       0       0   \n1       0.0498  ...      0      0      0      0      0      0       0       0   \n2       0.0792  ...      0      0      0      0      0      0       0       0   \n3       0.1070  ...      0      0      0      0      0      0       0       0   \n4       0.0313  ...      0      0      0      0      0      0       1       0   \n\n   audio_mode_0.0  audio_mode_1.0  \n0               0               1  \n1               1               0  \n2               0               1  \n3               0               1  \n4               0               1  \n\n[5 rows x 29 columns]",
      "text/html": "<div>\n<style scoped>\n    .dataframe tbody tr th:only-of-type {\n        vertical-align: middle;\n    }\n\n    .dataframe tbody tr th {\n        vertical-align: top;\n    }\n\n    .dataframe thead th {\n        text-align: right;\n    }\n</style>\n<table border=\"1\" class=\"dataframe\">\n  <thead>\n    <tr style=\"text-align: right;\">\n      <th></th>\n      <th>song_name</th>\n      <th>song_popularity</th>\n      <th>song_duration_ms</th>\n      <th>acousticness</th>\n      <th>danceability</th>\n      <th>energy</th>\n      <th>instrumentalness</th>\n      <th>liveness</th>\n      <th>loudness</th>\n      <th>speechiness</th>\n      <th>...</th>\n      <th>key_4</th>\n      <th>key_5</th>\n      <th>key_6</th>\n      <th>key_7</th>\n      <th>key_8</th>\n      <th>key_9</th>\n      <th>key_10</th>\n      <th>key_11</th>\n      <th>audio_mode_0.0</th>\n      <th>audio_mode_1.0</th>\n    </tr>\n  </thead>\n  <tbody>\n    <tr>\n      <th>0</th>\n      <td>Boulevard of Broken Dreams</td>\n      <td>73</td>\n      <td>262333.0</td>\n      <td>0.005520</td>\n      <td>0.496</td>\n      <td>0.682</td>\n      <td>0.000029</td>\n      <td>0.0589</td>\n      <td>-4.095</td>\n      <td>0.0294</td>\n      <td>...</td>\n      <td>0</td>\n      <td>0</td>\n      <td>0</td>\n      <td>0</td>\n      <td>1</td>\n      <td>0</td>\n      <td>0</td>\n      <td>0</td>\n      <td>0</td>\n      <td>1</td>\n    </tr>\n    <tr>\n      <th>1</th>\n      <td>In The End</td>\n      <td>66</td>\n      <td>216933.0</td>\n      <td>0.010300</td>\n      <td>0.542</td>\n      <td>0.853</td>\n      <td>0.000000</td>\n      <td>0.1080</td>\n      <td>-6.407</td>\n      <td>0.0498</td>\n      <td>...</td>\n      <td>0</td>\n      <td>0</td>\n      <td>0</td>\n      <td>0</td>\n      <td>0</td>\n      <td>0</td>\n      <td>0</td>\n      <td>0</td>\n      <td>1</td>\n      <td>0</td>\n    </tr>\n    <tr>\n      <th>2</th>\n      <td>Seven Nation Army</td>\n      <td>76</td>\n      <td>231733.0</td>\n      <td>0.008170</td>\n      <td>0.737</td>\n      <td>0.463</td>\n      <td>0.447000</td>\n      <td>0.2550</td>\n      <td>-7.828</td>\n      <td>0.0792</td>\n      <td>...</td>\n      <td>0</td>\n      <td>0</td>\n      <td>0</td>\n      <td>0</td>\n      <td>0</td>\n      <td>0</td>\n      <td>0</td>\n      <td>0</td>\n      <td>0</td>\n      <td>1</td>\n    </tr>\n    <tr>\n      <th>3</th>\n      <td>By The Way</td>\n      <td>74</td>\n      <td>216933.0</td>\n      <td>0.026400</td>\n      <td>0.451</td>\n      <td>0.970</td>\n      <td>0.003550</td>\n      <td>0.1020</td>\n      <td>-4.938</td>\n      <td>0.1070</td>\n      <td>...</td>\n      <td>0</td>\n      <td>0</td>\n      <td>0</td>\n      <td>0</td>\n      <td>0</td>\n      <td>0</td>\n      <td>0</td>\n      <td>0</td>\n      <td>0</td>\n      <td>1</td>\n    </tr>\n    <tr>\n      <th>4</th>\n      <td>How You Remind Me</td>\n      <td>56</td>\n      <td>223826.0</td>\n      <td>0.000954</td>\n      <td>0.447</td>\n      <td>0.766</td>\n      <td>0.000000</td>\n      <td>0.1130</td>\n      <td>-5.065</td>\n      <td>0.0313</td>\n      <td>...</td>\n      <td>0</td>\n      <td>0</td>\n      <td>0</td>\n      <td>0</td>\n      <td>0</td>\n      <td>0</td>\n      <td>1</td>\n      <td>0</td>\n      <td>0</td>\n      <td>1</td>\n    </tr>\n  </tbody>\n</table>\n<p>5 rows × 29 columns</p>\n</div>"
     },
     "execution_count": 33,
     "metadata": {},
     "output_type": "execute_result"
    }
   ],
   "source": [
    "song_data[\"audio_mode\"] = song_data[\"audio_mode\"].astype(\"category\")\n",
    "song_data = pd.get_dummies(song_data, columns=[\"audio_mode\"])\n",
    "song_data.head()"
   ]
  },
  {
   "cell_type": "code",
   "execution_count": 34,
   "metadata": {
    "id": "0Vzq6UIO_LSf",
    "pycharm": {
     "name": "#%%\n"
    }
   },
   "outputs": [
    {
     "data": {
      "text/plain": "                    song_name  song_popularity  song_duration_ms  \\\n0  Boulevard of Broken Dreams               73          262333.0   \n1                  In The End               66          216933.0   \n2           Seven Nation Army               76          231733.0   \n3                  By The Way               74          216933.0   \n4           How You Remind Me               56          223826.0   \n\n   acousticness  danceability  energy  instrumentalness  liveness  loudness  \\\n0      0.005520         0.496   0.682          0.000029    0.0589    -4.095   \n1      0.010300         0.542   0.853          0.000000    0.1080    -6.407   \n2      0.008170         0.737   0.463          0.447000    0.2550    -7.828   \n3      0.026400         0.451   0.970          0.003550    0.1020    -4.938   \n4      0.000954         0.447   0.766          0.000000    0.1130    -5.065   \n\n   speechiness  ...  key_9  key_10  key_11  audio_mode_0.0  audio_mode_1.0  \\\n0       0.0294  ...      0       0       0               0               1   \n1       0.0498  ...      0       0       0               1               0   \n2       0.0792  ...      0       0       0               0               1   \n3       0.1070  ...      0       0       0               0               1   \n4       0.0313  ...      0       1       0               0               1   \n\n   time_signature_0.0  time_signature_1.0  time_signature_3.0  \\\n0                   0                   0                   0   \n1                   0                   0                   0   \n2                   0                   0                   0   \n3                   0                   0                   0   \n4                   0                   0                   0   \n\n   time_signature_4.0  time_signature_5.0  \n0                   1                   0  \n1                   1                   0  \n2                   1                   0  \n3                   1                   0  \n4                   1                   0  \n\n[5 rows x 33 columns]",
      "text/html": "<div>\n<style scoped>\n    .dataframe tbody tr th:only-of-type {\n        vertical-align: middle;\n    }\n\n    .dataframe tbody tr th {\n        vertical-align: top;\n    }\n\n    .dataframe thead th {\n        text-align: right;\n    }\n</style>\n<table border=\"1\" class=\"dataframe\">\n  <thead>\n    <tr style=\"text-align: right;\">\n      <th></th>\n      <th>song_name</th>\n      <th>song_popularity</th>\n      <th>song_duration_ms</th>\n      <th>acousticness</th>\n      <th>danceability</th>\n      <th>energy</th>\n      <th>instrumentalness</th>\n      <th>liveness</th>\n      <th>loudness</th>\n      <th>speechiness</th>\n      <th>...</th>\n      <th>key_9</th>\n      <th>key_10</th>\n      <th>key_11</th>\n      <th>audio_mode_0.0</th>\n      <th>audio_mode_1.0</th>\n      <th>time_signature_0.0</th>\n      <th>time_signature_1.0</th>\n      <th>time_signature_3.0</th>\n      <th>time_signature_4.0</th>\n      <th>time_signature_5.0</th>\n    </tr>\n  </thead>\n  <tbody>\n    <tr>\n      <th>0</th>\n      <td>Boulevard of Broken Dreams</td>\n      <td>73</td>\n      <td>262333.0</td>\n      <td>0.005520</td>\n      <td>0.496</td>\n      <td>0.682</td>\n      <td>0.000029</td>\n      <td>0.0589</td>\n      <td>-4.095</td>\n      <td>0.0294</td>\n      <td>...</td>\n      <td>0</td>\n      <td>0</td>\n      <td>0</td>\n      <td>0</td>\n      <td>1</td>\n      <td>0</td>\n      <td>0</td>\n      <td>0</td>\n      <td>1</td>\n      <td>0</td>\n    </tr>\n    <tr>\n      <th>1</th>\n      <td>In The End</td>\n      <td>66</td>\n      <td>216933.0</td>\n      <td>0.010300</td>\n      <td>0.542</td>\n      <td>0.853</td>\n      <td>0.000000</td>\n      <td>0.1080</td>\n      <td>-6.407</td>\n      <td>0.0498</td>\n      <td>...</td>\n      <td>0</td>\n      <td>0</td>\n      <td>0</td>\n      <td>1</td>\n      <td>0</td>\n      <td>0</td>\n      <td>0</td>\n      <td>0</td>\n      <td>1</td>\n      <td>0</td>\n    </tr>\n    <tr>\n      <th>2</th>\n      <td>Seven Nation Army</td>\n      <td>76</td>\n      <td>231733.0</td>\n      <td>0.008170</td>\n      <td>0.737</td>\n      <td>0.463</td>\n      <td>0.447000</td>\n      <td>0.2550</td>\n      <td>-7.828</td>\n      <td>0.0792</td>\n      <td>...</td>\n      <td>0</td>\n      <td>0</td>\n      <td>0</td>\n      <td>0</td>\n      <td>1</td>\n      <td>0</td>\n      <td>0</td>\n      <td>0</td>\n      <td>1</td>\n      <td>0</td>\n    </tr>\n    <tr>\n      <th>3</th>\n      <td>By The Way</td>\n      <td>74</td>\n      <td>216933.0</td>\n      <td>0.026400</td>\n      <td>0.451</td>\n      <td>0.970</td>\n      <td>0.003550</td>\n      <td>0.1020</td>\n      <td>-4.938</td>\n      <td>0.1070</td>\n      <td>...</td>\n      <td>0</td>\n      <td>0</td>\n      <td>0</td>\n      <td>0</td>\n      <td>1</td>\n      <td>0</td>\n      <td>0</td>\n      <td>0</td>\n      <td>1</td>\n      <td>0</td>\n    </tr>\n    <tr>\n      <th>4</th>\n      <td>How You Remind Me</td>\n      <td>56</td>\n      <td>223826.0</td>\n      <td>0.000954</td>\n      <td>0.447</td>\n      <td>0.766</td>\n      <td>0.000000</td>\n      <td>0.1130</td>\n      <td>-5.065</td>\n      <td>0.0313</td>\n      <td>...</td>\n      <td>0</td>\n      <td>1</td>\n      <td>0</td>\n      <td>0</td>\n      <td>1</td>\n      <td>0</td>\n      <td>0</td>\n      <td>0</td>\n      <td>1</td>\n      <td>0</td>\n    </tr>\n  </tbody>\n</table>\n<p>5 rows × 33 columns</p>\n</div>"
     },
     "execution_count": 34,
     "metadata": {},
     "output_type": "execute_result"
    }
   ],
   "source": [
    "song_data[\"time_signature\"] = song_data[\"time_signature\"].astype(\"category\")\n",
    "song_data = pd.get_dummies(song_data, columns=[\"time_signature\"])\n",
    "song_data.head()"
   ]
  },
  {
   "cell_type": "code",
   "execution_count": 35,
   "metadata": {
    "id": "ciBjNXwvlQzx",
    "pycharm": {
     "name": "#%%\n"
    }
   },
   "outputs": [],
   "source": [
    "song_data.drop([\"song_popularity\",\"song_name\"],axis=1,inplace=True)"
   ]
  },
  {
   "cell_type": "code",
   "execution_count": 36,
   "metadata": {
    "id": "mwKLgBMalWUd",
    "pycharm": {
     "name": "#%%\n"
    }
   },
   "outputs": [
    {
     "data": {
      "text/plain": "Index([], dtype='object')"
     },
     "execution_count": 36,
     "metadata": {},
     "output_type": "execute_result"
    }
   ],
   "source": [
    "song_data.columns[song_data.isnull().any()]"
   ]
  },
  {
   "cell_type": "code",
   "execution_count": 37,
   "metadata": {
    "id": "yrg3LfX6_R_e",
    "pycharm": {
     "name": "#%%\n"
    }
   },
   "outputs": [],
   "source": [
    "#fill nan values\n",
    "song_data['song_duration_ms'] = song_data['song_duration_ms'].fillna(np.mean(song_data['song_duration_ms']))\n",
    "song_data['acousticness'] = song_data['acousticness'].fillna(np.mean(song_data['acousticness']))\n",
    "song_data['danceability'] = song_data['danceability'].fillna(np.mean(song_data['danceability']))\n",
    "song_data['energy'] = song_data['energy'].fillna(np.mean(song_data['energy']))\n",
    "song_data['instrumentalness'] = song_data['instrumentalness'].fillna(np.mean(song_data['instrumentalness']))\n",
    "song_data['liveness'] = song_data['liveness'].fillna(np.mean(song_data['liveness']))\n",
    "song_data['loudness'] = song_data['loudness'].fillna(np.mean(song_data['loudness']))\n",
    "song_data['speechiness'] = song_data['speechiness'].fillna(np.mean(song_data['speechiness']))\n",
    "song_data['tempo'] = song_data['tempo'].fillna(np.mean(song_data['tempo']))\n",
    "song_data['audio_valence'] = song_data['audio_valence'].fillna(np.mean(song_data['audio_valence']))\n",
    "song_data['popularity'] = song_data['popularity'].fillna(np.mean(song_data['popularity']))"
   ]
  },
  {
   "cell_type": "code",
   "execution_count": 38,
   "metadata": {
    "id": "XSUoI2l7lWWt",
    "pycharm": {
     "name": "#%%\n"
    }
   },
   "outputs": [],
   "source": [
    "def change_type(var):\n",
    "    song_data[var] = song_data[var].astype(int)"
   ]
  },
  {
   "cell_type": "code",
   "execution_count": 39,
   "metadata": {
    "id": "9vDLa7wmCM4N",
    "pycharm": {
     "name": "#%%\n"
    }
   },
   "outputs": [],
   "source": [
    "column= [\"sentiment\",\"key_0\",\"key_1\",\"key_2\",\"key_3\",\"key_4\",\"key_5\",\"key_6\",\"key_7\",\"key_8\",\"key_9\",\"key_10\",\"key_11\",\"audio_mode_0.0\",\"audio_mode_1.0\",\"time_signature_0.0\",\"time_signature_1.0\",\"time_signature_3.0\",\"time_signature_4.0\",\"time_signature_5.0\"]\n",
    "for i in column:\n",
    "    change_type(i)"
   ]
  },
  {
   "cell_type": "code",
   "execution_count": 40,
   "metadata": {
    "id": "OESauzG09Trs",
    "pycharm": {
     "name": "#%%\n"
    }
   },
   "outputs": [
    {
     "name": "stdout",
     "output_type": "stream",
     "text": [
      "x_train:  (30, 14916)\n",
      "x_test:  (30, 3730)\n",
      "y_train:  (14916,)\n",
      "y_test:  (3730,)\n"
     ]
    }
   ],
   "source": [
    "#data preparation\n",
    "y = song_data[\"popularity\"].values\n",
    "x_data=song_data.drop([\"popularity\"],axis=1)\n",
    "#normalization\n",
    "x = (x_data - np.min(x_data))/(np.max(x_data)-np.min(x_data)).values#train test split\n",
    "from sklearn.model_selection import train_test_split\n",
    "x_train, x_test, y_train, y_test = train_test_split(x,y,test_size = 0.2,random_state=42)\n",
    "x_train = x_train.T\n",
    "x_test = x_test.T\n",
    "y_train = y_train.astype(int).T\n",
    "y_test = y_test.astype(int).T\n",
    "print(\"x_train: \",x_train.shape)\n",
    "print(\"x_test: \",x_test.shape)\n",
    "print(\"y_train: \",y_train.shape)\n",
    "print(\"y_test: \",y_test.shape)"
   ]
  },
  {
   "cell_type": "code",
   "execution_count": 41,
   "metadata": {
    "pycharm": {
     "name": "#%%\n"
    }
   },
   "outputs": [
    {
     "data": {
      "text/plain": "       song_duration_ms  acousticness  danceability    energy  \\\n0              0.140059      0.005541      0.502533  0.682030   \n1              0.114658      0.010340      0.549139  0.853553   \n2              0.122938      0.008202      0.746707  0.462360   \n3              0.114658      0.026505      0.456940  0.970911   \n4              0.118514      0.000957      0.452888  0.766287   \n...                 ...           ...           ...       ...   \n18641          0.082606      0.896586      0.506586  0.149406   \n18642          0.108354      0.768072      0.501520  0.159436   \n18643          0.095231      0.850401      0.728470  0.323938   \n18644          0.190383      0.948795      0.494428  0.324941   \n18645          0.101566      0.914659      0.648430  0.380109   \n\n       instrumentalness  liveness  loudness  speechiness     tempo  \\\n0              0.000030  0.049226  0.830397     0.031410  0.689425   \n1              0.000000  0.099580  0.761362     0.053205  0.434371   \n2              0.451972  0.250333  0.718931     0.084615  0.511233   \n3              0.003589  0.093426  0.805225     0.114316  0.505303   \n4              0.000000  0.104707  0.801433     0.033440  0.709856   \n...                 ...       ...       ...          ...       ...   \n18641          0.000066  0.102656  0.471723     0.037179  0.470328   \n18642          0.000001  0.096503  0.532308     0.032158  0.389100   \n18643          0.000000  0.117014  0.587728     0.037927  0.538689   \n18644          0.015875  0.110860  0.593759     0.035043  0.437702   \n18645          0.000257  0.095477  0.600627     0.032265  0.377562   \n\n       audio_valence  ...  key_9  key_10  key_11  audio_mode_0.0  \\\n0           0.481707  ...    0.0     0.0     0.0             0.0   \n1           0.376016  ...    0.0     0.0     0.0             1.0   \n2           0.329268  ...    0.0     0.0     0.0             0.0   \n3           0.201220  ...    0.0     0.0     0.0             0.0   \n4           0.583333  ...    0.0     1.0     0.0             0.0   \n...              ...  ...    ...     ...     ...             ...   \n18641       0.304878  ...    0.0     0.0     1.0             0.0   \n18642       0.269309  ...    0.0     0.0     1.0             1.0   \n18643       0.290650  ...    0.0     0.0     0.0             0.0   \n18644       0.328252  ...    0.0     0.0     0.0             0.0   \n18645       0.590447  ...    0.0     0.0     0.0             0.0   \n\n       audio_mode_1.0  time_signature_0.0  time_signature_1.0  \\\n0                 1.0                 0.0                 0.0   \n1                 0.0                 0.0                 0.0   \n2                 1.0                 0.0                 0.0   \n3                 1.0                 0.0                 0.0   \n4                 1.0                 0.0                 0.0   \n...               ...                 ...                 ...   \n18641             1.0                 0.0                 0.0   \n18642             0.0                 0.0                 0.0   \n18643             1.0                 0.0                 0.0   \n18644             1.0                 0.0                 0.0   \n18645             1.0                 0.0                 0.0   \n\n       time_signature_3.0  time_signature_4.0  time_signature_5.0  \n0                     0.0                 1.0                 0.0  \n1                     0.0                 1.0                 0.0  \n2                     0.0                 1.0                 0.0  \n3                     0.0                 1.0                 0.0  \n4                     0.0                 1.0                 0.0  \n...                   ...                 ...                 ...  \n18641                 0.0                 1.0                 0.0  \n18642                 0.0                 1.0                 0.0  \n18643                 0.0                 1.0                 0.0  \n18644                 0.0                 1.0                 0.0  \n18645                 0.0                 1.0                 0.0  \n\n[18646 rows x 30 columns]",
      "text/html": "<div>\n<style scoped>\n    .dataframe tbody tr th:only-of-type {\n        vertical-align: middle;\n    }\n\n    .dataframe tbody tr th {\n        vertical-align: top;\n    }\n\n    .dataframe thead th {\n        text-align: right;\n    }\n</style>\n<table border=\"1\" class=\"dataframe\">\n  <thead>\n    <tr style=\"text-align: right;\">\n      <th></th>\n      <th>song_duration_ms</th>\n      <th>acousticness</th>\n      <th>danceability</th>\n      <th>energy</th>\n      <th>instrumentalness</th>\n      <th>liveness</th>\n      <th>loudness</th>\n      <th>speechiness</th>\n      <th>tempo</th>\n      <th>audio_valence</th>\n      <th>...</th>\n      <th>key_9</th>\n      <th>key_10</th>\n      <th>key_11</th>\n      <th>audio_mode_0.0</th>\n      <th>audio_mode_1.0</th>\n      <th>time_signature_0.0</th>\n      <th>time_signature_1.0</th>\n      <th>time_signature_3.0</th>\n      <th>time_signature_4.0</th>\n      <th>time_signature_5.0</th>\n    </tr>\n  </thead>\n  <tbody>\n    <tr>\n      <th>0</th>\n      <td>0.140059</td>\n      <td>0.005541</td>\n      <td>0.502533</td>\n      <td>0.682030</td>\n      <td>0.000030</td>\n      <td>0.049226</td>\n      <td>0.830397</td>\n      <td>0.031410</td>\n      <td>0.689425</td>\n      <td>0.481707</td>\n      <td>...</td>\n      <td>0.0</td>\n      <td>0.0</td>\n      <td>0.0</td>\n      <td>0.0</td>\n      <td>1.0</td>\n      <td>0.0</td>\n      <td>0.0</td>\n      <td>0.0</td>\n      <td>1.0</td>\n      <td>0.0</td>\n    </tr>\n    <tr>\n      <th>1</th>\n      <td>0.114658</td>\n      <td>0.010340</td>\n      <td>0.549139</td>\n      <td>0.853553</td>\n      <td>0.000000</td>\n      <td>0.099580</td>\n      <td>0.761362</td>\n      <td>0.053205</td>\n      <td>0.434371</td>\n      <td>0.376016</td>\n      <td>...</td>\n      <td>0.0</td>\n      <td>0.0</td>\n      <td>0.0</td>\n      <td>1.0</td>\n      <td>0.0</td>\n      <td>0.0</td>\n      <td>0.0</td>\n      <td>0.0</td>\n      <td>1.0</td>\n      <td>0.0</td>\n    </tr>\n    <tr>\n      <th>2</th>\n      <td>0.122938</td>\n      <td>0.008202</td>\n      <td>0.746707</td>\n      <td>0.462360</td>\n      <td>0.451972</td>\n      <td>0.250333</td>\n      <td>0.718931</td>\n      <td>0.084615</td>\n      <td>0.511233</td>\n      <td>0.329268</td>\n      <td>...</td>\n      <td>0.0</td>\n      <td>0.0</td>\n      <td>0.0</td>\n      <td>0.0</td>\n      <td>1.0</td>\n      <td>0.0</td>\n      <td>0.0</td>\n      <td>0.0</td>\n      <td>1.0</td>\n      <td>0.0</td>\n    </tr>\n    <tr>\n      <th>3</th>\n      <td>0.114658</td>\n      <td>0.026505</td>\n      <td>0.456940</td>\n      <td>0.970911</td>\n      <td>0.003589</td>\n      <td>0.093426</td>\n      <td>0.805225</td>\n      <td>0.114316</td>\n      <td>0.505303</td>\n      <td>0.201220</td>\n      <td>...</td>\n      <td>0.0</td>\n      <td>0.0</td>\n      <td>0.0</td>\n      <td>0.0</td>\n      <td>1.0</td>\n      <td>0.0</td>\n      <td>0.0</td>\n      <td>0.0</td>\n      <td>1.0</td>\n      <td>0.0</td>\n    </tr>\n    <tr>\n      <th>4</th>\n      <td>0.118514</td>\n      <td>0.000957</td>\n      <td>0.452888</td>\n      <td>0.766287</td>\n      <td>0.000000</td>\n      <td>0.104707</td>\n      <td>0.801433</td>\n      <td>0.033440</td>\n      <td>0.709856</td>\n      <td>0.583333</td>\n      <td>...</td>\n      <td>0.0</td>\n      <td>1.0</td>\n      <td>0.0</td>\n      <td>0.0</td>\n      <td>1.0</td>\n      <td>0.0</td>\n      <td>0.0</td>\n      <td>0.0</td>\n      <td>1.0</td>\n      <td>0.0</td>\n    </tr>\n    <tr>\n      <th>...</th>\n      <td>...</td>\n      <td>...</td>\n      <td>...</td>\n      <td>...</td>\n      <td>...</td>\n      <td>...</td>\n      <td>...</td>\n      <td>...</td>\n      <td>...</td>\n      <td>...</td>\n      <td>...</td>\n      <td>...</td>\n      <td>...</td>\n      <td>...</td>\n      <td>...</td>\n      <td>...</td>\n      <td>...</td>\n      <td>...</td>\n      <td>...</td>\n      <td>...</td>\n      <td>...</td>\n    </tr>\n    <tr>\n      <th>18641</th>\n      <td>0.082606</td>\n      <td>0.896586</td>\n      <td>0.506586</td>\n      <td>0.149406</td>\n      <td>0.000066</td>\n      <td>0.102656</td>\n      <td>0.471723</td>\n      <td>0.037179</td>\n      <td>0.470328</td>\n      <td>0.304878</td>\n      <td>...</td>\n      <td>0.0</td>\n      <td>0.0</td>\n      <td>1.0</td>\n      <td>0.0</td>\n      <td>1.0</td>\n      <td>0.0</td>\n      <td>0.0</td>\n      <td>0.0</td>\n      <td>1.0</td>\n      <td>0.0</td>\n    </tr>\n    <tr>\n      <th>18642</th>\n      <td>0.108354</td>\n      <td>0.768072</td>\n      <td>0.501520</td>\n      <td>0.159436</td>\n      <td>0.000001</td>\n      <td>0.096503</td>\n      <td>0.532308</td>\n      <td>0.032158</td>\n      <td>0.389100</td>\n      <td>0.269309</td>\n      <td>...</td>\n      <td>0.0</td>\n      <td>0.0</td>\n      <td>1.0</td>\n      <td>1.0</td>\n      <td>0.0</td>\n      <td>0.0</td>\n      <td>0.0</td>\n      <td>0.0</td>\n      <td>1.0</td>\n      <td>0.0</td>\n    </tr>\n    <tr>\n      <th>18643</th>\n      <td>0.095231</td>\n      <td>0.850401</td>\n      <td>0.728470</td>\n      <td>0.323938</td>\n      <td>0.000000</td>\n      <td>0.117014</td>\n      <td>0.587728</td>\n      <td>0.037927</td>\n      <td>0.538689</td>\n      <td>0.290650</td>\n      <td>...</td>\n      <td>0.0</td>\n      <td>0.0</td>\n      <td>0.0</td>\n      <td>0.0</td>\n      <td>1.0</td>\n      <td>0.0</td>\n      <td>0.0</td>\n      <td>0.0</td>\n      <td>1.0</td>\n      <td>0.0</td>\n    </tr>\n    <tr>\n      <th>18644</th>\n      <td>0.190383</td>\n      <td>0.948795</td>\n      <td>0.494428</td>\n      <td>0.324941</td>\n      <td>0.015875</td>\n      <td>0.110860</td>\n      <td>0.593759</td>\n      <td>0.035043</td>\n      <td>0.437702</td>\n      <td>0.328252</td>\n      <td>...</td>\n      <td>0.0</td>\n      <td>0.0</td>\n      <td>0.0</td>\n      <td>0.0</td>\n      <td>1.0</td>\n      <td>0.0</td>\n      <td>0.0</td>\n      <td>0.0</td>\n      <td>1.0</td>\n      <td>0.0</td>\n    </tr>\n    <tr>\n      <th>18645</th>\n      <td>0.101566</td>\n      <td>0.914659</td>\n      <td>0.648430</td>\n      <td>0.380109</td>\n      <td>0.000257</td>\n      <td>0.095477</td>\n      <td>0.600627</td>\n      <td>0.032265</td>\n      <td>0.377562</td>\n      <td>0.590447</td>\n      <td>...</td>\n      <td>0.0</td>\n      <td>0.0</td>\n      <td>0.0</td>\n      <td>0.0</td>\n      <td>1.0</td>\n      <td>0.0</td>\n      <td>0.0</td>\n      <td>0.0</td>\n      <td>1.0</td>\n      <td>0.0</td>\n    </tr>\n  </tbody>\n</table>\n<p>18646 rows × 30 columns</p>\n</div>"
     },
     "execution_count": 41,
     "metadata": {},
     "output_type": "execute_result"
    }
   ],
   "source": [
    "x"
   ]
  },
  {
   "cell_type": "markdown",
   "metadata": {
    "id": "XZ65p0X_9m0U",
    "pycharm": {
     "name": "#%% md\n"
    }
   },
   "source": [
    "\n",
    "# Logistic Regression\n",
    "LR is one of the basic classiﬁcation method is used prediction of categorical variables.Our problem has two possible outputs popular(1) and unpopular(0) which is suitable for binary logistic regression. Since it is a probability value that we want to get from the problem, we obtained a value between [0,1] using the sigmoid function.\n",
    "α(z) = 1/(1+e-z)\n",
    "Binary cross entropy is used for the loss function and gradient descent for the update the parameters."
   ]
  },
  {
   "cell_type": "code",
   "execution_count": 42,
   "metadata": {
    "id": "tvYDi2tX9Tzp",
    "pycharm": {
     "name": "#%%\n"
    }
   },
   "outputs": [],
   "source": [
    "# parameter initialize and sigmoid function\n",
    "def initialize_weights_and_bias(dimension):\n",
    "    w=np.full((dimension,1),0.01)\n",
    "    b=0.0\n",
    "    return w,b\n",
    "\n",
    "def sigmoid(z):\n",
    "    # 防止溢出的阈值\n",
    "    z = np.clip(z, -500, 500)\n",
    "    \n",
    "    # 计算 sigmoid，避免溢出\n",
    "    return 1 / (1 + np.exp(-z))"
   ]
  },
  {
   "cell_type": "code",
   "execution_count": 43,
   "metadata": {
    "id": "TxiVjAO-9T6M",
    "pycharm": {
     "name": "#%%\n"
    }
   },
   "outputs": [],
   "source": [
    "def forward_backward_propagation(w,b,x_train,y_train):\n",
    "    # forward propagation\n",
    "    z = np.dot(w.T, x_train) + b\n",
    "    y_head = sigmoid(z)\n",
    "\n",
    "    # 检查并重塑 y_train\n",
    "    if y_train.ndim == 1:\n",
    "        y_train = y_train.reshape(1, -1)\n",
    "\n",
    "    # 计算损失\n",
    "    epsilon = 1e-15\n",
    "    loss = -y_train * np.log(y_head + epsilon) - (1 - y_train) * np.log(1 - y_head + epsilon)\n",
    "    cost = np.sum(loss) / x_train.shape[1]\n",
    "\n",
    "    # backward propagation\n",
    "    derivative_weight = (np.dot(x_train,((y_head-y_train).T)))/x_train.shape[1]\n",
    "    derivative_bias = np.sum(y_head-y_train)/x_train.shape[1]\n",
    "    gradients = {\"derivative_weight\": derivative_weight,\"derivative_bias\": derivative_bias}\n",
    "    return cost,gradients"
   ]
  },
  {
   "cell_type": "code",
   "execution_count": 44,
   "metadata": {
    "id": "1w0M8Q5K9T8w",
    "pycharm": {
     "name": "#%%\n"
    }
   },
   "outputs": [],
   "source": [
    "# Updating(learning) parameters\n",
    "def update(w, b, x_train, y_train, learning_rate,number_of_iterarion):\n",
    "    cost_list = []\n",
    "    cost_list2 = []\n",
    "    index = []\n",
    "\n",
    "    for i in range(number_of_iterarion):\n",
    "        # make forward and backward propagation and find cost and gradients\n",
    "        cost,gradients = forward_backward_propagation(w,b,x_train,y_train)\n",
    "        cost_list.append(cost)\n",
    "        # update\n",
    "        w = w - learning_rate * gradients[\"derivative_weight\"]\n",
    "        b = b - learning_rate * gradients[\"derivative_bias\"]\n",
    "        if i % 10 == 0:\n",
    "            cost_list2.append(cost)\n",
    "            index.append(i)\n",
    "            print (\"Cost after iteration %i: %f\" %(i, cost))\n",
    "\n",
    "    parameters = {\"weight\": w,\"bias\": b}\n",
    "    plt.plot(index,cost_list2)\n",
    "    plt.xticks(index,rotation='vertical')\n",
    "    plt.xlabel(\"Number of Iterarion\")\n",
    "    plt.ylabel(\"Cost\")\n",
    "    plt.show()\n",
    "    return parameters, gradients, cost_list"
   ]
  },
  {
   "cell_type": "code",
   "execution_count": 45,
   "metadata": {
    "id": "a1Vu525B9T_N",
    "pycharm": {
     "name": "#%%\n"
    }
   },
   "outputs": [],
   "source": [
    "def predict(w,b,x_test):\n",
    "    z = sigmoid(np.dot(w.T,x_test)+b)\n",
    "    Y_prediction = np.zeros((1,x_test.shape[1]))\n",
    "\n",
    "    for i in range(z.shape[1]):\n",
    "        if z[0,i]<= 0.5:\n",
    "            Y_prediction[0,i] = 0\n",
    "        else:\n",
    "            Y_prediction[0,i] = 1\n",
    "\n",
    "    return Y_prediction"
   ]
  },
  {
   "cell_type": "code",
   "execution_count": 46,
   "metadata": {
    "id": "uj0z1SJ89UBr",
    "pycharm": {
     "name": "#%%\n"
    }
   },
   "outputs": [
    {
     "name": "stdout",
     "output_type": "stream",
     "text": [
      "Cost after iteration 0: 0.709108\n",
      "Cost after iteration 10: 0.687367\n",
      "Cost after iteration 20: 0.670307\n",
      "Cost after iteration 30: 0.656908\n",
      "Cost after iteration 40: 0.646365\n",
      "Cost after iteration 50: 0.638048\n",
      "Cost after iteration 60: 0.631470\n",
      "Cost after iteration 70: 0.626251\n",
      "Cost after iteration 80: 0.622098\n",
      "Cost after iteration 90: 0.618781\n",
      "Cost after iteration 100: 0.616125\n",
      "Cost after iteration 110: 0.613990\n",
      "Cost after iteration 120: 0.612268\n",
      "Cost after iteration 130: 0.610873\n",
      "Cost after iteration 140: 0.609740\n",
      "Cost after iteration 150: 0.608816\n",
      "Cost after iteration 160: 0.608058\n",
      "Cost after iteration 170: 0.607433\n",
      "Cost after iteration 180: 0.606916\n",
      "Cost after iteration 190: 0.606485\n"
     ]
    },
    {
     "data": {
      "text/plain": "<Figure size 432x288 with 1 Axes>",
      "image/png": "[encoded data removed]"
     },
     "metadata": {},
     "output_type": "display_data"
    },
    {
     "name": "stdout",
     "output_type": "stream",
     "text": [
      "train accuracy: 70.77634754625905 %\n",
      "test accuracy: 71.26005361930295 %\n"
     ]
    }
   ],
   "source": [
    "def logistic_regression(x_train, y_train, x_test, y_test, learning_rate ,  num_iterations):\n",
    "    # initialize\n",
    "    dimension =  x_train.shape[0]\n",
    "    w,b = initialize_weights_and_bias(dimension)\n",
    "    #update\n",
    "    parameters, gradients, cost_list = update(w, b, x_train, y_train, learning_rate,num_iterations)\n",
    "    y_prediction_test = predict(parameters[\"weight\"],parameters[\"bias\"],x_test)\n",
    "    y_prediction_train = predict(parameters[\"weight\"],parameters[\"bias\"],x_train)\n",
    "\n",
    "    print(\"train accuracy: {} %\".format(100 - np.mean(np.abs(y_prediction_train - y_train)) * 100))\n",
    "    print(\"test accuracy: {} %\".format(100 - np.mean(np.abs(y_prediction_test - y_test)) * 100))\n",
    "\n",
    "logistic_regression(x_train, y_train, x_test, y_test,learning_rate =0.01, num_iterations = 200)"
   ]
  },
  {
   "cell_type": "code",
   "execution_count": 47,
   "metadata": {
    "colab": {
     "background_save": true
    },
    "id": "9Li2aGJGFqka",
    "pycharm": {
     "name": "#%%\n"
    }
   },
   "outputs": [],
   "source": [
    "x,y = song_data.loc[:,song_data.columns != 'popularity'], song_data.loc[:,'popularity']\n",
    "x_train, x_test, y_train, y_test = train_test_split(x, y, test_size = 0.2, random_state=42)\n",
    "y=y.astype(int)\n",
    "y_train= y_train.astype(int)\n",
    "y_test= y_test.astype(int)"
   ]
  },
  {
   "cell_type": "markdown",
   "metadata": {
    "id": "E2DHhtRBE_NL",
    "pycharm": {
     "name": "#%% md\n"
    }
   },
   "source": [
    "# Random Forest"
   ]
  },
  {
   "cell_type": "code",
   "execution_count": 48,
   "metadata": {
    "colab": {
     "background_save": true
    },
    "id": "P59Xw4mUE-n5",
    "pycharm": {
     "name": "#%%\n"
    }
   },
   "outputs": [
    {
     "name": "stdout",
     "output_type": "stream",
     "text": [
      "Train ccuracy of random forest 0.9953070528291768\n",
      "Test accuracy of random forest 0.8882037533512064\n",
      "{'bootstrap': True, 'ccp_alpha': 0.0, 'class_weight': None, 'criterion': 'gini', 'max_depth': None, 'max_features': 'sqrt', 'max_leaf_nodes': None, 'max_samples': None, 'min_impurity_decrease': 0.0, 'min_samples_leaf': 1, 'min_samples_split': 2, 'min_weight_fraction_leaf': 0.0, 'n_estimators': 150, 'n_jobs': None, 'oob_score': False, 'random_state': 3, 'verbose': 0, 'warm_start': False}\n"
     ]
    }
   ],
   "source": [
    "from sklearn.ensemble import RandomForestClassifier\n",
    "rf=RandomForestClassifier(n_estimators=150,random_state = 3)\n",
    "rf.fit(x_train,y_train)\n",
    "print(\"Train ccuracy of random forest\",rf.score(x_train,y_train))\n",
    "print(\"Test accuracy of random forest\",rf.score(x_test,y_test))\n",
    "RandomForestClassifier_score=rf.score(x_test,y_test)\n",
    "y_pred=rf.predict(x_test)\n",
    "t_true=y_test\n",
    "params = rf.get_params()\n",
    "print(params)"
   ]
  },
  {
   "cell_type": "code",
   "execution_count": 49,
   "metadata": {
    "id": "dtHxqXExFzP_",
    "pycharm": {
     "name": "#%%\n"
    }
   },
   "outputs": [
    {
     "name": "stdout",
     "output_type": "stream",
     "text": [
      "Cross_val Scores:  [0.88002681 0.88203753 0.88136729 0.86662198 0.88270777 0.87868633\n",
      " 0.87860496 0.87525151 0.8832998  0.87994634]\n",
      "Cross_val scores average:  0.878855033687379\n"
     ]
    }
   ],
   "source": [
    "from sklearn.model_selection import cross_val_score\n",
    "k = 10\n",
    "cv_result = cross_val_score(rf,x_train,y_train,cv=k) # uses R^2 as score\n",
    "cv_result_randomforest=np.sum(cv_result)/k\n",
    "print('Cross_val Scores: ',cv_result)\n",
    "print('Cross_val scores average: ',np.sum(cv_result)/k)"
   ]
  },
  {
   "cell_type": "code",
   "execution_count": 50,
   "outputs": [
    {
     "name": "stdout",
     "output_type": "stream",
     "text": [
      "Average test score:  0.856038200682629\n",
      "Test score standard deviation:  0.008598078992663223\n"
     ]
    }
   ],
   "source": [
    "from sklearn.ensemble import RandomForestClassifier\n",
    "import numpy as np\n",
    "from sklearn.model_selection import RepeatedKFold, GridSearchCV\n",
    "from sklearn.metrics import accuracy_score\n",
    "from sklearn.utils import shuffle\n",
    "from imblearn.over_sampling import SMOTE\n",
    "\n",
    "def evaluate_random_forest(X, y, params, outer_cv_splits, outer_cv_repeats, inner_cv_splits):\n",
    "    X = X.reset_index(drop=True)\n",
    "    y = y.reset_index(drop=True)\n",
    "\n",
    "    outer_cv = RepeatedKFold(n_splits=outer_cv_splits, n_repeats=outer_cv_repeats, random_state=3)\n",
    "\n",
    "    outer_scores = []\n",
    "    for train_index, test_index in outer_cv.split(X):\n",
    "        X_train, X_test = X.iloc[train_index], X.iloc[test_index]\n",
    "        y_train, y_test = y[train_index], y[test_index]\n",
    "\n",
    "        smote = SMOTE(random_state=1)\n",
    "        X_train_resampled, y_train_resampled = smote.fit_resample(X_train, y_train)\n",
    "\n",
    "        inner_cv = RepeatedKFold(n_splits=inner_cv_splits, random_state=1)\n",
    "        grid = GridSearchCV(estimator=RandomForestClassifier(random_state=1), param_grid=params, cv=inner_cv)\n",
    "        grid.fit(X_train_resampled, y_train_resampled)\n",
    "\n",
    "        best_model = grid.best_estimator_\n",
    "        test_score = accuracy_score(y_test, best_model.predict(X_test))\n",
    "        outer_scores.append(test_score)\n",
    "\n",
    "    print(\"Average test score: \", np.mean(outer_scores))\n",
    "    print(\"Test score standard deviation: \", np.std(outer_scores))\n",
    "\n",
    "# 设置参数\n",
    "rf_params = {\n",
    "    'n_estimators': [150]\n",
    "}\n",
    "\n",
    "# 确保 x_train 和 y_train 已经定义\n",
    "evaluate_random_forest(x_train, y_train, rf_params, outer_cv_splits=5, outer_cv_repeats=3, inner_cv_splits=3)\n"
   ],
   "metadata": {
    "collapsed": false,
    "pycharm": {
     "name": "#%%\n"
    }
   }
  },
  {
   "cell_type": "code",
   "execution_count": 122,
   "metadata": {
    "pycharm": {
     "is_executing": true,
     "name": "#%%\n"
    }
   },
   "outputs": [
    {
     "name": "stdout",
     "output_type": "stream",
     "text": [
      "Average test score:  0.6763199050218908\n",
      "Test score standard deviation:  0.005306466373251105\n"
     ]
    }
   ],
   "source": [
    "from sklearn.ensemble import RandomForestClassifier\n",
    "import numpy as np\n",
    "from sklearn.model_selection import RepeatedKFold, GridSearchCV\n",
    "from sklearn.metrics import accuracy_score\n",
    "from sklearn.utils import shuffle\n",
    "\n",
    "def evaluate_random_forest(X, y, params, outer_cv_splits, outer_cv_repeats, inner_cv_splits):\n",
    "    X, y = shuffle(X, y, random_state=3)\n",
    "\n",
    "    outer_cv = RepeatedKFold(n_splits=outer_cv_splits, n_repeats=outer_cv_repeats, random_state=3)\n",
    "    \n",
    "    outer_scores = []\n",
    "    for train_index, test_index in outer_cv.split(X):\n",
    "        X_train, X_test = X.iloc[train_index], X.iloc[test_index]\n",
    "        y_train, y_test = y[train_index], y[test_index]\n",
    "\n",
    "        inner_cv = RepeatedKFold(n_splits=inner_cv_splits, random_state=1)\n",
    "        grid = GridSearchCV(estimator=RandomForestClassifier(random_state=1), param_grid=params, cv=inner_cv)\n",
    "        grid.fit(X_train, y_train)\n",
    "\n",
    "        best_model = grid.best_estimator_\n",
    "        best_model.fit(X_train, y_train)\n",
    "        test_score = accuracy_score(y_test, best_model.predict(X_test))\n",
    "        outer_scores.append(test_score)\n",
    "\n",
    "    print(\"Average test score: \", np.mean(outer_scores))\n",
    "    print(\"Test score standard deviation: \", np.std(outer_scores))\n",
    "\n",
    "rf_params = {\n",
    "    'n_estimators': [150]\n",
    "}\n",
    "evaluate_random_forest(X, y, rf_params, outer_cv_splits=5, outer_cv_repeats=3, inner_cv_splits=3)"
   ]
  },
  {
   "cell_type": "code",
   "execution_count": 57,
   "metadata": {
    "id": "YLG_wjv8F13Y",
    "pycharm": {
     "name": "#%%\n"
    }
   },
   "outputs": [],
   "source": [
    "CrossVal_RandomForestClassifier_score=cv_result_randomforest"
   ]
  },
  {
   "cell_type": "markdown",
   "metadata": {
    "id": "DESewlTVBlNW",
    "pycharm": {
     "name": "#%% md\n"
    }
   },
   "source": [
    "# SVM\n",
    "SVM is an effective and simple method mostly used in classification problems. The aim of the SVM algorithm is to find a hyperplane in an N-dimensional space (N — the number of features) that distinctly classifies the data points. C and Gamma are the parameters for a nonlinear support vector machine (SVM) with a Gaussian radial basis function kernel."
   ]
  },
  {
   "cell_type": "code",
   "execution_count": 58,
   "metadata": {
    "colab": {
     "base_uri": "https://localhost:8080/"
    },
    "id": "26jsdVYXBeAE",
    "outputId": "46203ddd-4a0b-4abc-8486-f239c78a2422",
    "pycharm": {
     "name": "#%%\n"
    }
   },
   "outputs": [
    {
     "name": "stdout",
     "output_type": "stream",
     "text": [
      "Train accuracy of svm algo: 0.7100477833820016\n",
      "Test accuracy of svm algo: 0.7191398991239714\n",
      "{'C': 1.0, 'break_ties': False, 'cache_size': 200, 'class_weight': None, 'coef0': 0.0, 'decision_function_shape': 'ovr', 'degree': 3, 'gamma': 'scale', 'kernel': 'rbf', 'max_iter': -1, 'probability': False, 'random_state': 1, 'shrinking': True, 'tol': 0.001, 'verbose': False}\n"
     ]
    }
   ],
   "source": [
    "from sklearn.svm import SVC\n",
    "svm= SVC(random_state=1)  #kernel='rbf'\n",
    "svm.fit(x_train,y_train)\n",
    "print(\"Train accuracy of svm algo:\",svm.score(x_train,y_train))\n",
    "print(\"Test accuracy of svm algo:\",svm.score(x_test,y_test))\n",
    "params = svm.get_params()\n",
    "print(params)"
   ]
  },
  {
   "cell_type": "code",
   "execution_count": 59,
   "metadata": {
    "colab": {
     "base_uri": "https://localhost:8080/"
    },
    "id": "iCyKGLpqBeDI",
    "outputId": "116d4100-5c32-432b-fc0b-773b8e158c84",
    "pycharm": {
     "name": "#%%\n"
    }
   },
   "outputs": [
    {
     "name": "stdout",
     "output_type": "stream",
     "text": [
      "Cross_val Scores:  [0.71001991 0.71001991 0.71001991 0.71001991 0.71001991 0.71001991\n",
      " 0.71001991 0.71001991 0.71049137 0.70982736]\n",
      "Cross_val scores average:  0.7100477981901194\n",
      "{'C': 1.0, 'break_ties': False, 'cache_size': 200, 'class_weight': None, 'coef0': 0.0, 'decision_function_shape': 'ovr', 'degree': 3, 'gamma': 'scale', 'kernel': 'rbf', 'max_iter': -1, 'probability': False, 'random_state': 1, 'shrinking': True, 'tol': 0.001, 'verbose': False}\n"
     ]
    }
   ],
   "source": [
    "from sklearn.model_selection import cross_val_score\n",
    "k = 10\n",
    "cv_result = cross_val_score(svm,x_train,y_train,cv=k)\n",
    "cv_result_svm= np.sum(cv_result)/k\n",
    "print('Cross_val Scores: ',cv_result)\n",
    "print('Cross_val scores average: ',np.sum(cv_result)/k)"
   ]
  },
  {
   "cell_type": "code",
   "execution_count": 60,
   "metadata": {
    "id": "hWwNuKq7BeGG",
    "pycharm": {
     "name": "#%%\n"
    }
   },
   "outputs": [],
   "source": [
    "SVM_score= svm.score(x_test,y_test)\n",
    "CrossVal_SVM_score=cv_result_svm"
   ]
  },
  {
   "cell_type": "code",
   "execution_count": 61,
   "metadata": {
    "pycharm": {
     "is_executing": true,
     "name": "#%%\n"
    }
   },
   "outputs": [
    {
     "name": "stdout",
     "output_type": "stream",
     "text": [
      "Average test accuracy:  0.7089449765873881\n",
      "Test accuracy standard deviation:  0.008414938704457016\n"
     ]
    }
   ],
   "source": [
    "from sklearn.svm import SVC\n",
    "from sklearn.model_selection import RepeatedKFold, GridSearchCV, cross_val_score\n",
    "from sklearn.metrics import accuracy_score\n",
    "def evaluate_svm_with_nested_cv(X, y, kernel_options, C_options, gamma_options, outer_cv_splits, outer_cv_repeats, inner_cv_splits):\n",
    "    outer_cv = RepeatedKFold(n_splits=outer_cv_splits, n_repeats=outer_cv_repeats, random_state=3)\n",
    "\n",
    "    outer_scores = []\n",
    "    for train_index, test_index in outer_cv.split(X):\n",
    "        X_train, X_test = X.iloc[train_index], X.iloc[test_index]\n",
    "        y_train, y_test = y[train_index], y[test_index]\n",
    "\n",
    "        inner_cv = RepeatedKFold(n_splits=inner_cv_splits, random_state=1)\n",
    "        param_grid = {'kernel': kernel_options, 'C': C_options, 'gamma': gamma_options}\n",
    "        grid = GridSearchCV(SVC(random_state=1), param_grid, cv=inner_cv, scoring='accuracy')\n",
    "        grid.fit(X_train, y_train)\n",
    "\n",
    "        best_svm = grid.best_estimator_\n",
    "        best_svm.fit(X_train, y_train)\n",
    "        test_accuracy = accuracy_score(y_test, best_svm.predict(X_test))\n",
    "        outer_scores.append(test_accuracy)\n",
    "\n",
    "    print(\"Average test accuracy: \", np.mean(outer_scores))\n",
    "    print(\"Test accuracy standard deviation: \", np.std(outer_scores))\n",
    "\n",
    "kernel_options = ['rbf']\n",
    "C_options = [1.0]\n",
    "gamma_options = ['scale']\n",
    "\n",
    "evaluate_svm_with_nested_cv(X, y, kernel_options, C_options, gamma_options, outer_cv_splits=5, outer_cv_repeats=3, inner_cv_splits=3)"
   ]
  },
  {
   "cell_type": "code",
   "execution_count": null,
   "outputs": [],
   "source": [
    "import pandas as pd\n",
    "\n",
    "def evaluate_svm_with_nested_cv(X, y, kernel_options, C_options, gamma_options, outer_cv_splits, outer_cv_repeats, inner_cv_splits):\n",
    "    outer_cv = RepeatedKFold(n_splits=outer_cv_splits, n_repeats=outer_cv_repeats, random_state=3)\n",
    "\n",
    "    # 初始化一个空的DataFrame来存储结果\n",
    "    results_df = pd.DataFrame()\n",
    "\n",
    "    outer_scores = []\n",
    "    for train_index, test_index in outer_cv.split(X):\n",
    "        X_train, X_test = X.iloc[train_index], X.iloc[test_index]\n",
    "        y_train, y_test = y.iloc[train_index], y.iloc[test_index]\n",
    "\n",
    "        # 使用SMOTE进行过采样\n",
    "        smote = SMOTE(random_state=1)\n",
    "        X_train_resampled, y_train_resampled = smote.fit_resample(X_train, y_train)\n",
    "\n",
    "        inner_cv = RepeatedKFold(n_splits=inner_cv_splits, random_state=1)\n",
    "        param_grid = {'kernel': kernel_options, 'C': C_options, 'gamma': gamma_options}\n",
    "        grid = GridSearchCV(SVC(random_state=1), param_grid, cv=inner_cv, scoring='accuracy')\n",
    "        grid.fit(X_train_resampled, y_train_resampled)\n",
    "\n",
    "        best_svm = grid.best_estimator_\n",
    "        y_pred = best_svm.predict(X_test)\n",
    "        test_accuracy = accuracy_score(y_test, y_pred)\n",
    "        outer_scores.append(test_accuracy)\n",
    "\n",
    "        # 保存当前折叠的结果\n",
    "        fold_results = X_test.copy()\n",
    "        fold_results['Original_Label'] = y_test\n",
    "        fold_results['Predicted_Label'] = y_pred\n",
    "\n",
    "        # 对于线性SVM，我们可以计算特征权重\n",
    "        if 'linear' in kernel_options:\n",
    "            coefs = best_svm.coef_\n",
    "            for i, col in enumerate(X_test.columns):\n",
    "                fold_results[f'Coef_{col}'] = coefs[0, i]\n",
    "\n",
    "        # 否则，我们只能记录原始和预测的标签\n",
    "        results_df = pd.concat([results_df, fold_results])\n",
    "\n",
    "    print(\"Average test accuracy: \", np.mean(outer_scores))\n",
    "    print(\"Test accuracy standard deviation: \", np.std(outer_scores))\n",
    "\n",
    "    return results_df  # 返回含有原始标签、预测标签和特征权重的DataFrame\n",
    "\n",
    "# 定义参数\n",
    "kernel_options = ['linear', 'rbf']\n",
    "C_options = [1.0]\n",
    "gamma_options = ['scale']\n",
    "\n",
    "# 确保 X 和 y 已经定义\n",
    "results_df = evaluate_svm_with_nested_cv(X, y, kernel_options, C_options, gamma_options, outer_cv_splits=5, outer_cv_repeats=3, inner_cv_splits=3)\n",
    "\n",
    "# 现在您可以查看这个结果DataFrame\n",
    "print(results_df.head())\n"
   ],
   "metadata": {
    "collapsed": false,
    "pycharm": {
     "name": "#%%\n",
     "is_executing": true
    }
   }
  },
  {
   "cell_type": "code",
   "execution_count": null,
   "metadata": {
    "pycharm": {
     "name": "#%%\n"
    }
   },
   "outputs": [],
   "source": [
    "from sklearn.svm import SVC\n",
    "from sklearn.preprocessing import StandardScaler\n",
    "from sklearn.pipeline import Pipeline\n",
    "\n",
    "steps = [('scalar', StandardScaler()),\n",
    "         ('SVM', SVC())]\n",
    "pipeline = Pipeline(steps)\n",
    "parameters = {'SVM__C':[1, 10, 100],\n",
    "              'SVM__gamma':[0.1, 0.01]}\n",
    "cv = GridSearchCV(pipeline,param_grid=parameters,cv=10)\n",
    "cv.fit(x_train,y_train)\n",
    "y_pred = cv.predict(x_test)\n",
    "\n",
    "print(\"Tuned Model Parameters: {}\".format(cv.best_params_))\n",
    "print(\"Test accuracy: {}\".format(cv.score(x_test, y_test)))"
   ]
  },
  {
   "cell_type": "markdown",
   "metadata": {
    "pycharm": {
     "name": "#%% md\n"
    }
   },
   "source": [
    "# Naive Bayes"
   ]
  },
  {
   "cell_type": "code",
   "execution_count": 64,
   "metadata": {
    "scrolled": true,
    "pycharm": {
     "name": "#%%\n"
    }
   },
   "outputs": [
    {
     "name": "stdout",
     "output_type": "stream",
     "text": [
      "Train accuracy of naive bayes: 0.7117732943987258\n",
      "Test accuracy of naive bayes: 0.7119723918237324\n",
      "{'priors': None, 'var_smoothing': 1e-09}\n"
     ]
    }
   ],
   "source": [
    "from sklearn.naive_bayes import GaussianNB\n",
    "nb= GaussianNB()\n",
    "nb.fit(x_train,y_train)\n",
    "print(\"Train accuracy of naive bayes:\",nb.score(x_train,y_train))\n",
    "print(\"Test accuracy of naive bayes:\",nb.score(x_test,y_test))\n",
    "params_nb = nb.get_params()\n",
    "print(params_nb)"
   ]
  },
  {
   "cell_type": "code",
   "execution_count": 126,
   "metadata": {
    "pycharm": {
     "name": "#%%\n"
    }
   },
   "outputs": [
    {
     "name": "stdout",
     "output_type": "stream",
     "text": [
      "Average test accuracy:  0.7091060262162778\n",
      "Test accuracy standard deviation:  0.007494988580228837\n"
     ]
    }
   ],
   "source": [
    "from sklearn.naive_bayes import GaussianNB\n",
    "def evaluate_naive_bayes_with_nested_cv(X, y, var_smoothing_options, outer_cv_splits, outer_cv_repeats, inner_cv_splits):\n",
    "    X, y = shuffle(X, y, random_state=3)\n",
    "    outer_cv = RepeatedKFold(n_splits=outer_cv_splits, n_repeats=outer_cv_repeats, random_state=3)\n",
    "\n",
    "    outer_scores = []\n",
    "    for train_index, test_index in outer_cv.split(X):\n",
    "        X_train, X_test = X.iloc[train_index], X.iloc[test_index]\n",
    "        y_train, y_test = y[train_index], y[test_index]\n",
    "\n",
    "        inner_cv = RepeatedKFold(n_splits=inner_cv_splits, random_state=1)\n",
    "        param_grid = {'var_smoothing': var_smoothing_options}\n",
    "        grid = GridSearchCV(GaussianNB(), param_grid, cv=inner_cv, scoring='accuracy')\n",
    "        grid.fit(X_train, y_train)\n",
    "\n",
    "        best_nb = grid.best_estimator_\n",
    "        best_nb.fit(X_train, y_train)\n",
    "        test_accuracy = accuracy_score(y_test, best_nb.predict(X_test))\n",
    "        outer_scores.append(test_accuracy)\n",
    "\n",
    "    print(\"Average test accuracy: \", np.mean(outer_scores))\n",
    "    print(\"Test accuracy standard deviation: \", np.std(outer_scores))\n",
    "\n",
    "var_smoothing_options = np.logspace(0, -9, num=100)\n",
    "\n",
    "evaluate_naive_bayes_with_nested_cv(X, y, var_smoothing_options, outer_cv_splits=5, outer_cv_repeats=3, inner_cv_splits=3)\n"
   ]
  },
  {
   "cell_type": "code",
   "execution_count": 52,
   "outputs": [
    {
     "name": "stdout",
     "output_type": "stream",
     "text": [
      "Average test accuracy:  0.45293001667245425\n",
      "Test accuracy standard deviation:  0.005238473620908223\n"
     ]
    }
   ],
   "source": [
    "from sklearn.naive_bayes import GaussianNB\n",
    "from sklearn.model_selection import RepeatedKFold, GridSearchCV, cross_val_score\n",
    "from sklearn.metrics import accuracy_score\n",
    "from imblearn.over_sampling import SMOTE\n",
    "from sklearn.utils import shuffle\n",
    "import numpy as np\n",
    "\n",
    "def evaluate_naive_bayes_with_nested_cv(X, y, var_smoothing_options, outer_cv_splits, outer_cv_repeats, inner_cv_splits):\n",
    "    X, y = shuffle(X, y, random_state=3)\n",
    "    outer_cv = RepeatedKFold(n_splits=outer_cv_splits, n_repeats=outer_cv_repeats, random_state=3)\n",
    "\n",
    "    outer_scores = []\n",
    "    for train_index, test_index in outer_cv.split(X):\n",
    "        X_train, X_test = X.iloc[train_index], X.iloc[test_index]\n",
    "        y_train, y_test = y[train_index], y[test_index]\n",
    "\n",
    "        # 使用SMOTE进行过采样\n",
    "        smote = SMOTE(random_state=1)\n",
    "        X_train_resampled, y_train_resampled = smote.fit_resample(X_train, y_train)\n",
    "\n",
    "        inner_cv = RepeatedKFold(n_splits=inner_cv_splits, random_state=1)\n",
    "        param_grid = {'var_smoothing': var_smoothing_options}\n",
    "        grid = GridSearchCV(GaussianNB(), param_grid, cv=inner_cv, scoring='accuracy')\n",
    "        grid.fit(X_train_resampled, y_train_resampled)\n",
    "\n",
    "        best_nb = grid.best_estimator_\n",
    "        test_accuracy = accuracy_score(y_test, best_nb.predict(X_test))\n",
    "        outer_scores.append(test_accuracy)\n",
    "\n",
    "    print(\"Average test accuracy: \", np.mean(outer_scores))\n",
    "    print(\"Test accuracy standard deviation: \", np.std(outer_scores))\n",
    "\n",
    "var_smoothing_options = np.logspace(0, -9, num=100)\n",
    "\n",
    "# 确保 X 和 y 已经定义\n",
    "evaluate_naive_bayes_with_nested_cv(X, y, var_smoothing_options, outer_cv_splits=5, outer_cv_repeats=3, inner_cv_splits=3)\n"
   ],
   "metadata": {
    "collapsed": false,
    "pycharm": {
     "name": "#%%\n"
    }
   }
  },
  {
   "cell_type": "code",
   "execution_count": 77,
   "metadata": {
    "pycharm": {
     "name": "#%%\n"
    }
   },
   "outputs": [
    {
     "data": {
      "text/html": [
       "<div>\n",
       "<style scoped>\n",
       "    .dataframe tbody tr th:only-of-type {\n",
       "        vertical-align: middle;\n",
       "    }\n",
       "\n",
       "    .dataframe tbody tr th {\n",
       "        vertical-align: top;\n",
       "    }\n",
       "\n",
       "    .dataframe thead th {\n",
       "        text-align: right;\n",
       "    }\n",
       "</style>\n",
       "<table border=\"1\" class=\"dataframe\">\n",
       "  <thead>\n",
       "    <tr style=\"text-align: right;\">\n",
       "      <th></th>\n",
       "      <th>song_popularity</th>\n",
       "      <th>song_duration_ms</th>\n",
       "      <th>acousticness</th>\n",
       "      <th>danceability</th>\n",
       "      <th>energy</th>\n",
       "      <th>instrumentalness</th>\n",
       "      <th>key</th>\n",
       "      <th>liveness</th>\n",
       "      <th>loudness</th>\n",
       "      <th>audio_mode</th>\n",
       "      <th>speechiness</th>\n",
       "      <th>tempo</th>\n",
       "      <th>time_signature</th>\n",
       "      <th>audio_valence</th>\n",
       "    </tr>\n",
       "  </thead>\n",
       "  <tbody>\n",
       "    <tr>\n",
       "      <th>0</th>\n",
       "      <td>73</td>\n",
       "      <td>262333.0</td>\n",
       "      <td>0.005520</td>\n",
       "      <td>0.496</td>\n",
       "      <td>0.682</td>\n",
       "      <td>0.000029</td>\n",
       "      <td>8</td>\n",
       "      <td>0.0589</td>\n",
       "      <td>27.810</td>\n",
       "      <td>1.0</td>\n",
       "      <td>0.0294</td>\n",
       "      <td>167.060</td>\n",
       "      <td>4.0</td>\n",
       "      <td>0.474</td>\n",
       "    </tr>\n",
       "    <tr>\n",
       "      <th>1</th>\n",
       "      <td>66</td>\n",
       "      <td>216933.0</td>\n",
       "      <td>0.010300</td>\n",
       "      <td>0.542</td>\n",
       "      <td>0.853</td>\n",
       "      <td>0.000000</td>\n",
       "      <td>3</td>\n",
       "      <td>0.1080</td>\n",
       "      <td>25.498</td>\n",
       "      <td>0.0</td>\n",
       "      <td>0.0498</td>\n",
       "      <td>105.256</td>\n",
       "      <td>4.0</td>\n",
       "      <td>0.370</td>\n",
       "    </tr>\n",
       "    <tr>\n",
       "      <th>2</th>\n",
       "      <td>76</td>\n",
       "      <td>231733.0</td>\n",
       "      <td>0.008170</td>\n",
       "      <td>0.737</td>\n",
       "      <td>0.463</td>\n",
       "      <td>0.447000</td>\n",
       "      <td>0</td>\n",
       "      <td>0.2550</td>\n",
       "      <td>24.077</td>\n",
       "      <td>1.0</td>\n",
       "      <td>0.0792</td>\n",
       "      <td>123.881</td>\n",
       "      <td>4.0</td>\n",
       "      <td>0.324</td>\n",
       "    </tr>\n",
       "    <tr>\n",
       "      <th>3</th>\n",
       "      <td>74</td>\n",
       "      <td>216933.0</td>\n",
       "      <td>0.026400</td>\n",
       "      <td>0.451</td>\n",
       "      <td>0.970</td>\n",
       "      <td>0.003550</td>\n",
       "      <td>0</td>\n",
       "      <td>0.1020</td>\n",
       "      <td>26.967</td>\n",
       "      <td>1.0</td>\n",
       "      <td>0.1070</td>\n",
       "      <td>122.444</td>\n",
       "      <td>4.0</td>\n",
       "      <td>0.198</td>\n",
       "    </tr>\n",
       "    <tr>\n",
       "      <th>4</th>\n",
       "      <td>56</td>\n",
       "      <td>223826.0</td>\n",
       "      <td>0.000954</td>\n",
       "      <td>0.447</td>\n",
       "      <td>0.766</td>\n",
       "      <td>0.000000</td>\n",
       "      <td>10</td>\n",
       "      <td>0.1130</td>\n",
       "      <td>26.840</td>\n",
       "      <td>1.0</td>\n",
       "      <td>0.0313</td>\n",
       "      <td>172.011</td>\n",
       "      <td>4.0</td>\n",
       "      <td>0.574</td>\n",
       "    </tr>\n",
       "    <tr>\n",
       "      <th>...</th>\n",
       "      <td>...</td>\n",
       "      <td>...</td>\n",
       "      <td>...</td>\n",
       "      <td>...</td>\n",
       "      <td>...</td>\n",
       "      <td>...</td>\n",
       "      <td>...</td>\n",
       "      <td>...</td>\n",
       "      <td>...</td>\n",
       "      <td>...</td>\n",
       "      <td>...</td>\n",
       "      <td>...</td>\n",
       "      <td>...</td>\n",
       "      <td>...</td>\n",
       "    </tr>\n",
       "    <tr>\n",
       "      <th>18641</th>\n",
       "      <td>60</td>\n",
       "      <td>159645.0</td>\n",
       "      <td>0.893000</td>\n",
       "      <td>0.500</td>\n",
       "      <td>0.151</td>\n",
       "      <td>0.000065</td>\n",
       "      <td>11</td>\n",
       "      <td>0.1110</td>\n",
       "      <td>15.798</td>\n",
       "      <td>1.0</td>\n",
       "      <td>0.0348</td>\n",
       "      <td>113.969</td>\n",
       "      <td>4.0</td>\n",
       "      <td>0.300</td>\n",
       "    </tr>\n",
       "    <tr>\n",
       "      <th>18642</th>\n",
       "      <td>60</td>\n",
       "      <td>205666.0</td>\n",
       "      <td>0.765000</td>\n",
       "      <td>0.495</td>\n",
       "      <td>0.161</td>\n",
       "      <td>0.000001</td>\n",
       "      <td>11</td>\n",
       "      <td>0.1050</td>\n",
       "      <td>17.827</td>\n",
       "      <td>0.0</td>\n",
       "      <td>0.0301</td>\n",
       "      <td>94.286</td>\n",
       "      <td>4.0</td>\n",
       "      <td>0.265</td>\n",
       "    </tr>\n",
       "    <tr>\n",
       "      <th>18643</th>\n",
       "      <td>23</td>\n",
       "      <td>182211.0</td>\n",
       "      <td>0.847000</td>\n",
       "      <td>0.719</td>\n",
       "      <td>0.325</td>\n",
       "      <td>0.000000</td>\n",
       "      <td>0</td>\n",
       "      <td>0.1250</td>\n",
       "      <td>19.683</td>\n",
       "      <td>1.0</td>\n",
       "      <td>0.0355</td>\n",
       "      <td>130.534</td>\n",
       "      <td>4.0</td>\n",
       "      <td>0.286</td>\n",
       "    </tr>\n",
       "    <tr>\n",
       "      <th>18644</th>\n",
       "      <td>55</td>\n",
       "      <td>352280.0</td>\n",
       "      <td>0.945000</td>\n",
       "      <td>0.488</td>\n",
       "      <td>0.326</td>\n",
       "      <td>0.015700</td>\n",
       "      <td>3</td>\n",
       "      <td>0.1190</td>\n",
       "      <td>19.885</td>\n",
       "      <td>1.0</td>\n",
       "      <td>0.0328</td>\n",
       "      <td>106.063</td>\n",
       "      <td>4.0</td>\n",
       "      <td>0.323</td>\n",
       "    </tr>\n",
       "    <tr>\n",
       "      <th>18645</th>\n",
       "      <td>60</td>\n",
       "      <td>193533.0</td>\n",
       "      <td>0.911000</td>\n",
       "      <td>0.640</td>\n",
       "      <td>0.381</td>\n",
       "      <td>0.000254</td>\n",
       "      <td>4</td>\n",
       "      <td>0.1040</td>\n",
       "      <td>20.115</td>\n",
       "      <td>1.0</td>\n",
       "      <td>0.0302</td>\n",
       "      <td>91.490</td>\n",
       "      <td>4.0</td>\n",
       "      <td>0.581</td>\n",
       "    </tr>\n",
       "  </tbody>\n",
       "</table>\n",
       "<p>18646 rows × 14 columns</p>\n",
       "</div>"
      ],
      "text/plain": [
       "       song_popularity  song_duration_ms  acousticness  danceability  energy  \\\n",
       "0                   73          262333.0      0.005520         0.496   0.682   \n",
       "1                   66          216933.0      0.010300         0.542   0.853   \n",
       "2                   76          231733.0      0.008170         0.737   0.463   \n",
       "3                   74          216933.0      0.026400         0.451   0.970   \n",
       "4                   56          223826.0      0.000954         0.447   0.766   \n",
       "...                ...               ...           ...           ...     ...   \n",
       "18641               60          159645.0      0.893000         0.500   0.151   \n",
       "18642               60          205666.0      0.765000         0.495   0.161   \n",
       "18643               23          182211.0      0.847000         0.719   0.325   \n",
       "18644               55          352280.0      0.945000         0.488   0.326   \n",
       "18645               60          193533.0      0.911000         0.640   0.381   \n",
       "\n",
       "       instrumentalness  key  liveness  loudness  audio_mode  speechiness  \\\n",
       "0              0.000029    8    0.0589    27.810         1.0       0.0294   \n",
       "1              0.000000    3    0.1080    25.498         0.0       0.0498   \n",
       "2              0.447000    0    0.2550    24.077         1.0       0.0792   \n",
       "3              0.003550    0    0.1020    26.967         1.0       0.1070   \n",
       "4              0.000000   10    0.1130    26.840         1.0       0.0313   \n",
       "...                 ...  ...       ...       ...         ...          ...   \n",
       "18641          0.000065   11    0.1110    15.798         1.0       0.0348   \n",
       "18642          0.000001   11    0.1050    17.827         0.0       0.0301   \n",
       "18643          0.000000    0    0.1250    19.683         1.0       0.0355   \n",
       "18644          0.015700    3    0.1190    19.885         1.0       0.0328   \n",
       "18645          0.000254    4    0.1040    20.115         1.0       0.0302   \n",
       "\n",
       "         tempo  time_signature  audio_valence  \n",
       "0      167.060             4.0          0.474  \n",
       "1      105.256             4.0          0.370  \n",
       "2      123.881             4.0          0.324  \n",
       "3      122.444             4.0          0.198  \n",
       "4      172.011             4.0          0.574  \n",
       "...        ...             ...            ...  \n",
       "18641  113.969             4.0          0.300  \n",
       "18642   94.286             4.0          0.265  \n",
       "18643  130.534             4.0          0.286  \n",
       "18644  106.063             4.0          0.323  \n",
       "18645   91.490             4.0          0.581  \n",
       "\n",
       "[18646 rows x 14 columns]"
      ]
     },
     "execution_count": 77,
     "metadata": {},
     "output_type": "execute_result"
    }
   ],
   "source": [
    "X"
   ]
  },
  {
   "cell_type": "code",
   "execution_count": 63,
   "metadata": {
    "pycharm": {
     "name": "#%%\n"
    }
   },
   "outputs": [],
   "source": [
    "Naive_bayes_score=nb.score(x_test,y_test)"
   ]
  },
  {
   "cell_type": "markdown",
   "metadata": {
    "id": "mbHkz4hX974T",
    "pycharm": {
     "name": "#%% md\n"
    }
   },
   "source": [
    "\n",
    "# KNN Algorithm"
   ]
  },
  {
   "cell_type": "code",
   "execution_count": 55,
   "metadata": {
    "colab": {
     "base_uri": "https://localhost:8080/"
    },
    "id": "DwJWOjAE9UEB",
    "outputId": "047c9724-afbd-40c8-8868-f154724c59b7",
    "pycharm": {
     "name": "#%%\n"
    }
   },
   "outputs": [
    {
     "name": "stdout",
     "output_type": "stream",
     "text": [
      "Prediction: [1 0 0 ... 0 0 0]\n"
     ]
    }
   ],
   "source": [
    "# KNN prediction\n",
    "from sklearn.neighbors import KNeighborsClassifier\n",
    "knn = KNeighborsClassifier(n_neighbors = 3)\n",
    "x,y = song_data.loc[:,song_data.columns != 'popularity'], song_data.loc[:,'popularity']\n",
    "y=y.astype(int)\n",
    "knn.fit(x,y)\n",
    "prediction = knn.predict(x)\n",
    "print('Prediction: {}'.format(prediction))"
   ]
  },
  {
   "cell_type": "code",
   "execution_count": 56,
   "metadata": {
    "colab": {
     "base_uri": "https://localhost:8080/"
    },
    "id": "JYDv8YAp9UGx",
    "outputId": "5dafbae8-1a0a-4197-9465-5d5b9da0a7c9",
    "pycharm": {
     "name": "#%%\n"
    }
   },
   "outputs": [
    {
     "name": "stdout",
     "output_type": "stream",
     "text": [
      "With KNN (K=3) train accuracy is:  0.9946907353331563\n",
      "With KNN (K=3) test accuracy is:  0.7860366339262013\n"
     ]
    }
   ],
   "source": [
    "#KNN Test\n",
    "knn = KNeighborsClassifier(n_neighbors = 1)\n",
    "knn.fit(x_train,y_train)\n",
    "prediction = knn.predict(x_test)\n",
    "print('With KNN (K=3) train accuracy is: ',knn.score(x_train,y_train))\n",
    "print('With KNN (K=3) test accuracy is: ',knn.score(x_test,y_test))"
   ]
  },
  {
   "cell_type": "code",
   "execution_count": 57,
   "metadata": {
    "colab": {
     "background_save": true
    },
    "id": "toxGcQmz9UJQ",
    "outputId": "888fd65f-e011-4f6e-adc2-f84cdb282530",
    "pycharm": {
     "name": "#%%\n"
    }
   },
   "outputs": [
    {
     "data": {
      "image/png": "[encoded data removed]",
      "text/plain": [
       "<Figure size 720x432 with 1 Axes>"
      ]
     },
     "metadata": {
      "needs_background": "light"
     },
     "output_type": "display_data"
    },
    {
     "name": "stdout",
     "output_type": "stream",
     "text": [
      "Best accuracy is 0.7860366339262013 with K = 1\n"
     ]
    }
   ],
   "source": [
    "neig = np.arange(1, 25)\n",
    "train_accuracy = []\n",
    "test_accuracy = []\n",
    "\n",
    "for i, k in enumerate(neig):\n",
    "    knn = KNeighborsClassifier(n_neighbors=k)\n",
    "    knn.fit(x_train,y_train)\n",
    "    train_accuracy.append(knn.score(x_train, y_train))\n",
    "    test_accuracy.append(knn.score(x_test, y_test))\n",
    "\n",
    "plt.figure(figsize=[10,6])\n",
    "plt.plot(neig, test_accuracy, label = 'Testing Accuracy')\n",
    "plt.plot(neig, train_accuracy, label = 'Training Accuracy')\n",
    "plt.legend()\n",
    "plt.title('Knn k value VS Accuracy')\n",
    "plt.xlabel('Number of Neighbors')\n",
    "plt.ylabel('Accuracy')\n",
    "plt.xticks(neig)\n",
    "plt.savefig('graph.png')\n",
    "plt.show()\n",
    "print(\"Best accuracy is {} with K = {}\".format(np.max(test_accuracy),1+test_accuracy.index(np.max(test_accuracy))))"
   ]
  },
  {
   "cell_type": "code",
   "execution_count": 58,
   "metadata": {
    "colab": {
     "background_save": true
    },
    "id": "5s6oOwxiGGBp",
    "outputId": "73916ecf-6625-46e5-f2a1-c9688500cba2",
    "pycharm": {
     "name": "#%%\n"
    }
   },
   "outputs": [
    {
     "name": "stdout",
     "output_type": "stream",
     "text": [
      "Cross_val Scores:  [0.71532847 0.72395488 0.70537492 0.70670206 0.71665561 0.70736563\n",
      " 0.71400133 0.7146649  0.7124834  0.70783533]\n",
      "Cross_val scores average:  0.7124366502140079\n"
     ]
    }
   ],
   "source": [
    "from sklearn.model_selection import cross_val_score\n",
    "k = 10\n",
    "cv_result = cross_val_score(knn,x_train,y_train,cv=k)\n",
    "cv_result_knn=np.sum(cv_result)/k\n",
    "print('Cross_val Scores: ',cv_result)\n",
    "print('Cross_val scores average: ',np.sum(cv_result)/k)"
   ]
  },
  {
   "cell_type": "code",
   "execution_count": 59,
   "metadata": {
    "colab": {
     "background_save": true
    },
    "id": "lH6V5hfVGGER",
    "outputId": "e3ce4e66-a513-414e-d6b1-9371a66dda01",
    "pycharm": {
     "name": "#%%\n"
    }
   },
   "outputs": [
    {
     "name": "stdout",
     "output_type": "stream",
     "text": [
      "Tuned hyperparameter k: {'n_neighbors': 2}\n",
      "Best accuracy: 0.7769594531094316\n"
     ]
    }
   ],
   "source": [
    "from sklearn.model_selection import GridSearchCV\n",
    "grid = {'n_neighbors': np.arange(1,50)}\n",
    "knn = KNeighborsClassifier()\n",
    "knn_cv = GridSearchCV(knn, grid, cv=3)\n",
    "knn_cv.fit(x,y)\n",
    "print(\"Tuned hyperparameter k: {}\".format(knn_cv.best_params_))\n",
    "print(\"Best accuracy: {}\".format(knn_cv.best_score_))"
   ]
  },
  {
   "cell_type": "code",
   "execution_count": 60,
   "metadata": {
    "colab": {
     "background_save": true
    },
    "id": "JnHHySIWGGGw",
    "pycharm": {
     "name": "#%%\n"
    }
   },
   "outputs": [],
   "source": [
    "KKN_Score= max(test_accuracy)\n",
    "CrossVal_KKN_Score=cv_result_knn"
   ]
  }
 ],
 "metadata": {
  "colab": {
   "provenance": []
  },
  "kernelspec": {
   "display_name": "Python 3 (ipykernel)",
   "language": "python",
   "name": "python3"
  },
  "language_info": {
   "codemirror_mode": {
    "name": "ipython",
    "version": 3
   },
   "file_extension": ".py",
   "mimetype": "text/x-python",
   "name": "python",
   "nbconvert_exporter": "python",
   "pygments_lexer": "ipython3",
   "version": "3.9.7"
  }
 },
 "nbformat": 4,
 "nbformat_minor": 1
}